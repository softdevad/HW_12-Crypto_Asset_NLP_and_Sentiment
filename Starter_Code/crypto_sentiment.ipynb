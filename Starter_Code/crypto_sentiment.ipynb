{
 "cells": [
  {
   "cell_type": "markdown",
   "metadata": {},
   "source": [
    "# Unit 12 - Tales from the Crypto\n",
    "\n",
    "---\n"
   ]
  },
  {
   "cell_type": "markdown",
   "metadata": {},
   "source": [
    "## 1. Sentiment Analysis\n",
    "\n",
    "Use the [newsapi](https://newsapi.org/) to pull the latest news articles for Bitcoin and Ethereum and create a DataFrame of sentiment scores for each coin.\n",
    "\n",
    "Use descriptive statistics to answer the following questions:\n",
    "1. Which coin had the highest mean positive score?\n",
    "2. Which coin had the highest negative score?\n",
    "3. Which coin had the highest positive score?"
   ]
  },
  {
   "cell_type": "code",
   "execution_count": 1,
   "metadata": {},
   "outputs": [
    {
     "name": "stderr",
     "output_type": "stream",
     "text": [
      "[nltk_data] Downloading package vader_lexicon to\n",
      "[nltk_data]     C:\\Users\\erikl\\AppData\\Roaming\\nltk_data...\n",
      "[nltk_data]   Package vader_lexicon is already up-to-date!\n"
     ]
    }
   ],
   "source": [
    "# Initial imports\n",
    "import os\n",
    "import pandas as pd\n",
    "from dotenv import load_dotenv\n",
    "import re\n",
    "import string\n",
    "import nltk as nltk\n",
    "nltk.download('vader_lexicon')\n",
    "from nltk.sentiment.vader import SentimentIntensityAnalyzer\n",
    "analyzer = SentimentIntensityAnalyzer()\n",
    "from newsapi.newsapi_client import NewsApiClient\n",
    "from datetime import datetime, timedelta\n",
    "\n",
    "%matplotlib inline"
   ]
  },
  {
   "cell_type": "code",
   "execution_count": 2,
   "metadata": {},
   "outputs": [
    {
     "data": {
      "text/plain": [
       "True"
      ]
     },
     "execution_count": 2,
     "metadata": {},
     "output_type": "execute_result"
    }
   ],
   "source": [
    "load_dotenv()"
   ]
  },
  {
   "cell_type": "code",
   "execution_count": 3,
   "metadata": {},
   "outputs": [],
   "source": [
    "# Read your api key environment variable\n",
    "api_key = os.getenv('NEWS_API_KEY')"
   ]
  },
  {
   "cell_type": "code",
   "execution_count": 4,
   "metadata": {},
   "outputs": [
    {
     "data": {
      "text/plain": [
       "str"
      ]
     },
     "execution_count": 4,
     "metadata": {},
     "output_type": "execute_result"
    }
   ],
   "source": [
    "type(api_key)"
   ]
  },
  {
   "cell_type": "code",
   "execution_count": 5,
   "metadata": {
    "tags": []
   },
   "outputs": [],
   "source": [
    "# Create a newsapi client\n",
    "newsapi = NewsApiClient(api_key)"
   ]
  },
  {
   "cell_type": "code",
   "execution_count": 6,
   "metadata": {},
   "outputs": [
    {
     "data": {
      "text/plain": [
       "newsapi.newsapi_client.NewsApiClient"
      ]
     },
     "execution_count": 6,
     "metadata": {},
     "output_type": "execute_result"
    }
   ],
   "source": [
    "type(newsapi)"
   ]
  },
  {
   "cell_type": "code",
   "execution_count": 7,
   "metadata": {},
   "outputs": [
    {
     "data": {
      "text/plain": [
       "<newsapi.newsapi_client.NewsApiClient at 0x1d70afcdc08>"
      ]
     },
     "execution_count": 7,
     "metadata": {},
     "output_type": "execute_result"
    }
   ],
   "source": [
    "newsapi"
   ]
  },
  {
   "cell_type": "code",
   "execution_count": 8,
   "metadata": {},
   "outputs": [
    {
     "name": "stdout",
     "output_type": "stream",
     "text": [
      "2021-09-26T12:55:40.848063-04:00\n"
     ]
    }
   ],
   "source": [
    "# Find the Current Date Time\n",
    "current_date = pd.Timestamp(datetime.now(), tz=\"America/New_York\").isoformat()\n",
    "print(current_date)"
   ]
  },
  {
   "cell_type": "code",
   "execution_count": 9,
   "metadata": {},
   "outputs": [
    {
     "name": "stdout",
     "output_type": "stream",
     "text": [
      "2021-09-25T12:55:42.677191-04:00\n"
     ]
    }
   ],
   "source": [
    "# Find the Past Date from 24 hours ago\n",
    "past24hr_date = pd.Timestamp(datetime.now() - timedelta(hours=24), tz=\"America/New_York\").isoformat()\n",
    "print(past24hr_date)"
   ]
  },
  {
   "cell_type": "code",
   "execution_count": 10,
   "metadata": {},
   "outputs": [
    {
     "name": "stdout",
     "output_type": "stream",
     "text": [
      "2021-09-26 12:55:17\n"
     ]
    }
   ],
   "source": [
    "# Checking for the correct datetime format:\n",
    "test_date = datetime.strptime(current_date[:19], \"%Y-%m-%dT%H:%M:%S\")\n",
    "print(test_date)"
   ]
  },
  {
   "cell_type": "code",
   "execution_count": 11,
   "metadata": {},
   "outputs": [],
   "source": [
    "# Create a Function for Fetching News:\n",
    "def get_articles(keyword):\n",
    "    all_headlines = []\n",
    "    all_datetime=[]\n",
    "    all_descriptions=[]\n",
    "    all_urls=[]\n",
    "    all_content=[]\n",
    "    date = datetime.strptime(current_date[:19], \"%Y-%m-%dT%H:%M:%S\")\n",
    "    end_date = datetime.strptime(past24hr_date[:19], \"%Y-%m-%dT%H:%M:%S\")\n",
    "    print(f\"Fetching news about '{keyword}'\")\n",
    "    print(\"*\" * 30)\n",
    "    if date > end_date:\n",
    "        print(f\"retrieving news from: {date}\")\n",
    "        articles = newsapi.get_everything(\n",
    "            q=keyword,\n",
    "            from_param=str(end_date),\n",
    "            to=str(date),\n",
    "            language=\"en\",\n",
    "#             page_size=100,\n",
    "            sort_by=\"relevancy\",\n",
    "            page=1,\n",
    "            )\n",
    "#         headlines=[]\n",
    "        for i in range(0, len(articles[\"articles\"])):\n",
    "            all_headlines.append(articles[\"articles\"][i][\"title\"])\n",
    "            all_datetime.append(articles[\"articles\"][i][\"publishedAt\"])\n",
    "            all_descriptions.append(articles[\"articles\"][i][\"description\"])\n",
    "            all_urls.append(articles[\"articles\"][i][\"url\"])\n",
    "            all_content.append(articles[\"articles\"][i][\"content\"])\n",
    "    \n",
    "    article_df = pd.concat([pd.Series(all_headlines), pd.Series(all_datetime), pd.Series(all_urls), pd.Series(all_descriptions), pd.Series(all_content)], axis=1)\n",
    "    article_df.rename({0:'Headlines', 1:'Date_Time', 2:'URL', 3:'Description', 4:'Content'}, axis=1, inplace=True)\n",
    "    return article_df"
   ]
  },
  {
   "cell_type": "markdown",
   "metadata": {},
   "source": [
    "## Analyzing Bitcoin Sentiment:"
   ]
  },
  {
   "cell_type": "code",
   "execution_count": 12,
   "metadata": {},
   "outputs": [
    {
     "name": "stdout",
     "output_type": "stream",
     "text": [
      "Fetching news about 'bitcoin'\n",
      "******************************\n",
      "retrieving news from: 2021-09-26 12:55:17\n"
     ]
    }
   ],
   "source": [
    "# Fetch the Bitcoin news articles\n",
    "btc_articles_df = get_articles(\"bitcoin\")"
   ]
  },
  {
   "cell_type": "code",
   "execution_count": 11,
   "metadata": {},
   "outputs": [],
   "source": [
    "btc_articles_df = pd.read_csv('btc_articles_df_2021-09-26.csv')"
   ]
  },
  {
   "cell_type": "code",
   "execution_count": 12,
   "metadata": {},
   "outputs": [
    {
     "data": {
      "text/plain": [
       "(20, 10)"
      ]
     },
     "execution_count": 12,
     "metadata": {},
     "output_type": "execute_result"
    }
   ],
   "source": [
    "btc_articles_df.shape"
   ]
  },
  {
   "cell_type": "code",
   "execution_count": 13,
   "metadata": {},
   "outputs": [
    {
     "data": {
      "text/html": [
       "<div>\n",
       "<style scoped>\n",
       "    .dataframe tbody tr th:only-of-type {\n",
       "        vertical-align: middle;\n",
       "    }\n",
       "\n",
       "    .dataframe tbody tr th {\n",
       "        vertical-align: top;\n",
       "    }\n",
       "\n",
       "    .dataframe thead th {\n",
       "        text-align: right;\n",
       "    }\n",
       "</style>\n",
       "<table border=\"1\" class=\"dataframe\">\n",
       "  <thead>\n",
       "    <tr style=\"text-align: right;\">\n",
       "      <th></th>\n",
       "      <th>Unnamed: 0</th>\n",
       "      <th>Headlines</th>\n",
       "      <th>Date_Time</th>\n",
       "      <th>URL</th>\n",
       "      <th>Description</th>\n",
       "      <th>Content</th>\n",
       "      <th>Compound Sentiment</th>\n",
       "      <th>Positive Sentiment</th>\n",
       "      <th>Neutral Sentiment</th>\n",
       "      <th>Negative Sentiment</th>\n",
       "    </tr>\n",
       "  </thead>\n",
       "  <tbody>\n",
       "    <tr>\n",
       "      <th>0</th>\n",
       "      <td>0</td>\n",
       "      <td>Hitting the Books: How Bitcoin is somehow wort...</td>\n",
       "      <td>2021-09-25T15:30:24Z</td>\n",
       "      <td>https://www.engadget.com/hitting-the-books-the...</td>\n",
       "      <td>Bitcoin and similar blockchain-based cryptos e...</td>\n",
       "      <td>Bitcoin and similar blockchain-based cryptos e...</td>\n",
       "      <td>0.3400</td>\n",
       "      <td>0.058</td>\n",
       "      <td>0.942</td>\n",
       "      <td>0.000</td>\n",
       "    </tr>\n",
       "    <tr>\n",
       "      <th>1</th>\n",
       "      <td>1</td>\n",
       "      <td>26,000 and Counting: America is Installing Hun...</td>\n",
       "      <td>2021-09-26T03:34:00Z</td>\n",
       "      <td>https://news.slashdot.org/story/21/09/26/02520...</td>\n",
       "      <td>The cryptocurrency-ATM company Coinmover has o...</td>\n",
       "      <td>The cryptocurrency-ATM company Coinmover has o...</td>\n",
       "      <td>0.0000</td>\n",
       "      <td>0.000</td>\n",
       "      <td>1.000</td>\n",
       "      <td>0.000</td>\n",
       "    </tr>\n",
       "    <tr>\n",
       "      <th>2</th>\n",
       "      <td>2</td>\n",
       "      <td>VoIP.ms Battles Week-Long Sustained DDoS-for-R...</td>\n",
       "      <td>2021-09-26T01:34:00Z</td>\n",
       "      <td>https://tech.slashdot.org/story/21/09/26/00142...</td>\n",
       "      <td>Slashdot reader Striek writes: VoIP.ms, a Cana...</td>\n",
       "      <td>VoIP.ms, a Canadian VoIP provider [also servin...</td>\n",
       "      <td>-0.8176</td>\n",
       "      <td>0.000</td>\n",
       "      <td>0.813</td>\n",
       "      <td>0.187</td>\n",
       "    </tr>\n",
       "    <tr>\n",
       "      <th>3</th>\n",
       "      <td>3</td>\n",
       "      <td>Cryptocurrency exchange Huobi to clean up exis...</td>\n",
       "      <td>2021-09-26T09:23:00Z</td>\n",
       "      <td>https://www.reuters.com/world/china/cryptocurr...</td>\n",
       "      <td>Chinese cryptocurrency exchange Huobi Global s...</td>\n",
       "      <td>A Chinese flag is seen among representations o...</td>\n",
       "      <td>-0.2263</td>\n",
       "      <td>0.000</td>\n",
       "      <td>0.947</td>\n",
       "      <td>0.053</td>\n",
       "    </tr>\n",
       "    <tr>\n",
       "      <th>4</th>\n",
       "      <td>4</td>\n",
       "      <td>110,000 Affected by Epik Breach - Including Th...</td>\n",
       "      <td>2021-09-25T22:34:00Z</td>\n",
       "      <td>https://yro.slashdot.org/story/21/09/25/153423...</td>\n",
       "      <td>Epik's massive data breach is already affectin...</td>\n",
       "      <td>Epik's massive data breach is already affectin...</td>\n",
       "      <td>0.6361</td>\n",
       "      <td>0.095</td>\n",
       "      <td>0.905</td>\n",
       "      <td>0.000</td>\n",
       "    </tr>\n",
       "  </tbody>\n",
       "</table>\n",
       "</div>"
      ],
      "text/plain": [
       "   Unnamed: 0                                          Headlines  \\\n",
       "0           0  Hitting the Books: How Bitcoin is somehow wort...   \n",
       "1           1  26,000 and Counting: America is Installing Hun...   \n",
       "2           2  VoIP.ms Battles Week-Long Sustained DDoS-for-R...   \n",
       "3           3  Cryptocurrency exchange Huobi to clean up exis...   \n",
       "4           4  110,000 Affected by Epik Breach - Including Th...   \n",
       "\n",
       "              Date_Time                                                URL  \\\n",
       "0  2021-09-25T15:30:24Z  https://www.engadget.com/hitting-the-books-the...   \n",
       "1  2021-09-26T03:34:00Z  https://news.slashdot.org/story/21/09/26/02520...   \n",
       "2  2021-09-26T01:34:00Z  https://tech.slashdot.org/story/21/09/26/00142...   \n",
       "3  2021-09-26T09:23:00Z  https://www.reuters.com/world/china/cryptocurr...   \n",
       "4  2021-09-25T22:34:00Z  https://yro.slashdot.org/story/21/09/25/153423...   \n",
       "\n",
       "                                         Description  \\\n",
       "0  Bitcoin and similar blockchain-based cryptos e...   \n",
       "1  The cryptocurrency-ATM company Coinmover has o...   \n",
       "2  Slashdot reader Striek writes: VoIP.ms, a Cana...   \n",
       "3  Chinese cryptocurrency exchange Huobi Global s...   \n",
       "4  Epik's massive data breach is already affectin...   \n",
       "\n",
       "                                             Content  Compound Sentiment  \\\n",
       "0  Bitcoin and similar blockchain-based cryptos e...              0.3400   \n",
       "1  The cryptocurrency-ATM company Coinmover has o...              0.0000   \n",
       "2  VoIP.ms, a Canadian VoIP provider [also servin...             -0.8176   \n",
       "3  A Chinese flag is seen among representations o...             -0.2263   \n",
       "4  Epik's massive data breach is already affectin...              0.6361   \n",
       "\n",
       "   Positive Sentiment  Neutral Sentiment  Negative Sentiment  \n",
       "0               0.058              0.942               0.000  \n",
       "1               0.000              1.000               0.000  \n",
       "2               0.000              0.813               0.187  \n",
       "3               0.000              0.947               0.053  \n",
       "4               0.095              0.905               0.000  "
      ]
     },
     "execution_count": 13,
     "metadata": {},
     "output_type": "execute_result"
    }
   ],
   "source": [
    "btc_articles_df.head()"
   ]
  },
  {
   "cell_type": "code",
   "execution_count": 14,
   "metadata": {
    "tags": []
   },
   "outputs": [
    {
     "data": {
      "text/plain": [
       "'Bitcoin and similar blockchain-based cryptos exhibit the same radical divergence from traditional scarcity economics that we first saw when MP3s and Napster cratered physical album sales at the turn … [+8436 chars]'"
      ]
     },
     "execution_count": 14,
     "metadata": {},
     "output_type": "execute_result"
    }
   ],
   "source": [
    "btc_articles_df.loc[0]['Content']"
   ]
  },
  {
   "cell_type": "code",
   "execution_count": 15,
   "metadata": {},
   "outputs": [
    {
     "data": {
      "text/plain": [
       "'Bitcoin and similar blockchain-based cryptos exhibit the same radical divergence from traditional scarcity economics that we first saw when MP3s and Napster cratered physical album sales at the turn of the century. Unlike gold, which derives its value from bo…'"
      ]
     },
     "execution_count": 15,
     "metadata": {},
     "output_type": "execute_result"
    }
   ],
   "source": [
    "btc_articles_df.loc[0]['Description']"
   ]
  },
  {
   "cell_type": "code",
   "execution_count": 16,
   "metadata": {},
   "outputs": [
    {
     "data": {
      "text/plain": [
       "\"Hitting the Books: How Bitcoin is somehow worth more than the paper it's printed on\""
      ]
     },
     "execution_count": 16,
     "metadata": {},
     "output_type": "execute_result"
    }
   ],
   "source": [
    "btc_articles_df.loc[0]['Headlines']"
   ]
  },
  {
   "cell_type": "code",
   "execution_count": 17,
   "metadata": {},
   "outputs": [
    {
     "data": {
      "text/plain": [
       "'A Chinese flag is seen among representations of Bitcoin and other cryptocurrencies in this illustration picture taken June 2, 2021. REUTERS/Florence Lo/Illustration/File PhotoBEIJING, Sept 26 (Reuter… [+726 chars]'"
      ]
     },
     "execution_count": 17,
     "metadata": {},
     "output_type": "execute_result"
    }
   ],
   "source": [
    "btc_articles_df.loc[3]['Content']"
   ]
  },
  {
   "cell_type": "code",
   "execution_count": 18,
   "metadata": {},
   "outputs": [
    {
     "data": {
      "text/plain": [
       "'Chinese cryptocurrency exchange Huobi Global said on Sunday it had stopped taking new mainland customers from Friday and would end contracts with mainland clients by the end of the year to comply with local regulations.'"
      ]
     },
     "execution_count": 18,
     "metadata": {},
     "output_type": "execute_result"
    }
   ],
   "source": [
    "btc_articles_df.loc[3]['Description']"
   ]
  },
  {
   "cell_type": "code",
   "execution_count": 19,
   "metadata": {},
   "outputs": [
    {
     "data": {
      "text/plain": [
       "'Cryptocurrency exchange Huobi to clean up existing mainland clients by end-2021 - Reuters'"
      ]
     },
     "execution_count": 19,
     "metadata": {},
     "output_type": "execute_result"
    }
   ],
   "source": [
    "btc_articles_df.loc[3]['Headlines']"
   ]
  },
  {
   "cell_type": "markdown",
   "metadata": {},
   "source": [
    "### Clean the Text:"
   ]
  },
  {
   "cell_type": "code",
   "execution_count": 20,
   "metadata": {},
   "outputs": [],
   "source": [
    "def clean_text(text):\n",
    "#     regex = re.compile('[%s]' % re.escape(string.punctuation))\n",
    "    regex = re.compile(\"[^a-zA-Z ]\")\n",
    "    re_clean = regex.sub('', text)\n",
    "    return re_clean"
   ]
  },
  {
   "cell_type": "code",
   "execution_count": 21,
   "metadata": {},
   "outputs": [],
   "source": [
    "test_clean = clean_text(btc_articles_df.loc[3]['Description'])"
   ]
  },
  {
   "cell_type": "code",
   "execution_count": 22,
   "metadata": {},
   "outputs": [
    {
     "data": {
      "text/plain": [
       "str"
      ]
     },
     "execution_count": 22,
     "metadata": {},
     "output_type": "execute_result"
    }
   ],
   "source": [
    "type(test_clean)"
   ]
  },
  {
   "cell_type": "code",
   "execution_count": 23,
   "metadata": {},
   "outputs": [
    {
     "data": {
      "text/plain": [
       "'Chinese cryptocurrency exchange Huobi Global said on Sunday it had stopped taking new mainland customers from Friday and would end contracts with mainland clients by the end of the year to comply with local regulations'"
      ]
     },
     "execution_count": 23,
     "metadata": {},
     "output_type": "execute_result"
    }
   ],
   "source": [
    "test_clean"
   ]
  },
  {
   "cell_type": "code",
   "execution_count": 24,
   "metadata": {},
   "outputs": [],
   "source": [
    "# Lambda function of \"clean_text()\" for use with apply\n",
    "text_cleaner = lambda x: clean_text(x)"
   ]
  },
  {
   "cell_type": "code",
   "execution_count": 25,
   "metadata": {},
   "outputs": [
    {
     "data": {
      "text/html": [
       "<div>\n",
       "<style scoped>\n",
       "    .dataframe tbody tr th:only-of-type {\n",
       "        vertical-align: middle;\n",
       "    }\n",
       "\n",
       "    .dataframe tbody tr th {\n",
       "        vertical-align: top;\n",
       "    }\n",
       "\n",
       "    .dataframe thead th {\n",
       "        text-align: right;\n",
       "    }\n",
       "</style>\n",
       "<table border=\"1\" class=\"dataframe\">\n",
       "  <thead>\n",
       "    <tr style=\"text-align: right;\">\n",
       "      <th></th>\n",
       "      <th>Description</th>\n",
       "    </tr>\n",
       "  </thead>\n",
       "  <tbody>\n",
       "    <tr>\n",
       "      <th>0</th>\n",
       "      <td>Bitcoin and similar blockchainbased cryptos ex...</td>\n",
       "    </tr>\n",
       "    <tr>\n",
       "      <th>1</th>\n",
       "      <td>The cryptocurrencyATM company Coinmover has ov...</td>\n",
       "    </tr>\n",
       "    <tr>\n",
       "      <th>2</th>\n",
       "      <td>Slashdot reader Striek writes VoIPms a Canadia...</td>\n",
       "    </tr>\n",
       "    <tr>\n",
       "      <th>3</th>\n",
       "      <td>Chinese cryptocurrency exchange Huobi Global s...</td>\n",
       "    </tr>\n",
       "    <tr>\n",
       "      <th>4</th>\n",
       "      <td>Epiks massive data breach is already affecting...</td>\n",
       "    </tr>\n",
       "    <tr>\n",
       "      <th>5</th>\n",
       "      <td>Financial insecurity is influencing young inve...</td>\n",
       "    </tr>\n",
       "    <tr>\n",
       "      <th>6</th>\n",
       "      <td>Ahead of Chinas latest bitcoin and crypto crac...</td>\n",
       "    </tr>\n",
       "    <tr>\n",
       "      <th>7</th>\n",
       "      <td>After three years together as well as having a...</td>\n",
       "    </tr>\n",
       "    <tr>\n",
       "      <th>8</th>\n",
       "      <td>A move by Chinas central bank to criminalize a...</td>\n",
       "    </tr>\n",
       "    <tr>\n",
       "      <th>9</th>\n",
       "      <td>By integrating direct bitcoin payments Twitter...</td>\n",
       "    </tr>\n",
       "    <tr>\n",
       "      <th>10</th>\n",
       "      <td>This month we had some good news too for BTC E...</td>\n",
       "    </tr>\n",
       "    <tr>\n",
       "      <th>11</th>\n",
       "      <td>olliWhy Bitcoin Ethereum And Dogecoin Could Be...</td>\n",
       "    </tr>\n",
       "    <tr>\n",
       "      <th>12</th>\n",
       "      <td>Mining the top cryptocurrencies such as Bitcoi...</td>\n",
       "    </tr>\n",
       "    <tr>\n",
       "      <th>13</th>\n",
       "      <td>Bloomberg  Two of the worlds largest Bitcoin e...</td>\n",
       "    </tr>\n",
       "    <tr>\n",
       "      <th>14</th>\n",
       "      <td>The rise of these central bank digital currenc...</td>\n",
       "    </tr>\n",
       "    <tr>\n",
       "      <th>15</th>\n",
       "      <td>Number Go Up means hyperbitcoinization comes f...</td>\n",
       "    </tr>\n",
       "    <tr>\n",
       "      <th>16</th>\n",
       "      <td>Previously on Terence Edens Blog I turned an o...</td>\n",
       "    </tr>\n",
       "    <tr>\n",
       "      <th>17</th>\n",
       "      <td>Finding it difficult to process the digital cu...</td>\n",
       "    </tr>\n",
       "    <tr>\n",
       "      <th>18</th>\n",
       "      <td>El Salvadors president is consolidating power ...</td>\n",
       "    </tr>\n",
       "    <tr>\n",
       "      <th>19</th>\n",
       "      <td>olliDogecoin Bitcoin Ethereum See Buying Oppor...</td>\n",
       "    </tr>\n",
       "  </tbody>\n",
       "</table>\n",
       "</div>"
      ],
      "text/plain": [
       "                                          Description\n",
       "0   Bitcoin and similar blockchainbased cryptos ex...\n",
       "1   The cryptocurrencyATM company Coinmover has ov...\n",
       "2   Slashdot reader Striek writes VoIPms a Canadia...\n",
       "3   Chinese cryptocurrency exchange Huobi Global s...\n",
       "4   Epiks massive data breach is already affecting...\n",
       "5   Financial insecurity is influencing young inve...\n",
       "6   Ahead of Chinas latest bitcoin and crypto crac...\n",
       "7   After three years together as well as having a...\n",
       "8   A move by Chinas central bank to criminalize a...\n",
       "9   By integrating direct bitcoin payments Twitter...\n",
       "10  This month we had some good news too for BTC E...\n",
       "11  olliWhy Bitcoin Ethereum And Dogecoin Could Be...\n",
       "12  Mining the top cryptocurrencies such as Bitcoi...\n",
       "13  Bloomberg  Two of the worlds largest Bitcoin e...\n",
       "14  The rise of these central bank digital currenc...\n",
       "15  Number Go Up means hyperbitcoinization comes f...\n",
       "16  Previously on Terence Edens Blog I turned an o...\n",
       "17  Finding it difficult to process the digital cu...\n",
       "18  El Salvadors president is consolidating power ...\n",
       "19  olliDogecoin Bitcoin Ethereum See Buying Oppor..."
      ]
     },
     "execution_count": 25,
     "metadata": {},
     "output_type": "execute_result"
    }
   ],
   "source": [
    "# Review updated text:\n",
    "btc_clean = pd.DataFrame(btc_articles_df['Description'].apply(text_cleaner))\n",
    "btc_clean"
   ]
  },
  {
   "cell_type": "code",
   "execution_count": null,
   "metadata": {},
   "outputs": [],
   "source": []
  },
  {
   "cell_type": "code",
   "execution_count": 26,
   "metadata": {},
   "outputs": [],
   "source": [
    "# Function to get compound sentiments\n",
    "def get_compound_sentiment(content):\n",
    "    sentiment = analyzer.polarity_scores(content)\n",
    "    compound = sentiment[\"compound\"]\n",
    "    return compound\n",
    "get_compoundScore = lambda x: get_compound_sentiment(x)"
   ]
  },
  {
   "cell_type": "code",
   "execution_count": 27,
   "metadata": {},
   "outputs": [
    {
     "data": {
      "text/html": [
       "<div>\n",
       "<style scoped>\n",
       "    .dataframe tbody tr th:only-of-type {\n",
       "        vertical-align: middle;\n",
       "    }\n",
       "\n",
       "    .dataframe tbody tr th {\n",
       "        vertical-align: top;\n",
       "    }\n",
       "\n",
       "    .dataframe thead th {\n",
       "        text-align: right;\n",
       "    }\n",
       "</style>\n",
       "<table border=\"1\" class=\"dataframe\">\n",
       "  <thead>\n",
       "    <tr style=\"text-align: right;\">\n",
       "      <th></th>\n",
       "      <th>Unnamed: 0</th>\n",
       "      <th>Headlines</th>\n",
       "      <th>Date_Time</th>\n",
       "      <th>URL</th>\n",
       "      <th>Description</th>\n",
       "      <th>Content</th>\n",
       "      <th>Compound Sentiment</th>\n",
       "      <th>Positive Sentiment</th>\n",
       "      <th>Neutral Sentiment</th>\n",
       "      <th>Negative Sentiment</th>\n",
       "    </tr>\n",
       "  </thead>\n",
       "  <tbody>\n",
       "    <tr>\n",
       "      <th>0</th>\n",
       "      <td>0</td>\n",
       "      <td>Hitting the Books: How Bitcoin is somehow wort...</td>\n",
       "      <td>2021-09-25T15:30:24Z</td>\n",
       "      <td>https://www.engadget.com/hitting-the-books-the...</td>\n",
       "      <td>Bitcoin and similar blockchain-based cryptos e...</td>\n",
       "      <td>Bitcoin and similar blockchain-based cryptos e...</td>\n",
       "      <td>0.3400</td>\n",
       "      <td>0.058</td>\n",
       "      <td>0.942</td>\n",
       "      <td>0.000</td>\n",
       "    </tr>\n",
       "    <tr>\n",
       "      <th>1</th>\n",
       "      <td>1</td>\n",
       "      <td>26,000 and Counting: America is Installing Hun...</td>\n",
       "      <td>2021-09-26T03:34:00Z</td>\n",
       "      <td>https://news.slashdot.org/story/21/09/26/02520...</td>\n",
       "      <td>The cryptocurrency-ATM company Coinmover has o...</td>\n",
       "      <td>The cryptocurrency-ATM company Coinmover has o...</td>\n",
       "      <td>0.0000</td>\n",
       "      <td>0.000</td>\n",
       "      <td>1.000</td>\n",
       "      <td>0.000</td>\n",
       "    </tr>\n",
       "    <tr>\n",
       "      <th>2</th>\n",
       "      <td>2</td>\n",
       "      <td>VoIP.ms Battles Week-Long Sustained DDoS-for-R...</td>\n",
       "      <td>2021-09-26T01:34:00Z</td>\n",
       "      <td>https://tech.slashdot.org/story/21/09/26/00142...</td>\n",
       "      <td>Slashdot reader Striek writes: VoIP.ms, a Cana...</td>\n",
       "      <td>VoIP.ms, a Canadian VoIP provider [also servin...</td>\n",
       "      <td>-0.8176</td>\n",
       "      <td>0.000</td>\n",
       "      <td>0.813</td>\n",
       "      <td>0.187</td>\n",
       "    </tr>\n",
       "    <tr>\n",
       "      <th>3</th>\n",
       "      <td>3</td>\n",
       "      <td>Cryptocurrency exchange Huobi to clean up exis...</td>\n",
       "      <td>2021-09-26T09:23:00Z</td>\n",
       "      <td>https://www.reuters.com/world/china/cryptocurr...</td>\n",
       "      <td>Chinese cryptocurrency exchange Huobi Global s...</td>\n",
       "      <td>A Chinese flag is seen among representations o...</td>\n",
       "      <td>-0.2263</td>\n",
       "      <td>0.000</td>\n",
       "      <td>0.947</td>\n",
       "      <td>0.053</td>\n",
       "    </tr>\n",
       "    <tr>\n",
       "      <th>4</th>\n",
       "      <td>4</td>\n",
       "      <td>110,000 Affected by Epik Breach - Including Th...</td>\n",
       "      <td>2021-09-25T22:34:00Z</td>\n",
       "      <td>https://yro.slashdot.org/story/21/09/25/153423...</td>\n",
       "      <td>Epik's massive data breach is already affectin...</td>\n",
       "      <td>Epik's massive data breach is already affectin...</td>\n",
       "      <td>0.6361</td>\n",
       "      <td>0.095</td>\n",
       "      <td>0.905</td>\n",
       "      <td>0.000</td>\n",
       "    </tr>\n",
       "  </tbody>\n",
       "</table>\n",
       "</div>"
      ],
      "text/plain": [
       "   Unnamed: 0                                          Headlines  \\\n",
       "0           0  Hitting the Books: How Bitcoin is somehow wort...   \n",
       "1           1  26,000 and Counting: America is Installing Hun...   \n",
       "2           2  VoIP.ms Battles Week-Long Sustained DDoS-for-R...   \n",
       "3           3  Cryptocurrency exchange Huobi to clean up exis...   \n",
       "4           4  110,000 Affected by Epik Breach - Including Th...   \n",
       "\n",
       "              Date_Time                                                URL  \\\n",
       "0  2021-09-25T15:30:24Z  https://www.engadget.com/hitting-the-books-the...   \n",
       "1  2021-09-26T03:34:00Z  https://news.slashdot.org/story/21/09/26/02520...   \n",
       "2  2021-09-26T01:34:00Z  https://tech.slashdot.org/story/21/09/26/00142...   \n",
       "3  2021-09-26T09:23:00Z  https://www.reuters.com/world/china/cryptocurr...   \n",
       "4  2021-09-25T22:34:00Z  https://yro.slashdot.org/story/21/09/25/153423...   \n",
       "\n",
       "                                         Description  \\\n",
       "0  Bitcoin and similar blockchain-based cryptos e...   \n",
       "1  The cryptocurrency-ATM company Coinmover has o...   \n",
       "2  Slashdot reader Striek writes: VoIP.ms, a Cana...   \n",
       "3  Chinese cryptocurrency exchange Huobi Global s...   \n",
       "4  Epik's massive data breach is already affectin...   \n",
       "\n",
       "                                             Content  Compound Sentiment  \\\n",
       "0  Bitcoin and similar blockchain-based cryptos e...              0.3400   \n",
       "1  The cryptocurrency-ATM company Coinmover has o...              0.0000   \n",
       "2  VoIP.ms, a Canadian VoIP provider [also servin...             -0.8176   \n",
       "3  A Chinese flag is seen among representations o...             -0.2263   \n",
       "4  Epik's massive data breach is already affectin...              0.6361   \n",
       "\n",
       "   Positive Sentiment  Neutral Sentiment  Negative Sentiment  \n",
       "0               0.058              0.942               0.000  \n",
       "1               0.000              1.000               0.000  \n",
       "2               0.000              0.813               0.187  \n",
       "3               0.000              0.947               0.053  \n",
       "4               0.095              0.905               0.000  "
      ]
     },
     "execution_count": 27,
     "metadata": {},
     "output_type": "execute_result"
    }
   ],
   "source": [
    "btc_articles_df['Compound Sentiment'] = btc_articles_df['Description'].apply(get_compoundScore)\n",
    "btc_articles_df.head()"
   ]
  },
  {
   "cell_type": "code",
   "execution_count": 28,
   "metadata": {},
   "outputs": [],
   "source": [
    "# Function to get positive sentiments\n",
    "def get_positive_sentiment(content):\n",
    "    sentiment = analyzer.polarity_scores(content)\n",
    "    positive = sentiment[\"pos\"]\n",
    "    return positive\n",
    "get_positiveScore = lambda x: get_positive_sentiment(x)"
   ]
  },
  {
   "cell_type": "code",
   "execution_count": 29,
   "metadata": {},
   "outputs": [
    {
     "data": {
      "text/html": [
       "<div>\n",
       "<style scoped>\n",
       "    .dataframe tbody tr th:only-of-type {\n",
       "        vertical-align: middle;\n",
       "    }\n",
       "\n",
       "    .dataframe tbody tr th {\n",
       "        vertical-align: top;\n",
       "    }\n",
       "\n",
       "    .dataframe thead th {\n",
       "        text-align: right;\n",
       "    }\n",
       "</style>\n",
       "<table border=\"1\" class=\"dataframe\">\n",
       "  <thead>\n",
       "    <tr style=\"text-align: right;\">\n",
       "      <th></th>\n",
       "      <th>Unnamed: 0</th>\n",
       "      <th>Headlines</th>\n",
       "      <th>Date_Time</th>\n",
       "      <th>URL</th>\n",
       "      <th>Description</th>\n",
       "      <th>Content</th>\n",
       "      <th>Compound Sentiment</th>\n",
       "      <th>Positive Sentiment</th>\n",
       "      <th>Neutral Sentiment</th>\n",
       "      <th>Negative Sentiment</th>\n",
       "    </tr>\n",
       "  </thead>\n",
       "  <tbody>\n",
       "    <tr>\n",
       "      <th>0</th>\n",
       "      <td>0</td>\n",
       "      <td>Hitting the Books: How Bitcoin is somehow wort...</td>\n",
       "      <td>2021-09-25T15:30:24Z</td>\n",
       "      <td>https://www.engadget.com/hitting-the-books-the...</td>\n",
       "      <td>Bitcoin and similar blockchain-based cryptos e...</td>\n",
       "      <td>Bitcoin and similar blockchain-based cryptos e...</td>\n",
       "      <td>0.3400</td>\n",
       "      <td>0.058</td>\n",
       "      <td>0.942</td>\n",
       "      <td>0.000</td>\n",
       "    </tr>\n",
       "    <tr>\n",
       "      <th>1</th>\n",
       "      <td>1</td>\n",
       "      <td>26,000 and Counting: America is Installing Hun...</td>\n",
       "      <td>2021-09-26T03:34:00Z</td>\n",
       "      <td>https://news.slashdot.org/story/21/09/26/02520...</td>\n",
       "      <td>The cryptocurrency-ATM company Coinmover has o...</td>\n",
       "      <td>The cryptocurrency-ATM company Coinmover has o...</td>\n",
       "      <td>0.0000</td>\n",
       "      <td>0.000</td>\n",
       "      <td>1.000</td>\n",
       "      <td>0.000</td>\n",
       "    </tr>\n",
       "    <tr>\n",
       "      <th>2</th>\n",
       "      <td>2</td>\n",
       "      <td>VoIP.ms Battles Week-Long Sustained DDoS-for-R...</td>\n",
       "      <td>2021-09-26T01:34:00Z</td>\n",
       "      <td>https://tech.slashdot.org/story/21/09/26/00142...</td>\n",
       "      <td>Slashdot reader Striek writes: VoIP.ms, a Cana...</td>\n",
       "      <td>VoIP.ms, a Canadian VoIP provider [also servin...</td>\n",
       "      <td>-0.8176</td>\n",
       "      <td>0.000</td>\n",
       "      <td>0.813</td>\n",
       "      <td>0.187</td>\n",
       "    </tr>\n",
       "    <tr>\n",
       "      <th>3</th>\n",
       "      <td>3</td>\n",
       "      <td>Cryptocurrency exchange Huobi to clean up exis...</td>\n",
       "      <td>2021-09-26T09:23:00Z</td>\n",
       "      <td>https://www.reuters.com/world/china/cryptocurr...</td>\n",
       "      <td>Chinese cryptocurrency exchange Huobi Global s...</td>\n",
       "      <td>A Chinese flag is seen among representations o...</td>\n",
       "      <td>-0.2263</td>\n",
       "      <td>0.000</td>\n",
       "      <td>0.947</td>\n",
       "      <td>0.053</td>\n",
       "    </tr>\n",
       "    <tr>\n",
       "      <th>4</th>\n",
       "      <td>4</td>\n",
       "      <td>110,000 Affected by Epik Breach - Including Th...</td>\n",
       "      <td>2021-09-25T22:34:00Z</td>\n",
       "      <td>https://yro.slashdot.org/story/21/09/25/153423...</td>\n",
       "      <td>Epik's massive data breach is already affectin...</td>\n",
       "      <td>Epik's massive data breach is already affectin...</td>\n",
       "      <td>0.6361</td>\n",
       "      <td>0.095</td>\n",
       "      <td>0.905</td>\n",
       "      <td>0.000</td>\n",
       "    </tr>\n",
       "  </tbody>\n",
       "</table>\n",
       "</div>"
      ],
      "text/plain": [
       "   Unnamed: 0                                          Headlines  \\\n",
       "0           0  Hitting the Books: How Bitcoin is somehow wort...   \n",
       "1           1  26,000 and Counting: America is Installing Hun...   \n",
       "2           2  VoIP.ms Battles Week-Long Sustained DDoS-for-R...   \n",
       "3           3  Cryptocurrency exchange Huobi to clean up exis...   \n",
       "4           4  110,000 Affected by Epik Breach - Including Th...   \n",
       "\n",
       "              Date_Time                                                URL  \\\n",
       "0  2021-09-25T15:30:24Z  https://www.engadget.com/hitting-the-books-the...   \n",
       "1  2021-09-26T03:34:00Z  https://news.slashdot.org/story/21/09/26/02520...   \n",
       "2  2021-09-26T01:34:00Z  https://tech.slashdot.org/story/21/09/26/00142...   \n",
       "3  2021-09-26T09:23:00Z  https://www.reuters.com/world/china/cryptocurr...   \n",
       "4  2021-09-25T22:34:00Z  https://yro.slashdot.org/story/21/09/25/153423...   \n",
       "\n",
       "                                         Description  \\\n",
       "0  Bitcoin and similar blockchain-based cryptos e...   \n",
       "1  The cryptocurrency-ATM company Coinmover has o...   \n",
       "2  Slashdot reader Striek writes: VoIP.ms, a Cana...   \n",
       "3  Chinese cryptocurrency exchange Huobi Global s...   \n",
       "4  Epik's massive data breach is already affectin...   \n",
       "\n",
       "                                             Content  Compound Sentiment  \\\n",
       "0  Bitcoin and similar blockchain-based cryptos e...              0.3400   \n",
       "1  The cryptocurrency-ATM company Coinmover has o...              0.0000   \n",
       "2  VoIP.ms, a Canadian VoIP provider [also servin...             -0.8176   \n",
       "3  A Chinese flag is seen among representations o...             -0.2263   \n",
       "4  Epik's massive data breach is already affectin...              0.6361   \n",
       "\n",
       "   Positive Sentiment  Neutral Sentiment  Negative Sentiment  \n",
       "0               0.058              0.942               0.000  \n",
       "1               0.000              1.000               0.000  \n",
       "2               0.000              0.813               0.187  \n",
       "3               0.000              0.947               0.053  \n",
       "4               0.095              0.905               0.000  "
      ]
     },
     "execution_count": 29,
     "metadata": {},
     "output_type": "execute_result"
    }
   ],
   "source": [
    "btc_articles_df['Positive Sentiment'] = btc_articles_df['Description'].apply(get_positiveScore)\n",
    "btc_articles_df.head()"
   ]
  },
  {
   "cell_type": "code",
   "execution_count": 30,
   "metadata": {},
   "outputs": [],
   "source": [
    "# Function to get neutral sentiments\n",
    "def get_neutral_sentiment(content):\n",
    "    sentiment = analyzer.polarity_scores(content)\n",
    "    neutral = sentiment[\"neu\"]\n",
    "    return neutral\n",
    "get_neutralScore = lambda x: get_neutral_sentiment(x)"
   ]
  },
  {
   "cell_type": "code",
   "execution_count": 31,
   "metadata": {},
   "outputs": [
    {
     "data": {
      "text/html": [
       "<div>\n",
       "<style scoped>\n",
       "    .dataframe tbody tr th:only-of-type {\n",
       "        vertical-align: middle;\n",
       "    }\n",
       "\n",
       "    .dataframe tbody tr th {\n",
       "        vertical-align: top;\n",
       "    }\n",
       "\n",
       "    .dataframe thead th {\n",
       "        text-align: right;\n",
       "    }\n",
       "</style>\n",
       "<table border=\"1\" class=\"dataframe\">\n",
       "  <thead>\n",
       "    <tr style=\"text-align: right;\">\n",
       "      <th></th>\n",
       "      <th>Unnamed: 0</th>\n",
       "      <th>Headlines</th>\n",
       "      <th>Date_Time</th>\n",
       "      <th>URL</th>\n",
       "      <th>Description</th>\n",
       "      <th>Content</th>\n",
       "      <th>Compound Sentiment</th>\n",
       "      <th>Positive Sentiment</th>\n",
       "      <th>Neutral Sentiment</th>\n",
       "      <th>Negative Sentiment</th>\n",
       "    </tr>\n",
       "  </thead>\n",
       "  <tbody>\n",
       "    <tr>\n",
       "      <th>0</th>\n",
       "      <td>0</td>\n",
       "      <td>Hitting the Books: How Bitcoin is somehow wort...</td>\n",
       "      <td>2021-09-25T15:30:24Z</td>\n",
       "      <td>https://www.engadget.com/hitting-the-books-the...</td>\n",
       "      <td>Bitcoin and similar blockchain-based cryptos e...</td>\n",
       "      <td>Bitcoin and similar blockchain-based cryptos e...</td>\n",
       "      <td>0.3400</td>\n",
       "      <td>0.058</td>\n",
       "      <td>0.942</td>\n",
       "      <td>0.000</td>\n",
       "    </tr>\n",
       "    <tr>\n",
       "      <th>1</th>\n",
       "      <td>1</td>\n",
       "      <td>26,000 and Counting: America is Installing Hun...</td>\n",
       "      <td>2021-09-26T03:34:00Z</td>\n",
       "      <td>https://news.slashdot.org/story/21/09/26/02520...</td>\n",
       "      <td>The cryptocurrency-ATM company Coinmover has o...</td>\n",
       "      <td>The cryptocurrency-ATM company Coinmover has o...</td>\n",
       "      <td>0.0000</td>\n",
       "      <td>0.000</td>\n",
       "      <td>1.000</td>\n",
       "      <td>0.000</td>\n",
       "    </tr>\n",
       "    <tr>\n",
       "      <th>2</th>\n",
       "      <td>2</td>\n",
       "      <td>VoIP.ms Battles Week-Long Sustained DDoS-for-R...</td>\n",
       "      <td>2021-09-26T01:34:00Z</td>\n",
       "      <td>https://tech.slashdot.org/story/21/09/26/00142...</td>\n",
       "      <td>Slashdot reader Striek writes: VoIP.ms, a Cana...</td>\n",
       "      <td>VoIP.ms, a Canadian VoIP provider [also servin...</td>\n",
       "      <td>-0.8176</td>\n",
       "      <td>0.000</td>\n",
       "      <td>0.813</td>\n",
       "      <td>0.187</td>\n",
       "    </tr>\n",
       "    <tr>\n",
       "      <th>3</th>\n",
       "      <td>3</td>\n",
       "      <td>Cryptocurrency exchange Huobi to clean up exis...</td>\n",
       "      <td>2021-09-26T09:23:00Z</td>\n",
       "      <td>https://www.reuters.com/world/china/cryptocurr...</td>\n",
       "      <td>Chinese cryptocurrency exchange Huobi Global s...</td>\n",
       "      <td>A Chinese flag is seen among representations o...</td>\n",
       "      <td>-0.2263</td>\n",
       "      <td>0.000</td>\n",
       "      <td>0.947</td>\n",
       "      <td>0.053</td>\n",
       "    </tr>\n",
       "    <tr>\n",
       "      <th>4</th>\n",
       "      <td>4</td>\n",
       "      <td>110,000 Affected by Epik Breach - Including Th...</td>\n",
       "      <td>2021-09-25T22:34:00Z</td>\n",
       "      <td>https://yro.slashdot.org/story/21/09/25/153423...</td>\n",
       "      <td>Epik's massive data breach is already affectin...</td>\n",
       "      <td>Epik's massive data breach is already affectin...</td>\n",
       "      <td>0.6361</td>\n",
       "      <td>0.095</td>\n",
       "      <td>0.905</td>\n",
       "      <td>0.000</td>\n",
       "    </tr>\n",
       "  </tbody>\n",
       "</table>\n",
       "</div>"
      ],
      "text/plain": [
       "   Unnamed: 0                                          Headlines  \\\n",
       "0           0  Hitting the Books: How Bitcoin is somehow wort...   \n",
       "1           1  26,000 and Counting: America is Installing Hun...   \n",
       "2           2  VoIP.ms Battles Week-Long Sustained DDoS-for-R...   \n",
       "3           3  Cryptocurrency exchange Huobi to clean up exis...   \n",
       "4           4  110,000 Affected by Epik Breach - Including Th...   \n",
       "\n",
       "              Date_Time                                                URL  \\\n",
       "0  2021-09-25T15:30:24Z  https://www.engadget.com/hitting-the-books-the...   \n",
       "1  2021-09-26T03:34:00Z  https://news.slashdot.org/story/21/09/26/02520...   \n",
       "2  2021-09-26T01:34:00Z  https://tech.slashdot.org/story/21/09/26/00142...   \n",
       "3  2021-09-26T09:23:00Z  https://www.reuters.com/world/china/cryptocurr...   \n",
       "4  2021-09-25T22:34:00Z  https://yro.slashdot.org/story/21/09/25/153423...   \n",
       "\n",
       "                                         Description  \\\n",
       "0  Bitcoin and similar blockchain-based cryptos e...   \n",
       "1  The cryptocurrency-ATM company Coinmover has o...   \n",
       "2  Slashdot reader Striek writes: VoIP.ms, a Cana...   \n",
       "3  Chinese cryptocurrency exchange Huobi Global s...   \n",
       "4  Epik's massive data breach is already affectin...   \n",
       "\n",
       "                                             Content  Compound Sentiment  \\\n",
       "0  Bitcoin and similar blockchain-based cryptos e...              0.3400   \n",
       "1  The cryptocurrency-ATM company Coinmover has o...              0.0000   \n",
       "2  VoIP.ms, a Canadian VoIP provider [also servin...             -0.8176   \n",
       "3  A Chinese flag is seen among representations o...             -0.2263   \n",
       "4  Epik's massive data breach is already affectin...              0.6361   \n",
       "\n",
       "   Positive Sentiment  Neutral Sentiment  Negative Sentiment  \n",
       "0               0.058              0.942               0.000  \n",
       "1               0.000              1.000               0.000  \n",
       "2               0.000              0.813               0.187  \n",
       "3               0.000              0.947               0.053  \n",
       "4               0.095              0.905               0.000  "
      ]
     },
     "execution_count": 31,
     "metadata": {},
     "output_type": "execute_result"
    }
   ],
   "source": [
    "btc_articles_df['Neutral Sentiment'] = btc_articles_df['Description'].apply(get_neutralScore)\n",
    "btc_articles_df.head()"
   ]
  },
  {
   "cell_type": "code",
   "execution_count": 32,
   "metadata": {},
   "outputs": [],
   "source": [
    "# Function to get negative sentiments\n",
    "def get_negative_sentiment(content):\n",
    "    sentiment = analyzer.polarity_scores(content)\n",
    "    negative = sentiment[\"neg\"]\n",
    "    return negative\n",
    "get_negativeScore = lambda x: get_negative_sentiment(x)"
   ]
  },
  {
   "cell_type": "code",
   "execution_count": 33,
   "metadata": {},
   "outputs": [
    {
     "data": {
      "text/html": [
       "<div>\n",
       "<style scoped>\n",
       "    .dataframe tbody tr th:only-of-type {\n",
       "        vertical-align: middle;\n",
       "    }\n",
       "\n",
       "    .dataframe tbody tr th {\n",
       "        vertical-align: top;\n",
       "    }\n",
       "\n",
       "    .dataframe thead th {\n",
       "        text-align: right;\n",
       "    }\n",
       "</style>\n",
       "<table border=\"1\" class=\"dataframe\">\n",
       "  <thead>\n",
       "    <tr style=\"text-align: right;\">\n",
       "      <th></th>\n",
       "      <th>Unnamed: 0</th>\n",
       "      <th>Headlines</th>\n",
       "      <th>Date_Time</th>\n",
       "      <th>URL</th>\n",
       "      <th>Description</th>\n",
       "      <th>Content</th>\n",
       "      <th>Compound Sentiment</th>\n",
       "      <th>Positive Sentiment</th>\n",
       "      <th>Neutral Sentiment</th>\n",
       "      <th>Negative Sentiment</th>\n",
       "    </tr>\n",
       "  </thead>\n",
       "  <tbody>\n",
       "    <tr>\n",
       "      <th>0</th>\n",
       "      <td>0</td>\n",
       "      <td>Hitting the Books: How Bitcoin is somehow wort...</td>\n",
       "      <td>2021-09-25T15:30:24Z</td>\n",
       "      <td>https://www.engadget.com/hitting-the-books-the...</td>\n",
       "      <td>Bitcoin and similar blockchain-based cryptos e...</td>\n",
       "      <td>Bitcoin and similar blockchain-based cryptos e...</td>\n",
       "      <td>0.3400</td>\n",
       "      <td>0.058</td>\n",
       "      <td>0.942</td>\n",
       "      <td>0.000</td>\n",
       "    </tr>\n",
       "    <tr>\n",
       "      <th>1</th>\n",
       "      <td>1</td>\n",
       "      <td>26,000 and Counting: America is Installing Hun...</td>\n",
       "      <td>2021-09-26T03:34:00Z</td>\n",
       "      <td>https://news.slashdot.org/story/21/09/26/02520...</td>\n",
       "      <td>The cryptocurrency-ATM company Coinmover has o...</td>\n",
       "      <td>The cryptocurrency-ATM company Coinmover has o...</td>\n",
       "      <td>0.0000</td>\n",
       "      <td>0.000</td>\n",
       "      <td>1.000</td>\n",
       "      <td>0.000</td>\n",
       "    </tr>\n",
       "    <tr>\n",
       "      <th>2</th>\n",
       "      <td>2</td>\n",
       "      <td>VoIP.ms Battles Week-Long Sustained DDoS-for-R...</td>\n",
       "      <td>2021-09-26T01:34:00Z</td>\n",
       "      <td>https://tech.slashdot.org/story/21/09/26/00142...</td>\n",
       "      <td>Slashdot reader Striek writes: VoIP.ms, a Cana...</td>\n",
       "      <td>VoIP.ms, a Canadian VoIP provider [also servin...</td>\n",
       "      <td>-0.8176</td>\n",
       "      <td>0.000</td>\n",
       "      <td>0.813</td>\n",
       "      <td>0.187</td>\n",
       "    </tr>\n",
       "    <tr>\n",
       "      <th>3</th>\n",
       "      <td>3</td>\n",
       "      <td>Cryptocurrency exchange Huobi to clean up exis...</td>\n",
       "      <td>2021-09-26T09:23:00Z</td>\n",
       "      <td>https://www.reuters.com/world/china/cryptocurr...</td>\n",
       "      <td>Chinese cryptocurrency exchange Huobi Global s...</td>\n",
       "      <td>A Chinese flag is seen among representations o...</td>\n",
       "      <td>-0.2263</td>\n",
       "      <td>0.000</td>\n",
       "      <td>0.947</td>\n",
       "      <td>0.053</td>\n",
       "    </tr>\n",
       "    <tr>\n",
       "      <th>4</th>\n",
       "      <td>4</td>\n",
       "      <td>110,000 Affected by Epik Breach - Including Th...</td>\n",
       "      <td>2021-09-25T22:34:00Z</td>\n",
       "      <td>https://yro.slashdot.org/story/21/09/25/153423...</td>\n",
       "      <td>Epik's massive data breach is already affectin...</td>\n",
       "      <td>Epik's massive data breach is already affectin...</td>\n",
       "      <td>0.6361</td>\n",
       "      <td>0.095</td>\n",
       "      <td>0.905</td>\n",
       "      <td>0.000</td>\n",
       "    </tr>\n",
       "  </tbody>\n",
       "</table>\n",
       "</div>"
      ],
      "text/plain": [
       "   Unnamed: 0                                          Headlines  \\\n",
       "0           0  Hitting the Books: How Bitcoin is somehow wort...   \n",
       "1           1  26,000 and Counting: America is Installing Hun...   \n",
       "2           2  VoIP.ms Battles Week-Long Sustained DDoS-for-R...   \n",
       "3           3  Cryptocurrency exchange Huobi to clean up exis...   \n",
       "4           4  110,000 Affected by Epik Breach - Including Th...   \n",
       "\n",
       "              Date_Time                                                URL  \\\n",
       "0  2021-09-25T15:30:24Z  https://www.engadget.com/hitting-the-books-the...   \n",
       "1  2021-09-26T03:34:00Z  https://news.slashdot.org/story/21/09/26/02520...   \n",
       "2  2021-09-26T01:34:00Z  https://tech.slashdot.org/story/21/09/26/00142...   \n",
       "3  2021-09-26T09:23:00Z  https://www.reuters.com/world/china/cryptocurr...   \n",
       "4  2021-09-25T22:34:00Z  https://yro.slashdot.org/story/21/09/25/153423...   \n",
       "\n",
       "                                         Description  \\\n",
       "0  Bitcoin and similar blockchain-based cryptos e...   \n",
       "1  The cryptocurrency-ATM company Coinmover has o...   \n",
       "2  Slashdot reader Striek writes: VoIP.ms, a Cana...   \n",
       "3  Chinese cryptocurrency exchange Huobi Global s...   \n",
       "4  Epik's massive data breach is already affectin...   \n",
       "\n",
       "                                             Content  Compound Sentiment  \\\n",
       "0  Bitcoin and similar blockchain-based cryptos e...              0.3400   \n",
       "1  The cryptocurrency-ATM company Coinmover has o...              0.0000   \n",
       "2  VoIP.ms, a Canadian VoIP provider [also servin...             -0.8176   \n",
       "3  A Chinese flag is seen among representations o...             -0.2263   \n",
       "4  Epik's massive data breach is already affectin...              0.6361   \n",
       "\n",
       "   Positive Sentiment  Neutral Sentiment  Negative Sentiment  \n",
       "0               0.058              0.942               0.000  \n",
       "1               0.000              1.000               0.000  \n",
       "2               0.000              0.813               0.187  \n",
       "3               0.000              0.947               0.053  \n",
       "4               0.095              0.905               0.000  "
      ]
     },
     "execution_count": 33,
     "metadata": {},
     "output_type": "execute_result"
    }
   ],
   "source": [
    "btc_articles_df['Negative Sentiment'] = btc_articles_df['Description'].apply(get_negativeScore)\n",
    "btc_articles_df.head()"
   ]
  },
  {
   "cell_type": "code",
   "execution_count": 34,
   "metadata": {},
   "outputs": [],
   "source": [
    "# Save BTC Articles data to CSV:\n",
    "btc_articles_df.to_csv(f\"btc_articles_df_{current_date[:10]}.csv\")"
   ]
  },
  {
   "cell_type": "markdown",
   "metadata": {},
   "source": [
    "## Ethereum Sentiment Analysis"
   ]
  },
  {
   "cell_type": "code",
   "execution_count": 36,
   "metadata": {},
   "outputs": [
    {
     "name": "stdout",
     "output_type": "stream",
     "text": [
      "Fetching news about 'ethereum'\n",
      "******************************\n",
      "retrieving news from: 2021-09-26 12:55:17\n"
     ]
    }
   ],
   "source": [
    "# Fetch the Ethereum news articles\n",
    "eth_articles_df = get_articles(\"ethereum\")"
   ]
  },
  {
   "cell_type": "code",
   "execution_count": 40,
   "metadata": {},
   "outputs": [],
   "source": [
    "eth_articles_df = pd.read_csv('eth_articles_df_2021-09-26.csv', index_col=None)"
   ]
  },
  {
   "cell_type": "code",
   "execution_count": 43,
   "metadata": {},
   "outputs": [
    {
     "data": {
      "text/plain": [
       "(20, 10)"
      ]
     },
     "execution_count": 43,
     "metadata": {},
     "output_type": "execute_result"
    }
   ],
   "source": [
    "eth_articles_df.shape"
   ]
  },
  {
   "cell_type": "code",
   "execution_count": 44,
   "metadata": {},
   "outputs": [
    {
     "data": {
      "text/html": [
       "<div>\n",
       "<style scoped>\n",
       "    .dataframe tbody tr th:only-of-type {\n",
       "        vertical-align: middle;\n",
       "    }\n",
       "\n",
       "    .dataframe tbody tr th {\n",
       "        vertical-align: top;\n",
       "    }\n",
       "\n",
       "    .dataframe thead th {\n",
       "        text-align: right;\n",
       "    }\n",
       "</style>\n",
       "<table border=\"1\" class=\"dataframe\">\n",
       "  <thead>\n",
       "    <tr style=\"text-align: right;\">\n",
       "      <th></th>\n",
       "      <th>Unnamed: 0</th>\n",
       "      <th>Headlines</th>\n",
       "      <th>Date_Time</th>\n",
       "      <th>URL</th>\n",
       "      <th>Description</th>\n",
       "      <th>Content</th>\n",
       "      <th>Compound Sentiment</th>\n",
       "      <th>Positive Sentiment</th>\n",
       "      <th>Neutral Sentiment</th>\n",
       "      <th>Negative Sentiment</th>\n",
       "    </tr>\n",
       "  </thead>\n",
       "  <tbody>\n",
       "    <tr>\n",
       "      <th>0</th>\n",
       "      <td>0</td>\n",
       "      <td>JPMorgan Warns Big Investors Are Suddenly Dump...</td>\n",
       "      <td>2021-09-26T10:15:44Z</td>\n",
       "      <td>https://www.forbes.com/sites/billybambrough/20...</td>\n",
       "      <td>Ahead of China's latest bitcoin and crypto cra...</td>\n",
       "      <td>Bitcoin and cryptocurrency prices have fallen ...</td>\n",
       "      <td>-0.2732</td>\n",
       "      <td>0.000</td>\n",
       "      <td>0.928</td>\n",
       "      <td>0.072</td>\n",
       "    </tr>\n",
       "    <tr>\n",
       "      <th>1</th>\n",
       "      <td>1</td>\n",
       "      <td>Amid China's crackdown on crypto, here's how t...</td>\n",
       "      <td>2021-09-26T05:45:20Z</td>\n",
       "      <td>https://economictimes.indiatimes.com/markets/c...</td>\n",
       "      <td>This month we had some good news too for BTC, ...</td>\n",
       "      <td>Bitcoin, the largest cryptocurrency, started i...</td>\n",
       "      <td>0.8591</td>\n",
       "      <td>0.208</td>\n",
       "      <td>0.792</td>\n",
       "      <td>0.000</td>\n",
       "    </tr>\n",
       "    <tr>\n",
       "      <th>2</th>\n",
       "      <td>2</td>\n",
       "      <td>3 NFT Stocks With High Growth Potential</td>\n",
       "      <td>2021-09-25T13:30:00Z</td>\n",
       "      <td>https://www.fool.com/investing/2021/09/25/3-nf...</td>\n",
       "      <td>The non-fungible token market is booming and t...</td>\n",
       "      <td>The market for non-fungible tokens -- digital ...</td>\n",
       "      <td>0.3400</td>\n",
       "      <td>0.146</td>\n",
       "      <td>0.854</td>\n",
       "      <td>0.000</td>\n",
       "    </tr>\n",
       "    <tr>\n",
       "      <th>3</th>\n",
       "      <td>3</td>\n",
       "      <td>Bitcoin mining company buys Pennsylvania power...</td>\n",
       "      <td>2021-09-26T12:41:00Z</td>\n",
       "      <td>https://www.techspot.com/news/91430-bitcoin-mi...</td>\n",
       "      <td>Mining the top cryptocurrencies such as Bitcoi...</td>\n",
       "      <td>What just happened? Crypto mining companies ar...</td>\n",
       "      <td>0.2023</td>\n",
       "      <td>0.044</td>\n",
       "      <td>0.956</td>\n",
       "      <td>0.000</td>\n",
       "    </tr>\n",
       "    <tr>\n",
       "      <th>4</th>\n",
       "      <td>4</td>\n",
       "      <td>TikTok shows Gen Z how to buy bitcoin and cryp...</td>\n",
       "      <td>2021-09-26T10:40:10Z</td>\n",
       "      <td>https://www.usatoday.com/story/news/2021/09/26...</td>\n",
       "      <td>Financial insecurity is influencing young inve...</td>\n",
       "      <td>On today's episode of 5 Things: Gen Zers and m...</td>\n",
       "      <td>-0.5994</td>\n",
       "      <td>0.000</td>\n",
       "      <td>0.786</td>\n",
       "      <td>0.214</td>\n",
       "    </tr>\n",
       "  </tbody>\n",
       "</table>\n",
       "</div>"
      ],
      "text/plain": [
       "   Unnamed: 0                                          Headlines  \\\n",
       "0           0  JPMorgan Warns Big Investors Are Suddenly Dump...   \n",
       "1           1  Amid China's crackdown on crypto, here's how t...   \n",
       "2           2            3 NFT Stocks With High Growth Potential   \n",
       "3           3  Bitcoin mining company buys Pennsylvania power...   \n",
       "4           4  TikTok shows Gen Z how to buy bitcoin and cryp...   \n",
       "\n",
       "              Date_Time                                                URL  \\\n",
       "0  2021-09-26T10:15:44Z  https://www.forbes.com/sites/billybambrough/20...   \n",
       "1  2021-09-26T05:45:20Z  https://economictimes.indiatimes.com/markets/c...   \n",
       "2  2021-09-25T13:30:00Z  https://www.fool.com/investing/2021/09/25/3-nf...   \n",
       "3  2021-09-26T12:41:00Z  https://www.techspot.com/news/91430-bitcoin-mi...   \n",
       "4  2021-09-26T10:40:10Z  https://www.usatoday.com/story/news/2021/09/26...   \n",
       "\n",
       "                                         Description  \\\n",
       "0  Ahead of China's latest bitcoin and crypto cra...   \n",
       "1  This month we had some good news too for BTC, ...   \n",
       "2  The non-fungible token market is booming and t...   \n",
       "3  Mining the top cryptocurrencies such as Bitcoi...   \n",
       "4  Financial insecurity is influencing young inve...   \n",
       "\n",
       "                                             Content  Compound Sentiment  \\\n",
       "0  Bitcoin and cryptocurrency prices have fallen ...             -0.2732   \n",
       "1  Bitcoin, the largest cryptocurrency, started i...              0.8591   \n",
       "2  The market for non-fungible tokens -- digital ...              0.3400   \n",
       "3  What just happened? Crypto mining companies ar...              0.2023   \n",
       "4  On today's episode of 5 Things: Gen Zers and m...             -0.5994   \n",
       "\n",
       "   Positive Sentiment  Neutral Sentiment  Negative Sentiment  \n",
       "0               0.000              0.928               0.072  \n",
       "1               0.208              0.792               0.000  \n",
       "2               0.146              0.854               0.000  \n",
       "3               0.044              0.956               0.000  \n",
       "4               0.000              0.786               0.214  "
      ]
     },
     "execution_count": 44,
     "metadata": {},
     "output_type": "execute_result"
    }
   ],
   "source": [
    "eth_articles_df.head()"
   ]
  },
  {
   "cell_type": "code",
   "execution_count": 45,
   "metadata": {},
   "outputs": [
    {
     "data": {
      "text/plain": [
       "\"Bitcoin and cryptocurrency prices have fallen sharply through September, proving bears right.\\r\\nSubscribe now to Forbes' CryptoAsset &amp; Blockchain Advisor and discover hot new NFT and crypto blockb… [+3604 chars]\""
      ]
     },
     "execution_count": 45,
     "metadata": {},
     "output_type": "execute_result"
    }
   ],
   "source": [
    "eth_articles_df.loc[0]['Content']"
   ]
  },
  {
   "cell_type": "code",
   "execution_count": 46,
   "metadata": {},
   "outputs": [
    {
     "data": {
      "text/plain": [
       "\"Ahead of China's latest bitcoin and crypto crackdown, analysts at Wall Street giant JPMorgan\\ufeff have warned big investors have begun pivoting out of bitcoin futures and into ethereum...\""
      ]
     },
     "execution_count": 46,
     "metadata": {},
     "output_type": "execute_result"
    }
   ],
   "source": [
    "eth_articles_df.loc[0]['Description']"
   ]
  },
  {
   "cell_type": "markdown",
   "metadata": {},
   "source": [
    "### Clean the Text"
   ]
  },
  {
   "cell_type": "code",
   "execution_count": 47,
   "metadata": {},
   "outputs": [
    {
     "data": {
      "text/html": [
       "<div>\n",
       "<style scoped>\n",
       "    .dataframe tbody tr th:only-of-type {\n",
       "        vertical-align: middle;\n",
       "    }\n",
       "\n",
       "    .dataframe tbody tr th {\n",
       "        vertical-align: top;\n",
       "    }\n",
       "\n",
       "    .dataframe thead th {\n",
       "        text-align: right;\n",
       "    }\n",
       "</style>\n",
       "<table border=\"1\" class=\"dataframe\">\n",
       "  <thead>\n",
       "    <tr style=\"text-align: right;\">\n",
       "      <th></th>\n",
       "      <th>Description</th>\n",
       "    </tr>\n",
       "  </thead>\n",
       "  <tbody>\n",
       "    <tr>\n",
       "      <th>0</th>\n",
       "      <td>Ahead of Chinas latest bitcoin and crypto crac...</td>\n",
       "    </tr>\n",
       "    <tr>\n",
       "      <th>1</th>\n",
       "      <td>This month we had some good news too for BTC E...</td>\n",
       "    </tr>\n",
       "    <tr>\n",
       "      <th>2</th>\n",
       "      <td>The nonfungible token market is booming and th...</td>\n",
       "    </tr>\n",
       "    <tr>\n",
       "      <th>3</th>\n",
       "      <td>Mining the top cryptocurrencies such as Bitcoi...</td>\n",
       "    </tr>\n",
       "    <tr>\n",
       "      <th>4</th>\n",
       "      <td>Financial insecurity is influencing young inve...</td>\n",
       "    </tr>\n",
       "    <tr>\n",
       "      <th>5</th>\n",
       "      <td>olliWhy Bitcoin Ethereum And Dogecoin Could Be...</td>\n",
       "    </tr>\n",
       "    <tr>\n",
       "      <th>6</th>\n",
       "      <td>olliDogecoin Bitcoin Ethereum See Buying Oppor...</td>\n",
       "    </tr>\n",
       "    <tr>\n",
       "      <th>7</th>\n",
       "      <td>An NFT avatar has signed with global talent ag...</td>\n",
       "    </tr>\n",
       "    <tr>\n",
       "      <th>8</th>\n",
       "      <td>SOLs futures open interest recently hit  billi...</td>\n",
       "    </tr>\n",
       "    <tr>\n",
       "      <th>9</th>\n",
       "      <td>With the Coinbase CEO ready to take on the Sec...</td>\n",
       "    </tr>\n",
       "    <tr>\n",
       "      <th>10</th>\n",
       "      <td>olliBloody Weekend Bitcoin Plunges Toward K B ...</td>\n",
       "    </tr>\n",
       "    <tr>\n",
       "      <th>11</th>\n",
       "      <td>Following a mixed day for the majors on Saturd...</td>\n",
       "    </tr>\n",
       "    <tr>\n",
       "      <th>12</th>\n",
       "      <td>BitMe Spains largest cryptocurrency exchange h...</td>\n",
       "    </tr>\n",
       "    <tr>\n",
       "      <th>13</th>\n",
       "      <td>When decentralized finance DeFi emerged it cau...</td>\n",
       "    </tr>\n",
       "    <tr>\n",
       "      <th>14</th>\n",
       "      <td>Several Indian investors rushed to square off ...</td>\n",
       "    </tr>\n",
       "    <tr>\n",
       "      <th>15</th>\n",
       "      <td>Spanish cryptocurrency exchange BitMe has succ...</td>\n",
       "    </tr>\n",
       "    <tr>\n",
       "      <th>16</th>\n",
       "      <td>The crypto market bounced following bullish mo...</td>\n",
       "    </tr>\n",
       "    <tr>\n",
       "      <th>17</th>\n",
       "      <td>There are many things to learn in terms of Cry...</td>\n",
       "    </tr>\n",
       "    <tr>\n",
       "      <th>18</th>\n",
       "      <td>It was a long week for NFTs There was an abund...</td>\n",
       "    </tr>\n",
       "    <tr>\n",
       "      <th>19</th>\n",
       "      <td>Over the past two years DeFi has perhaps becom...</td>\n",
       "    </tr>\n",
       "  </tbody>\n",
       "</table>\n",
       "</div>"
      ],
      "text/plain": [
       "                                          Description\n",
       "0   Ahead of Chinas latest bitcoin and crypto crac...\n",
       "1   This month we had some good news too for BTC E...\n",
       "2   The nonfungible token market is booming and th...\n",
       "3   Mining the top cryptocurrencies such as Bitcoi...\n",
       "4   Financial insecurity is influencing young inve...\n",
       "5   olliWhy Bitcoin Ethereum And Dogecoin Could Be...\n",
       "6   olliDogecoin Bitcoin Ethereum See Buying Oppor...\n",
       "7   An NFT avatar has signed with global talent ag...\n",
       "8   SOLs futures open interest recently hit  billi...\n",
       "9   With the Coinbase CEO ready to take on the Sec...\n",
       "10  olliBloody Weekend Bitcoin Plunges Toward K B ...\n",
       "11  Following a mixed day for the majors on Saturd...\n",
       "12  BitMe Spains largest cryptocurrency exchange h...\n",
       "13  When decentralized finance DeFi emerged it cau...\n",
       "14  Several Indian investors rushed to square off ...\n",
       "15  Spanish cryptocurrency exchange BitMe has succ...\n",
       "16  The crypto market bounced following bullish mo...\n",
       "17  There are many things to learn in terms of Cry...\n",
       "18  It was a long week for NFTs There was an abund...\n",
       "19  Over the past two years DeFi has perhaps becom..."
      ]
     },
     "execution_count": 47,
     "metadata": {},
     "output_type": "execute_result"
    }
   ],
   "source": [
    "# Using functions created for Cleaning BTC text:\n",
    "eth_clean = pd.DataFrame(eth_articles_df['Description'].apply(text_cleaner))\n",
    "eth_clean"
   ]
  },
  {
   "cell_type": "code",
   "execution_count": null,
   "metadata": {},
   "outputs": [],
   "source": []
  },
  {
   "cell_type": "code",
   "execution_count": null,
   "metadata": {},
   "outputs": [],
   "source": []
  },
  {
   "cell_type": "markdown",
   "metadata": {},
   "source": [
    "## Create the Ethereum sentiment scores DataFrame"
   ]
  },
  {
   "cell_type": "code",
   "execution_count": 48,
   "metadata": {},
   "outputs": [
    {
     "data": {
      "text/html": [
       "<div>\n",
       "<style scoped>\n",
       "    .dataframe tbody tr th:only-of-type {\n",
       "        vertical-align: middle;\n",
       "    }\n",
       "\n",
       "    .dataframe tbody tr th {\n",
       "        vertical-align: top;\n",
       "    }\n",
       "\n",
       "    .dataframe thead th {\n",
       "        text-align: right;\n",
       "    }\n",
       "</style>\n",
       "<table border=\"1\" class=\"dataframe\">\n",
       "  <thead>\n",
       "    <tr style=\"text-align: right;\">\n",
       "      <th></th>\n",
       "      <th>Unnamed: 0</th>\n",
       "      <th>Headlines</th>\n",
       "      <th>Date_Time</th>\n",
       "      <th>URL</th>\n",
       "      <th>Description</th>\n",
       "      <th>Content</th>\n",
       "      <th>Compound Sentiment</th>\n",
       "      <th>Positive Sentiment</th>\n",
       "      <th>Neutral Sentiment</th>\n",
       "      <th>Negative Sentiment</th>\n",
       "    </tr>\n",
       "  </thead>\n",
       "  <tbody>\n",
       "    <tr>\n",
       "      <th>0</th>\n",
       "      <td>0</td>\n",
       "      <td>JPMorgan Warns Big Investors Are Suddenly Dump...</td>\n",
       "      <td>2021-09-26T10:15:44Z</td>\n",
       "      <td>https://www.forbes.com/sites/billybambrough/20...</td>\n",
       "      <td>Ahead of China's latest bitcoin and crypto cra...</td>\n",
       "      <td>Bitcoin and cryptocurrency prices have fallen ...</td>\n",
       "      <td>-0.2732</td>\n",
       "      <td>0.000</td>\n",
       "      <td>0.928</td>\n",
       "      <td>0.072</td>\n",
       "    </tr>\n",
       "    <tr>\n",
       "      <th>1</th>\n",
       "      <td>1</td>\n",
       "      <td>Amid China's crackdown on crypto, here's how t...</td>\n",
       "      <td>2021-09-26T05:45:20Z</td>\n",
       "      <td>https://economictimes.indiatimes.com/markets/c...</td>\n",
       "      <td>This month we had some good news too for BTC, ...</td>\n",
       "      <td>Bitcoin, the largest cryptocurrency, started i...</td>\n",
       "      <td>0.8591</td>\n",
       "      <td>0.208</td>\n",
       "      <td>0.792</td>\n",
       "      <td>0.000</td>\n",
       "    </tr>\n",
       "    <tr>\n",
       "      <th>2</th>\n",
       "      <td>2</td>\n",
       "      <td>3 NFT Stocks With High Growth Potential</td>\n",
       "      <td>2021-09-25T13:30:00Z</td>\n",
       "      <td>https://www.fool.com/investing/2021/09/25/3-nf...</td>\n",
       "      <td>The non-fungible token market is booming and t...</td>\n",
       "      <td>The market for non-fungible tokens -- digital ...</td>\n",
       "      <td>0.3400</td>\n",
       "      <td>0.146</td>\n",
       "      <td>0.854</td>\n",
       "      <td>0.000</td>\n",
       "    </tr>\n",
       "    <tr>\n",
       "      <th>3</th>\n",
       "      <td>3</td>\n",
       "      <td>Bitcoin mining company buys Pennsylvania power...</td>\n",
       "      <td>2021-09-26T12:41:00Z</td>\n",
       "      <td>https://www.techspot.com/news/91430-bitcoin-mi...</td>\n",
       "      <td>Mining the top cryptocurrencies such as Bitcoi...</td>\n",
       "      <td>What just happened? Crypto mining companies ar...</td>\n",
       "      <td>0.2023</td>\n",
       "      <td>0.044</td>\n",
       "      <td>0.956</td>\n",
       "      <td>0.000</td>\n",
       "    </tr>\n",
       "    <tr>\n",
       "      <th>4</th>\n",
       "      <td>4</td>\n",
       "      <td>TikTok shows Gen Z how to buy bitcoin and cryp...</td>\n",
       "      <td>2021-09-26T10:40:10Z</td>\n",
       "      <td>https://www.usatoday.com/story/news/2021/09/26...</td>\n",
       "      <td>Financial insecurity is influencing young inve...</td>\n",
       "      <td>On today's episode of 5 Things: Gen Zers and m...</td>\n",
       "      <td>-0.5994</td>\n",
       "      <td>0.000</td>\n",
       "      <td>0.786</td>\n",
       "      <td>0.214</td>\n",
       "    </tr>\n",
       "  </tbody>\n",
       "</table>\n",
       "</div>"
      ],
      "text/plain": [
       "   Unnamed: 0                                          Headlines  \\\n",
       "0           0  JPMorgan Warns Big Investors Are Suddenly Dump...   \n",
       "1           1  Amid China's crackdown on crypto, here's how t...   \n",
       "2           2            3 NFT Stocks With High Growth Potential   \n",
       "3           3  Bitcoin mining company buys Pennsylvania power...   \n",
       "4           4  TikTok shows Gen Z how to buy bitcoin and cryp...   \n",
       "\n",
       "              Date_Time                                                URL  \\\n",
       "0  2021-09-26T10:15:44Z  https://www.forbes.com/sites/billybambrough/20...   \n",
       "1  2021-09-26T05:45:20Z  https://economictimes.indiatimes.com/markets/c...   \n",
       "2  2021-09-25T13:30:00Z  https://www.fool.com/investing/2021/09/25/3-nf...   \n",
       "3  2021-09-26T12:41:00Z  https://www.techspot.com/news/91430-bitcoin-mi...   \n",
       "4  2021-09-26T10:40:10Z  https://www.usatoday.com/story/news/2021/09/26...   \n",
       "\n",
       "                                         Description  \\\n",
       "0  Ahead of China's latest bitcoin and crypto cra...   \n",
       "1  This month we had some good news too for BTC, ...   \n",
       "2  The non-fungible token market is booming and t...   \n",
       "3  Mining the top cryptocurrencies such as Bitcoi...   \n",
       "4  Financial insecurity is influencing young inve...   \n",
       "\n",
       "                                             Content  Compound Sentiment  \\\n",
       "0  Bitcoin and cryptocurrency prices have fallen ...             -0.2732   \n",
       "1  Bitcoin, the largest cryptocurrency, started i...              0.8591   \n",
       "2  The market for non-fungible tokens -- digital ...              0.3400   \n",
       "3  What just happened? Crypto mining companies ar...              0.2023   \n",
       "4  On today's episode of 5 Things: Gen Zers and m...             -0.5994   \n",
       "\n",
       "   Positive Sentiment  Neutral Sentiment  Negative Sentiment  \n",
       "0               0.000              0.928               0.072  \n",
       "1               0.208              0.792               0.000  \n",
       "2               0.146              0.854               0.000  \n",
       "3               0.044              0.956               0.000  \n",
       "4               0.000              0.786               0.214  "
      ]
     },
     "execution_count": 48,
     "metadata": {},
     "output_type": "execute_result"
    }
   ],
   "source": [
    "# Function to get compound sentiments\n",
    "eth_articles_df['Compound Sentiment'] = eth_articles_df['Description'].apply(get_compoundScore)\n",
    "eth_articles_df['Positive Sentiment'] = eth_articles_df['Description'].apply(get_positiveScore)\n",
    "eth_articles_df['Neutral Sentiment'] = eth_articles_df['Description'].apply(get_neutralScore)\n",
    "eth_articles_df['Negative Sentiment'] = eth_articles_df['Description'].apply(get_negativeScore)\n",
    "eth_articles_df.head()"
   ]
  },
  {
   "cell_type": "code",
   "execution_count": 49,
   "metadata": {},
   "outputs": [],
   "source": [
    "# Save BTC Articles data to CSV:\n",
    "eth_articles_df.to_csv(f\"eth_articles_df_{current_date[:10]}.csv\")"
   ]
  },
  {
   "cell_type": "code",
   "execution_count": 50,
   "metadata": {},
   "outputs": [
    {
     "data": {
      "text/html": [
       "<div>\n",
       "<style scoped>\n",
       "    .dataframe tbody tr th:only-of-type {\n",
       "        vertical-align: middle;\n",
       "    }\n",
       "\n",
       "    .dataframe tbody tr th {\n",
       "        vertical-align: top;\n",
       "    }\n",
       "\n",
       "    .dataframe thead th {\n",
       "        text-align: right;\n",
       "    }\n",
       "</style>\n",
       "<table border=\"1\" class=\"dataframe\">\n",
       "  <thead>\n",
       "    <tr style=\"text-align: right;\">\n",
       "      <th></th>\n",
       "      <th>Unnamed: 0</th>\n",
       "      <th>Compound Sentiment</th>\n",
       "      <th>Positive Sentiment</th>\n",
       "      <th>Neutral Sentiment</th>\n",
       "      <th>Negative Sentiment</th>\n",
       "    </tr>\n",
       "  </thead>\n",
       "  <tbody>\n",
       "    <tr>\n",
       "      <th>count</th>\n",
       "      <td>20.00000</td>\n",
       "      <td>20.000000</td>\n",
       "      <td>20.000000</td>\n",
       "      <td>20.000000</td>\n",
       "      <td>20.000000</td>\n",
       "    </tr>\n",
       "    <tr>\n",
       "      <th>mean</th>\n",
       "      <td>9.50000</td>\n",
       "      <td>-0.005710</td>\n",
       "      <td>0.043100</td>\n",
       "      <td>0.909300</td>\n",
       "      <td>0.047600</td>\n",
       "    </tr>\n",
       "    <tr>\n",
       "      <th>std</th>\n",
       "      <td>5.91608</td>\n",
       "      <td>0.415840</td>\n",
       "      <td>0.061223</td>\n",
       "      <td>0.089798</td>\n",
       "      <td>0.070477</td>\n",
       "    </tr>\n",
       "    <tr>\n",
       "      <th>min</th>\n",
       "      <td>0.00000</td>\n",
       "      <td>-0.817600</td>\n",
       "      <td>0.000000</td>\n",
       "      <td>0.695000</td>\n",
       "      <td>0.000000</td>\n",
       "    </tr>\n",
       "    <tr>\n",
       "      <th>25%</th>\n",
       "      <td>4.75000</td>\n",
       "      <td>-0.295200</td>\n",
       "      <td>0.000000</td>\n",
       "      <td>0.882000</td>\n",
       "      <td>0.000000</td>\n",
       "    </tr>\n",
       "    <tr>\n",
       "      <th>50%</th>\n",
       "      <td>9.50000</td>\n",
       "      <td>0.000000</td>\n",
       "      <td>0.000000</td>\n",
       "      <td>0.928500</td>\n",
       "      <td>0.000000</td>\n",
       "    </tr>\n",
       "    <tr>\n",
       "      <th>75%</th>\n",
       "      <td>14.25000</td>\n",
       "      <td>0.236725</td>\n",
       "      <td>0.074000</td>\n",
       "      <td>0.979750</td>\n",
       "      <td>0.083250</td>\n",
       "    </tr>\n",
       "    <tr>\n",
       "      <th>max</th>\n",
       "      <td>19.00000</td>\n",
       "      <td>0.859100</td>\n",
       "      <td>0.208000</td>\n",
       "      <td>1.000000</td>\n",
       "      <td>0.214000</td>\n",
       "    </tr>\n",
       "  </tbody>\n",
       "</table>\n",
       "</div>"
      ],
      "text/plain": [
       "       Unnamed: 0  Compound Sentiment  Positive Sentiment  Neutral Sentiment  \\\n",
       "count    20.00000           20.000000           20.000000          20.000000   \n",
       "mean      9.50000           -0.005710            0.043100           0.909300   \n",
       "std       5.91608            0.415840            0.061223           0.089798   \n",
       "min       0.00000           -0.817600            0.000000           0.695000   \n",
       "25%       4.75000           -0.295200            0.000000           0.882000   \n",
       "50%       9.50000            0.000000            0.000000           0.928500   \n",
       "75%      14.25000            0.236725            0.074000           0.979750   \n",
       "max      19.00000            0.859100            0.208000           1.000000   \n",
       "\n",
       "       Negative Sentiment  \n",
       "count           20.000000  \n",
       "mean             0.047600  \n",
       "std              0.070477  \n",
       "min              0.000000  \n",
       "25%              0.000000  \n",
       "50%              0.000000  \n",
       "75%              0.083250  \n",
       "max              0.214000  "
      ]
     },
     "execution_count": 50,
     "metadata": {},
     "output_type": "execute_result"
    }
   ],
   "source": [
    "# Describe the Bitcoin Sentiment\n",
    "btc_articles_df.describe()"
   ]
  },
  {
   "cell_type": "code",
   "execution_count": 51,
   "metadata": {},
   "outputs": [
    {
     "data": {
      "text/html": [
       "<div>\n",
       "<style scoped>\n",
       "    .dataframe tbody tr th:only-of-type {\n",
       "        vertical-align: middle;\n",
       "    }\n",
       "\n",
       "    .dataframe tbody tr th {\n",
       "        vertical-align: top;\n",
       "    }\n",
       "\n",
       "    .dataframe thead th {\n",
       "        text-align: right;\n",
       "    }\n",
       "</style>\n",
       "<table border=\"1\" class=\"dataframe\">\n",
       "  <thead>\n",
       "    <tr style=\"text-align: right;\">\n",
       "      <th></th>\n",
       "      <th>Unnamed: 0</th>\n",
       "      <th>Compound Sentiment</th>\n",
       "      <th>Positive Sentiment</th>\n",
       "      <th>Neutral Sentiment</th>\n",
       "      <th>Negative Sentiment</th>\n",
       "    </tr>\n",
       "  </thead>\n",
       "  <tbody>\n",
       "    <tr>\n",
       "      <th>count</th>\n",
       "      <td>20.00000</td>\n",
       "      <td>20.000000</td>\n",
       "      <td>20.000000</td>\n",
       "      <td>20.000000</td>\n",
       "      <td>20.000000</td>\n",
       "    </tr>\n",
       "    <tr>\n",
       "      <th>mean</th>\n",
       "      <td>9.50000</td>\n",
       "      <td>0.272145</td>\n",
       "      <td>0.100650</td>\n",
       "      <td>0.865100</td>\n",
       "      <td>0.034250</td>\n",
       "    </tr>\n",
       "    <tr>\n",
       "      <th>std</th>\n",
       "      <td>5.91608</td>\n",
       "      <td>0.487434</td>\n",
       "      <td>0.094671</td>\n",
       "      <td>0.086856</td>\n",
       "      <td>0.054343</td>\n",
       "    </tr>\n",
       "    <tr>\n",
       "      <th>min</th>\n",
       "      <td>0.00000</td>\n",
       "      <td>-0.599400</td>\n",
       "      <td>0.000000</td>\n",
       "      <td>0.689000</td>\n",
       "      <td>0.000000</td>\n",
       "    </tr>\n",
       "    <tr>\n",
       "      <th>25%</th>\n",
       "      <td>4.75000</td>\n",
       "      <td>-0.255800</td>\n",
       "      <td>0.000000</td>\n",
       "      <td>0.813000</td>\n",
       "      <td>0.000000</td>\n",
       "    </tr>\n",
       "    <tr>\n",
       "      <th>50%</th>\n",
       "      <td>9.50000</td>\n",
       "      <td>0.370950</td>\n",
       "      <td>0.110000</td>\n",
       "      <td>0.858500</td>\n",
       "      <td>0.000000</td>\n",
       "    </tr>\n",
       "    <tr>\n",
       "      <th>75%</th>\n",
       "      <td>14.25000</td>\n",
       "      <td>0.675150</td>\n",
       "      <td>0.165750</td>\n",
       "      <td>0.940000</td>\n",
       "      <td>0.056750</td>\n",
       "    </tr>\n",
       "    <tr>\n",
       "      <th>max</th>\n",
       "      <td>19.00000</td>\n",
       "      <td>0.930000</td>\n",
       "      <td>0.311000</td>\n",
       "      <td>1.000000</td>\n",
       "      <td>0.214000</td>\n",
       "    </tr>\n",
       "  </tbody>\n",
       "</table>\n",
       "</div>"
      ],
      "text/plain": [
       "       Unnamed: 0  Compound Sentiment  Positive Sentiment  Neutral Sentiment  \\\n",
       "count    20.00000           20.000000           20.000000          20.000000   \n",
       "mean      9.50000            0.272145            0.100650           0.865100   \n",
       "std       5.91608            0.487434            0.094671           0.086856   \n",
       "min       0.00000           -0.599400            0.000000           0.689000   \n",
       "25%       4.75000           -0.255800            0.000000           0.813000   \n",
       "50%       9.50000            0.370950            0.110000           0.858500   \n",
       "75%      14.25000            0.675150            0.165750           0.940000   \n",
       "max      19.00000            0.930000            0.311000           1.000000   \n",
       "\n",
       "       Negative Sentiment  \n",
       "count           20.000000  \n",
       "mean             0.034250  \n",
       "std              0.054343  \n",
       "min              0.000000  \n",
       "25%              0.000000  \n",
       "50%              0.000000  \n",
       "75%              0.056750  \n",
       "max              0.214000  "
      ]
     },
     "execution_count": 51,
     "metadata": {},
     "output_type": "execute_result"
    }
   ],
   "source": [
    "# Describe the Ethereum Sentiment\n",
    "eth_articles_df.describe()"
   ]
  },
  {
   "cell_type": "markdown",
   "metadata": {},
   "source": [
    "### Questions:\n",
    "\n",
    "Q: Which coin had the highest mean positive score?\n",
    "\n",
    "A: Ethereum with 0.04725\n",
    "\n",
    "Q: Which coin had the highest compound score?\n",
    "\n",
    "A: Both Ethereum and Bitcoin shared the same highest Compound Score at 0.7351\n",
    "\n",
    "Q. Which coin had the highest positive score?\n",
    "\n",
    "A: Ethereum with 0.227"
   ]
  },
  {
   "cell_type": "markdown",
   "metadata": {},
   "source": [
    "---"
   ]
  },
  {
   "cell_type": "markdown",
   "metadata": {},
   "source": [
    "## 2. Natural Language Processing\n",
    "---\n",
    "###   Tokenizer\n",
    "\n",
    "In this section, you will use NLTK and Python to tokenize the text for each coin. Be sure to:\n",
    "1. Lowercase each word.\n",
    "2. Remove Punctuation.\n",
    "3. Remove Stopwords."
   ]
  },
  {
   "cell_type": "code",
   "execution_count": 52,
   "metadata": {},
   "outputs": [],
   "source": [
    "from nltk.tokenize import word_tokenize, sent_tokenize\n",
    "from nltk.corpus import stopwords\n",
    "from nltk.stem import WordNetLemmatizer, PorterStemmer\n",
    "from string import punctuation\n",
    "import re"
   ]
  },
  {
   "cell_type": "code",
   "execution_count": 53,
   "metadata": {},
   "outputs": [],
   "source": [
    "# Instantiate the lemmatizer\n",
    "lemmatizer = WordNetLemmatizer()\n",
    "\n",
    "# Create a list of stopwords\n",
    "sw = set(stopwords.words('english'))\n",
    "\n",
    "# Expand the default stopwords list if necessary\n",
    "# YOUR CODE HERE!"
   ]
  },
  {
   "cell_type": "markdown",
   "metadata": {},
   "source": [
    "# Complete the tokenizer function\n",
    "def tokenizer(text):\n",
    "    \"\"\"Tokenizes text.\"\"\"\n",
    "    \n",
    "    # Remove the punctuation from text\n",
    "    regex = re.compile(\"[^a-zA-Z ]\")\n",
    "    re_clean = regex.sub('', text)\n",
    "   \n",
    "    # Create a tokenized list of the words\n",
    "    words = word_tokenize(re_clean)\n",
    "    \n",
    "    # Lemmatize words into root words\n",
    "    lem = [lemmatizer.lemmatize(word) for word in words]\n",
    "   \n",
    "    # Convert the words to lowercase & Remove the stop words\n",
    "    output = [word.lower() for word in lem if word.lower() not in sw]\n",
    "    \n",
    "    tokens = ','.join(output)\n",
    "    \n",
    "    return tokens"
   ]
  },
  {
   "cell_type": "code",
   "execution_count": 69,
   "metadata": {},
   "outputs": [],
   "source": [
    "def tokenizer(text):\n",
    "    \"\"\"Tokenizes text.\"\"\"\n",
    "    \n",
    "    # Create a list of the words\n",
    "    words = word_tokenize(text)\n",
    "\n",
    "    # Convert the words to lowercase\n",
    "    words = list(filter(lambda w: w.lower(), words))\n",
    "    \n",
    "    # Remove the punctuation\n",
    "    words = list(filter(lambda t: t not in punctuation, words))\n",
    "    \n",
    "    # Remove the stopwords\n",
    "    words = list(filter(lambda t: t.lower() not in sw, words))\n",
    "    \n",
    "    # Lemmatize Words into root words\n",
    "    tokens = [lemmatizer.lemmatize(word) for word in words]\n",
    "    \n",
    "    return tokens"
   ]
  },
  {
   "cell_type": "markdown",
   "metadata": {},
   "source": [
    "# Below asks for a column?  Where or What dataframe are we adding this column too?????"
   ]
  },
  {
   "cell_type": "code",
   "execution_count": 55,
   "metadata": {},
   "outputs": [],
   "source": [
    "# Create a new tokens column for Bitcoin"
   ]
  },
  {
   "cell_type": "code",
   "execution_count": null,
   "metadata": {},
   "outputs": [],
   "source": []
  },
  {
   "cell_type": "code",
   "execution_count": 70,
   "metadata": {
    "tags": []
   },
   "outputs": [],
   "source": [
    "btc_articles_df['Tokens'] = btc_articles_df['Description'].apply(tokenizer)"
   ]
  },
  {
   "cell_type": "code",
   "execution_count": 71,
   "metadata": {},
   "outputs": [
    {
     "data": {
      "text/html": [
       "<div>\n",
       "<style scoped>\n",
       "    .dataframe tbody tr th:only-of-type {\n",
       "        vertical-align: middle;\n",
       "    }\n",
       "\n",
       "    .dataframe tbody tr th {\n",
       "        vertical-align: top;\n",
       "    }\n",
       "\n",
       "    .dataframe thead th {\n",
       "        text-align: right;\n",
       "    }\n",
       "</style>\n",
       "<table border=\"1\" class=\"dataframe\">\n",
       "  <thead>\n",
       "    <tr style=\"text-align: right;\">\n",
       "      <th></th>\n",
       "      <th>Unnamed: 0</th>\n",
       "      <th>Headlines</th>\n",
       "      <th>Date_Time</th>\n",
       "      <th>URL</th>\n",
       "      <th>Description</th>\n",
       "      <th>Content</th>\n",
       "      <th>Compound Sentiment</th>\n",
       "      <th>Positive Sentiment</th>\n",
       "      <th>Neutral Sentiment</th>\n",
       "      <th>Negative Sentiment</th>\n",
       "      <th>Tokens</th>\n",
       "    </tr>\n",
       "  </thead>\n",
       "  <tbody>\n",
       "    <tr>\n",
       "      <th>0</th>\n",
       "      <td>0</td>\n",
       "      <td>Hitting the Books: How Bitcoin is somehow wort...</td>\n",
       "      <td>2021-09-25T15:30:24Z</td>\n",
       "      <td>https://www.engadget.com/hitting-the-books-the...</td>\n",
       "      <td>Bitcoin and similar blockchain-based cryptos e...</td>\n",
       "      <td>Bitcoin and similar blockchain-based cryptos e...</td>\n",
       "      <td>0.3400</td>\n",
       "      <td>0.058</td>\n",
       "      <td>0.942</td>\n",
       "      <td>0.000</td>\n",
       "      <td>[Bitcoin, similar, blockchain-based, cryptos, ...</td>\n",
       "    </tr>\n",
       "    <tr>\n",
       "      <th>1</th>\n",
       "      <td>1</td>\n",
       "      <td>26,000 and Counting: America is Installing Hun...</td>\n",
       "      <td>2021-09-26T03:34:00Z</td>\n",
       "      <td>https://news.slashdot.org/story/21/09/26/02520...</td>\n",
       "      <td>The cryptocurrency-ATM company Coinmover has o...</td>\n",
       "      <td>The cryptocurrency-ATM company Coinmover has o...</td>\n",
       "      <td>0.0000</td>\n",
       "      <td>0.000</td>\n",
       "      <td>1.000</td>\n",
       "      <td>0.000</td>\n",
       "      <td>[cryptocurrency-ATM, company, Coinmover, 100, ...</td>\n",
       "    </tr>\n",
       "    <tr>\n",
       "      <th>2</th>\n",
       "      <td>2</td>\n",
       "      <td>VoIP.ms Battles Week-Long Sustained DDoS-for-R...</td>\n",
       "      <td>2021-09-26T01:34:00Z</td>\n",
       "      <td>https://tech.slashdot.org/story/21/09/26/00142...</td>\n",
       "      <td>Slashdot reader Striek writes: VoIP.ms, a Cana...</td>\n",
       "      <td>VoIP.ms, a Canadian VoIP provider [also servin...</td>\n",
       "      <td>-0.8176</td>\n",
       "      <td>0.000</td>\n",
       "      <td>0.813</td>\n",
       "      <td>0.187</td>\n",
       "      <td>[Slashdot, reader, Striek, writes, VoIP.ms, Ca...</td>\n",
       "    </tr>\n",
       "    <tr>\n",
       "      <th>3</th>\n",
       "      <td>3</td>\n",
       "      <td>Cryptocurrency exchange Huobi to clean up exis...</td>\n",
       "      <td>2021-09-26T09:23:00Z</td>\n",
       "      <td>https://www.reuters.com/world/china/cryptocurr...</td>\n",
       "      <td>Chinese cryptocurrency exchange Huobi Global s...</td>\n",
       "      <td>A Chinese flag is seen among representations o...</td>\n",
       "      <td>-0.2263</td>\n",
       "      <td>0.000</td>\n",
       "      <td>0.947</td>\n",
       "      <td>0.053</td>\n",
       "      <td>[Chinese, cryptocurrency, exchange, Huobi, Glo...</td>\n",
       "    </tr>\n",
       "    <tr>\n",
       "      <th>4</th>\n",
       "      <td>4</td>\n",
       "      <td>110,000 Affected by Epik Breach - Including Th...</td>\n",
       "      <td>2021-09-25T22:34:00Z</td>\n",
       "      <td>https://yro.slashdot.org/story/21/09/25/153423...</td>\n",
       "      <td>Epik's massive data breach is already affectin...</td>\n",
       "      <td>Epik's massive data breach is already affectin...</td>\n",
       "      <td>0.6361</td>\n",
       "      <td>0.095</td>\n",
       "      <td>0.905</td>\n",
       "      <td>0.000</td>\n",
       "      <td>[Epik, 's, massive, data, breach, already, aff...</td>\n",
       "    </tr>\n",
       "  </tbody>\n",
       "</table>\n",
       "</div>"
      ],
      "text/plain": [
       "   Unnamed: 0                                          Headlines  \\\n",
       "0           0  Hitting the Books: How Bitcoin is somehow wort...   \n",
       "1           1  26,000 and Counting: America is Installing Hun...   \n",
       "2           2  VoIP.ms Battles Week-Long Sustained DDoS-for-R...   \n",
       "3           3  Cryptocurrency exchange Huobi to clean up exis...   \n",
       "4           4  110,000 Affected by Epik Breach - Including Th...   \n",
       "\n",
       "              Date_Time                                                URL  \\\n",
       "0  2021-09-25T15:30:24Z  https://www.engadget.com/hitting-the-books-the...   \n",
       "1  2021-09-26T03:34:00Z  https://news.slashdot.org/story/21/09/26/02520...   \n",
       "2  2021-09-26T01:34:00Z  https://tech.slashdot.org/story/21/09/26/00142...   \n",
       "3  2021-09-26T09:23:00Z  https://www.reuters.com/world/china/cryptocurr...   \n",
       "4  2021-09-25T22:34:00Z  https://yro.slashdot.org/story/21/09/25/153423...   \n",
       "\n",
       "                                         Description  \\\n",
       "0  Bitcoin and similar blockchain-based cryptos e...   \n",
       "1  The cryptocurrency-ATM company Coinmover has o...   \n",
       "2  Slashdot reader Striek writes: VoIP.ms, a Cana...   \n",
       "3  Chinese cryptocurrency exchange Huobi Global s...   \n",
       "4  Epik's massive data breach is already affectin...   \n",
       "\n",
       "                                             Content  Compound Sentiment  \\\n",
       "0  Bitcoin and similar blockchain-based cryptos e...              0.3400   \n",
       "1  The cryptocurrency-ATM company Coinmover has o...              0.0000   \n",
       "2  VoIP.ms, a Canadian VoIP provider [also servin...             -0.8176   \n",
       "3  A Chinese flag is seen among representations o...             -0.2263   \n",
       "4  Epik's massive data breach is already affectin...              0.6361   \n",
       "\n",
       "   Positive Sentiment  Neutral Sentiment  Negative Sentiment  \\\n",
       "0               0.058              0.942               0.000   \n",
       "1               0.000              1.000               0.000   \n",
       "2               0.000              0.813               0.187   \n",
       "3               0.000              0.947               0.053   \n",
       "4               0.095              0.905               0.000   \n",
       "\n",
       "                                              Tokens  \n",
       "0  [Bitcoin, similar, blockchain-based, cryptos, ...  \n",
       "1  [cryptocurrency-ATM, company, Coinmover, 100, ...  \n",
       "2  [Slashdot, reader, Striek, writes, VoIP.ms, Ca...  \n",
       "3  [Chinese, cryptocurrency, exchange, Huobi, Glo...  \n",
       "4  [Epik, 's, massive, data, breach, already, aff...  "
      ]
     },
     "execution_count": 71,
     "metadata": {},
     "output_type": "execute_result"
    }
   ],
   "source": [
    "btc_articles_df.head()"
   ]
  },
  {
   "cell_type": "code",
   "execution_count": 72,
   "metadata": {},
   "outputs": [],
   "source": [
    "eth_articles_df['Tokens'] = eth_articles_df['Description'].apply(tokenizer)"
   ]
  },
  {
   "cell_type": "code",
   "execution_count": 73,
   "metadata": {},
   "outputs": [
    {
     "data": {
      "text/html": [
       "<div>\n",
       "<style scoped>\n",
       "    .dataframe tbody tr th:only-of-type {\n",
       "        vertical-align: middle;\n",
       "    }\n",
       "\n",
       "    .dataframe tbody tr th {\n",
       "        vertical-align: top;\n",
       "    }\n",
       "\n",
       "    .dataframe thead th {\n",
       "        text-align: right;\n",
       "    }\n",
       "</style>\n",
       "<table border=\"1\" class=\"dataframe\">\n",
       "  <thead>\n",
       "    <tr style=\"text-align: right;\">\n",
       "      <th></th>\n",
       "      <th>Unnamed: 0</th>\n",
       "      <th>Headlines</th>\n",
       "      <th>Date_Time</th>\n",
       "      <th>URL</th>\n",
       "      <th>Description</th>\n",
       "      <th>Content</th>\n",
       "      <th>Compound Sentiment</th>\n",
       "      <th>Positive Sentiment</th>\n",
       "      <th>Neutral Sentiment</th>\n",
       "      <th>Negative Sentiment</th>\n",
       "      <th>Tokens</th>\n",
       "    </tr>\n",
       "  </thead>\n",
       "  <tbody>\n",
       "    <tr>\n",
       "      <th>0</th>\n",
       "      <td>0</td>\n",
       "      <td>JPMorgan Warns Big Investors Are Suddenly Dump...</td>\n",
       "      <td>2021-09-26T10:15:44Z</td>\n",
       "      <td>https://www.forbes.com/sites/billybambrough/20...</td>\n",
       "      <td>Ahead of China's latest bitcoin and crypto cra...</td>\n",
       "      <td>Bitcoin and cryptocurrency prices have fallen ...</td>\n",
       "      <td>-0.2732</td>\n",
       "      <td>0.000</td>\n",
       "      <td>0.928</td>\n",
       "      <td>0.072</td>\n",
       "      <td>[Ahead, China, 's, latest, bitcoin, crypto, cr...</td>\n",
       "    </tr>\n",
       "    <tr>\n",
       "      <th>1</th>\n",
       "      <td>1</td>\n",
       "      <td>Amid China's crackdown on crypto, here's how t...</td>\n",
       "      <td>2021-09-26T05:45:20Z</td>\n",
       "      <td>https://economictimes.indiatimes.com/markets/c...</td>\n",
       "      <td>This month we had some good news too for BTC, ...</td>\n",
       "      <td>Bitcoin, the largest cryptocurrency, started i...</td>\n",
       "      <td>0.8591</td>\n",
       "      <td>0.208</td>\n",
       "      <td>0.792</td>\n",
       "      <td>0.000</td>\n",
       "      <td>[month, good, news, BTC, El, Salvador, started...</td>\n",
       "    </tr>\n",
       "    <tr>\n",
       "      <th>2</th>\n",
       "      <td>2</td>\n",
       "      <td>3 NFT Stocks With High Growth Potential</td>\n",
       "      <td>2021-09-25T13:30:00Z</td>\n",
       "      <td>https://www.fool.com/investing/2021/09/25/3-nf...</td>\n",
       "      <td>The non-fungible token market is booming and t...</td>\n",
       "      <td>The market for non-fungible tokens -- digital ...</td>\n",
       "      <td>0.3400</td>\n",
       "      <td>0.146</td>\n",
       "      <td>0.854</td>\n",
       "      <td>0.000</td>\n",
       "      <td>[non-fungible, token, market, booming, company...</td>\n",
       "    </tr>\n",
       "    <tr>\n",
       "      <th>3</th>\n",
       "      <td>3</td>\n",
       "      <td>Bitcoin mining company buys Pennsylvania power...</td>\n",
       "      <td>2021-09-26T12:41:00Z</td>\n",
       "      <td>https://www.techspot.com/news/91430-bitcoin-mi...</td>\n",
       "      <td>Mining the top cryptocurrencies such as Bitcoi...</td>\n",
       "      <td>What just happened? Crypto mining companies ar...</td>\n",
       "      <td>0.2023</td>\n",
       "      <td>0.044</td>\n",
       "      <td>0.956</td>\n",
       "      <td>0.000</td>\n",
       "      <td>[Mining, top, cryptocurrencies, Bitcoin, Ether...</td>\n",
       "    </tr>\n",
       "    <tr>\n",
       "      <th>4</th>\n",
       "      <td>4</td>\n",
       "      <td>TikTok shows Gen Z how to buy bitcoin and cryp...</td>\n",
       "      <td>2021-09-26T10:40:10Z</td>\n",
       "      <td>https://www.usatoday.com/story/news/2021/09/26...</td>\n",
       "      <td>Financial insecurity is influencing young inve...</td>\n",
       "      <td>On today's episode of 5 Things: Gen Zers and m...</td>\n",
       "      <td>-0.5994</td>\n",
       "      <td>0.000</td>\n",
       "      <td>0.786</td>\n",
       "      <td>0.214</td>\n",
       "      <td>[Financial, insecurity, influencing, young, in...</td>\n",
       "    </tr>\n",
       "  </tbody>\n",
       "</table>\n",
       "</div>"
      ],
      "text/plain": [
       "   Unnamed: 0                                          Headlines  \\\n",
       "0           0  JPMorgan Warns Big Investors Are Suddenly Dump...   \n",
       "1           1  Amid China's crackdown on crypto, here's how t...   \n",
       "2           2            3 NFT Stocks With High Growth Potential   \n",
       "3           3  Bitcoin mining company buys Pennsylvania power...   \n",
       "4           4  TikTok shows Gen Z how to buy bitcoin and cryp...   \n",
       "\n",
       "              Date_Time                                                URL  \\\n",
       "0  2021-09-26T10:15:44Z  https://www.forbes.com/sites/billybambrough/20...   \n",
       "1  2021-09-26T05:45:20Z  https://economictimes.indiatimes.com/markets/c...   \n",
       "2  2021-09-25T13:30:00Z  https://www.fool.com/investing/2021/09/25/3-nf...   \n",
       "3  2021-09-26T12:41:00Z  https://www.techspot.com/news/91430-bitcoin-mi...   \n",
       "4  2021-09-26T10:40:10Z  https://www.usatoday.com/story/news/2021/09/26...   \n",
       "\n",
       "                                         Description  \\\n",
       "0  Ahead of China's latest bitcoin and crypto cra...   \n",
       "1  This month we had some good news too for BTC, ...   \n",
       "2  The non-fungible token market is booming and t...   \n",
       "3  Mining the top cryptocurrencies such as Bitcoi...   \n",
       "4  Financial insecurity is influencing young inve...   \n",
       "\n",
       "                                             Content  Compound Sentiment  \\\n",
       "0  Bitcoin and cryptocurrency prices have fallen ...             -0.2732   \n",
       "1  Bitcoin, the largest cryptocurrency, started i...              0.8591   \n",
       "2  The market for non-fungible tokens -- digital ...              0.3400   \n",
       "3  What just happened? Crypto mining companies ar...              0.2023   \n",
       "4  On today's episode of 5 Things: Gen Zers and m...             -0.5994   \n",
       "\n",
       "   Positive Sentiment  Neutral Sentiment  Negative Sentiment  \\\n",
       "0               0.000              0.928               0.072   \n",
       "1               0.208              0.792               0.000   \n",
       "2               0.146              0.854               0.000   \n",
       "3               0.044              0.956               0.000   \n",
       "4               0.000              0.786               0.214   \n",
       "\n",
       "                                              Tokens  \n",
       "0  [Ahead, China, 's, latest, bitcoin, crypto, cr...  \n",
       "1  [month, good, news, BTC, El, Salvador, started...  \n",
       "2  [non-fungible, token, market, booming, company...  \n",
       "3  [Mining, top, cryptocurrencies, Bitcoin, Ether...  \n",
       "4  [Financial, insecurity, influencing, young, in...  "
      ]
     },
     "execution_count": 73,
     "metadata": {},
     "output_type": "execute_result"
    }
   ],
   "source": [
    "eth_articles_df.head()"
   ]
  },
  {
   "cell_type": "code",
   "execution_count": null,
   "metadata": {},
   "outputs": [],
   "source": []
  },
  {
   "cell_type": "code",
   "execution_count": null,
   "metadata": {},
   "outputs": [],
   "source": []
  },
  {
   "cell_type": "code",
   "execution_count": 54,
   "metadata": {},
   "outputs": [
    {
     "data": {
      "text/plain": [
       "'Bitcoin and similar blockchain-based cryptos exhibit the same radical divergence from traditional scarcity economics that we first saw when MP3s and Napster cratered physical album sales at the turn of the century. Unlike gold, which derives its value from bo…'"
      ]
     },
     "execution_count": 54,
     "metadata": {},
     "output_type": "execute_result"
    }
   ],
   "source": [
    "# Turn the discriptive column into a list of text:\n",
    "btc_text = btc_articles_df['Description'].to_list()\n",
    "btc_text[0]"
   ]
  },
  {
   "cell_type": "code",
   "execution_count": 55,
   "metadata": {},
   "outputs": [
    {
     "ename": "NameError",
     "evalue": "name 'btc_combined_text' is not defined",
     "output_type": "error",
     "traceback": [
      "\u001b[1;31m---------------------------------------------------------------------------\u001b[0m",
      "\u001b[1;31mNameError\u001b[0m                                 Traceback (most recent call last)",
      "\u001b[1;32m<ipython-input-55-0a02743cdf27>\u001b[0m in \u001b[0;36m<module>\u001b[1;34m\u001b[0m\n\u001b[0;32m      1\u001b[0m \u001b[1;32mfor\u001b[0m \u001b[0mi\u001b[0m \u001b[1;32min\u001b[0m \u001b[0mrange\u001b[0m\u001b[1;33m(\u001b[0m\u001b[1;36m0\u001b[0m\u001b[1;33m,\u001b[0m \u001b[0mlen\u001b[0m\u001b[1;33m(\u001b[0m\u001b[0mbtc_text\u001b[0m\u001b[1;33m)\u001b[0m\u001b[1;33m)\u001b[0m\u001b[1;33m:\u001b[0m\u001b[1;33m\u001b[0m\u001b[1;33m\u001b[0m\u001b[0m\n\u001b[0;32m      2\u001b[0m \u001b[1;33m\u001b[0m\u001b[0m\n\u001b[1;32m----> 3\u001b[1;33m     \u001b[0mbtc_tokens\u001b[0m \u001b[1;33m=\u001b[0m \u001b[0mword_tokenize\u001b[0m\u001b[1;33m(\u001b[0m\u001b[0mbtc_combined_text\u001b[0m\u001b[1;33m)\u001b[0m\u001b[1;33m\u001b[0m\u001b[1;33m\u001b[0m\u001b[0m\n\u001b[0m\u001b[0;32m      4\u001b[0m     \u001b[0mbtc_combined_text\u001b[0m \u001b[1;33m=\u001b[0m \u001b[1;34m' '\u001b[0m\u001b[1;33m.\u001b[0m\u001b[0mjoin\u001b[0m\u001b[1;33m(\u001b[0m\u001b[0mbtc_tokens\u001b[0m\u001b[1;33m)\u001b[0m\u001b[1;33m\u001b[0m\u001b[1;33m\u001b[0m\u001b[0m\n\u001b[0;32m      5\u001b[0m \u001b[1;33m\u001b[0m\u001b[0m\n",
      "\u001b[1;31mNameError\u001b[0m: name 'btc_combined_text' is not defined"
     ]
    }
   ],
   "source": [
    "for i in range(0, len(btc_text)):\n",
    "    \n",
    "    btc_tokens = word_tokenize(btc_combined_text)\n",
    "    btc_combined_text = ' '.join(btc_tokens)\n",
    "\n",
    "btc_combined_text"
   ]
  },
  {
   "cell_type": "code",
   "execution_count": null,
   "metadata": {
    "tags": []
   },
   "outputs": [],
   "source": [
    "# Create a new tokens column for Bitcoin\n",
    "btc_tokens = tokenizer(btc_combined_text)\n",
    "print(btc_tokens)"
   ]
  },
  {
   "cell_type": "code",
   "execution_count": null,
   "metadata": {},
   "outputs": [],
   "source": [
    "print(type(btc_tokens))"
   ]
  },
  {
   "cell_type": "code",
   "execution_count": null,
   "metadata": {},
   "outputs": [],
   "source": [
    "# Create a new tokens column for Ethereum\n",
    "# Turn the discriptive column into a list of text:\n",
    "eth_text = eth_articles_df['Description'].to_list()\n",
    "for i in range(0, len(eth_text)):\n",
    "    eth_combined_text = ' '.join(eth_text)\n",
    "\n",
    "eth_tokens = tokenizer(eth_combined_text)\n",
    "print(eth_tokens)"
   ]
  },
  {
   "cell_type": "markdown",
   "metadata": {},
   "source": [
    "---"
   ]
  },
  {
   "cell_type": "markdown",
   "metadata": {},
   "source": [
    "### NGrams and Frequency Analysis\n",
    "\n",
    "In this section you will look at the ngrams and word frequency for each coin. \n",
    "\n",
    "1. Use NLTK to produce the n-grams for N = 2. \n",
    "2. List the top 10 words for each coin. "
   ]
  },
  {
   "cell_type": "code",
   "execution_count": 74,
   "metadata": {},
   "outputs": [],
   "source": [
    "from collections import Counter\n",
    "from nltk import ngrams\n",
    "import spacy\n",
    "\n",
    "# Load the English language model for spaCy\n",
    "nlp = spacy.load(\"en_core_web_sm\")"
   ]
  },
  {
   "cell_type": "code",
   "execution_count": 75,
   "metadata": {},
   "outputs": [],
   "source": [
    "btc_bigrams = ngrams(tokenizer(btc_articles_df.Description.str.cat()), 2)"
   ]
  },
  {
   "cell_type": "code",
   "execution_count": 76,
   "metadata": {},
   "outputs": [
    {
     "data": {
      "text/plain": [
       "[(('/li', 'li'), 4),\n",
       " (('Bitcoin', 'Ethereum'), 3),\n",
       " (('li', 'China'), 3),\n",
       " (('crypto', 'transaction'), 3),\n",
       " (('end', 'year'), 2),\n",
       " (('central', 'bank'), 2),\n",
       " (('world', '’'), 2),\n",
       " (('ol', 'li'), 2),\n",
       " (('li', 'Bitcoin'), 2),\n",
       " (('Benzinga', 'Benzinga'), 2)]"
      ]
     },
     "execution_count": 76,
     "metadata": {},
     "output_type": "execute_result"
    }
   ],
   "source": [
    "Counter(btc_bigrams).most_common(10)"
   ]
  },
  {
   "cell_type": "code",
   "execution_count": null,
   "metadata": {},
   "outputs": [],
   "source": [
    "print(dict(btc_bigrams))"
   ]
  },
  {
   "cell_type": "code",
   "execution_count": null,
   "metadata": {},
   "outputs": [],
   "source": [
    "from collections import Counter\n",
    "from nltk import ngrams\n",
    "import spacy\n",
    "\n",
    "# Load the English language model for spaCy\n",
    "nlp = spacy.load(\"en_core_web_sm\")"
   ]
  },
  {
   "cell_type": "code",
   "execution_count": null,
   "metadata": {},
   "outputs": [],
   "source": [
    "def create_ngrams(text, n):\n",
    "    n_grams = ngrams(nltk.word_tokenize(text), n)\n",
    "#     output = ['_'.join(i) for i in bigrams]\n",
    "    return [' '.join(grams) for grams in n_grams]"
   ]
  },
  {
   "cell_type": "code",
   "execution_count": null,
   "metadata": {},
   "outputs": [],
   "source": [
    "print(create_ngrams(btc_combined_text, 2))"
   ]
  },
  {
   "cell_type": "code",
   "execution_count": null,
   "metadata": {},
   "outputs": [],
   "source": [
    "def create_bigrams(text):\n",
    "    bigrams = ngrams(text, n=2)\n",
    "#     output = ['_'.join(i) for i in bigrams]\n",
    "#     return ' '.join(output)\n",
    "    return bigrams"
   ]
  },
  {
   "cell_type": "code",
   "execution_count": null,
   "metadata": {},
   "outputs": [],
   "source": [
    "# Generate the Bitcoin N-grams where N=2\n",
    "btc_bigrams = create_bigrams(btc_combined_text)\n",
    "print(dict(btc_bigrams))"
   ]
  },
  {
   "cell_type": "code",
   "execution_count": null,
   "metadata": {},
   "outputs": [],
   "source": [
    "btc_bigram_list = list(btc_bigrams)\n",
    "print(btc_bigram_list)"
   ]
  },
  {
   "cell_type": "code",
   "execution_count": null,
   "metadata": {},
   "outputs": [],
   "source": [
    "# Generate the Ethereum N-grams where N=2\n",
    "print(create_ngrams(eth_combined_text, 2))"
   ]
  },
  {
   "cell_type": "code",
   "execution_count": 78,
   "metadata": {},
   "outputs": [],
   "source": [
    "# Function token_count generates the top 10 words for a given coin\n",
    "def token_count(tokens, N=10):\n",
    "    \"\"\"Returns the top N tokens from the frequency count\"\"\"\n",
    "    return Counter(tokens).most_common(N)"
   ]
  },
  {
   "cell_type": "code",
   "execution_count": null,
   "metadata": {},
   "outputs": [],
   "source": [
    "# Use token_count to get the top 10 words for Bitcoin\n",
    "print(token_count(btc_tokens))"
   ]
  },
  {
   "cell_type": "code",
   "execution_count": null,
   "metadata": {},
   "outputs": [],
   "source": [
    "# Get a list of Adjectives, Nouns, and Proper Nouns from text.  Returns each word with a count.\n",
    "def most_freq_words(text):\n",
    "    \"\"\"\n",
    "    This function gets all of the adjectives and nouns in the text.\n",
    "    Args:  text (string):  The text to analyze\n",
    "    Returns:  most_common_word(list):  A list with all Adjectives, Nouns, and Proper Nouns\n",
    "    \"\"\"\n",
    "    # Tokenizes text and parse each token\n",
    "    doc = nlp(text)\n",
    "    \n",
    "    # Creates a list with all the adjectives in the text\n",
    "    words = [token.text.lower() for token in doc if ((token.pos_ == 'ADJ') or (token.pos_ == 'PROPN') or (token.pos_ == 'NOUN'))]\n",
    "    \n",
    "    # Retrieves the most frequent adjective in the `adjs` list using the Counter module\n",
    "    most_common_word = Counter(words).most_common(1)\n",
    "    \n",
    "    return most_common_word\n",
    "\n",
    "count_words = lambda x: most_freq_words(x)"
   ]
  },
  {
   "cell_type": "code",
   "execution_count": null,
   "metadata": {},
   "outputs": [],
   "source": [
    "# Create a list most common words\n",
    "word_count = btc_articles_df['Description'].apply(count_words)"
   ]
  },
  {
   "cell_type": "code",
   "execution_count": null,
   "metadata": {},
   "outputs": [],
   "source": [
    "# Display Sample\n",
    "print(word_count[:10])"
   ]
  },
  {
   "cell_type": "code",
   "execution_count": null,
   "metadata": {},
   "outputs": [],
   "source": [
    "type(word_count)"
   ]
  },
  {
   "cell_type": "markdown",
   "metadata": {},
   "source": [
    "#### Use the \"most_common()\" function from the Counter module to fetcht the the 10 most frequent words in the articles.  \n",
    "The \"most_common()\" function returns a Python list that can be stored in the variable most_frequent_words."
   ]
  },
  {
   "cell_type": "code",
   "execution_count": null,
   "metadata": {},
   "outputs": [],
   "source": [
    "# # Retreive the most frequent words:\n",
    "# most_frequent_words = Counter(word_count).most_common(10)\n",
    "# print(most_frequent_words)"
   ]
  },
  {
   "cell_type": "code",
   "execution_count": 80,
   "metadata": {
    "collapsed": true,
    "jupyter": {
     "outputs_hidden": true
    },
    "tags": []
   },
   "outputs": [
    {
     "data": {
      "text/plain": [
       "['Bitcoin',\n",
       " 'similar',\n",
       " 'blockchain-based',\n",
       " 'cryptos',\n",
       " 'exhibit',\n",
       " 'radical',\n",
       " 'divergence',\n",
       " 'traditional',\n",
       " 'scarcity',\n",
       " 'economics',\n",
       " 'first',\n",
       " 'saw',\n",
       " 'MP3s',\n",
       " 'Napster',\n",
       " 'cratered',\n",
       " 'physical',\n",
       " 'album',\n",
       " 'sale',\n",
       " 'turn',\n",
       " 'century',\n",
       " 'Unlike',\n",
       " 'gold',\n",
       " 'derives',\n",
       " 'value',\n",
       " 'bo…The',\n",
       " 'cryptocurrency-ATM',\n",
       " 'company',\n",
       " 'Coinmover',\n",
       " '100',\n",
       " 'machine',\n",
       " 'store',\n",
       " 'Massachusetts',\n",
       " 'New',\n",
       " 'Hampshire',\n",
       " 'Connecticut',\n",
       " 'Washington',\n",
       " 'state',\n",
       " '—',\n",
       " 'plan',\n",
       " '1,250',\n",
       " 'machine',\n",
       " '18',\n",
       " 'state',\n",
       " 'end',\n",
       " 'year',\n",
       " 'report',\n",
       " 'Boston',\n",
       " 'Globe',\n",
       " 'Right',\n",
       " 'mach…Slashdot',\n",
       " 'reader',\n",
       " 'Striek',\n",
       " 'writes',\n",
       " 'VoIP.ms',\n",
       " 'Canadian',\n",
       " 'VoIP',\n",
       " 'provider',\n",
       " 'also',\n",
       " 'serving',\n",
       " 'US',\n",
       " 'sustained',\n",
       " 'presumably',\n",
       " 'massive',\n",
       " 'DDoS',\n",
       " 'attack',\n",
       " 'started',\n",
       " 'September',\n",
       " '16th',\n",
       " '2021',\n",
       " 'attack',\n",
       " 'disruptive',\n",
       " 'enough',\n",
       " 'covered',\n",
       " 'major',\n",
       " 'medi…Chinese',\n",
       " 'cryptocurrency',\n",
       " 'exchange',\n",
       " 'Huobi',\n",
       " 'Global',\n",
       " 'said',\n",
       " 'Sunday',\n",
       " 'stopped',\n",
       " 'taking',\n",
       " 'new',\n",
       " 'mainland',\n",
       " 'customer',\n",
       " 'Friday',\n",
       " 'would',\n",
       " 'end',\n",
       " 'contract',\n",
       " 'mainland',\n",
       " 'client',\n",
       " 'end',\n",
       " 'year',\n",
       " 'comply',\n",
       " 'local',\n",
       " 'regulations.Epik',\n",
       " \"'s\",\n",
       " 'massive',\n",
       " 'data',\n",
       " 'breach',\n",
       " 'already',\n",
       " 'affecting',\n",
       " 'life',\n",
       " 'Today',\n",
       " 'Washington',\n",
       " 'Post',\n",
       " 'describes',\n",
       " 'real',\n",
       " 'estate',\n",
       " 'agent',\n",
       " 'Pompano',\n",
       " 'Beach',\n",
       " 'urged',\n",
       " 'buyer',\n",
       " 'Facebook',\n",
       " 'move',\n",
       " '``',\n",
       " 'beautiful',\n",
       " 'State',\n",
       " \"''\",\n",
       " 'name',\n",
       " 'personal',\n",
       " 'detail',\n",
       " '``',\n",
       " 'found',\n",
       " 'invoice',\n",
       " 'suggestin…Financial',\n",
       " 'insecurity',\n",
       " 'influencing',\n",
       " 'young',\n",
       " 'investor',\n",
       " 'take',\n",
       " 'risk',\n",
       " 'cryptocurrencies',\n",
       " \"'re\",\n",
       " 'learning',\n",
       " 'TikTok',\n",
       " 'Instagram.Ahead',\n",
       " 'China',\n",
       " \"'s\",\n",
       " 'latest',\n",
       " 'bitcoin',\n",
       " 'crypto',\n",
       " 'crackdown',\n",
       " 'analyst',\n",
       " 'Wall',\n",
       " 'Street',\n",
       " 'giant',\n",
       " 'JPMorgan\\ufeff',\n",
       " 'warned',\n",
       " 'big',\n",
       " 'investor',\n",
       " 'begun',\n",
       " 'pivoting',\n",
       " 'bitcoin',\n",
       " 'future',\n",
       " 'ethereum',\n",
       " '...',\n",
       " 'three',\n",
       " 'year',\n",
       " 'together',\n",
       " 'well',\n",
       " 'son',\n",
       " 'X',\n",
       " 'Æ',\n",
       " 'A-Xii',\n",
       " 'reported',\n",
       " 'Elon',\n",
       " 'Musk',\n",
       " 'Grimes',\n",
       " 'going',\n",
       " '``',\n",
       " 'Semi',\n",
       " \"''\",\n",
       " 'separation',\n",
       " 'exclusive',\n",
       " 'interview',\n",
       " 'Musk',\n",
       " 'reveals',\n",
       " 'Grimes',\n",
       " '``',\n",
       " 'semi-separated',\n",
       " \"''\",\n",
       " 'still',\n",
       " 'care',\n",
       " 'e…A',\n",
       " 'move',\n",
       " 'China',\n",
       " '’',\n",
       " 'central',\n",
       " 'bank',\n",
       " 'criminalize',\n",
       " 'form',\n",
       " 'cryptocurrency',\n",
       " 'trading',\n",
       " '–',\n",
       " 'effectively',\n",
       " 'making',\n",
       " 'bitcoin',\n",
       " 'illegal',\n",
       " 'country',\n",
       " '–',\n",
       " 'failed',\n",
       " 'meaningfully',\n",
       " 'impact',\n",
       " 'price',\n",
       " 'world',\n",
       " '’',\n",
       " 'leading',\n",
       " 'digital',\n",
       " 'asset.By',\n",
       " 'integrating',\n",
       " 'direct',\n",
       " 'bitcoin',\n",
       " 'payment',\n",
       " 'Twitter',\n",
       " 'paving',\n",
       " 'way',\n",
       " 'bitcoin',\n",
       " 'price',\n",
       " 'surpass',\n",
       " '300,000.This',\n",
       " 'month',\n",
       " 'good',\n",
       " 'news',\n",
       " 'BTC',\n",
       " 'El',\n",
       " 'Salvador',\n",
       " 'started',\n",
       " 'building',\n",
       " 'infrastructure',\n",
       " 'would',\n",
       " 'facilitate',\n",
       " 'BTC',\n",
       " 'legal',\n",
       " 'tender',\n",
       " 'UAE',\n",
       " 'leading',\n",
       " 'crypto',\n",
       " 'wonder',\n",
       " 'trading',\n",
       " 'Dubai',\n",
       " 'free',\n",
       " 'zone',\n",
       " 'approved',\n",
       " 'regulator',\n",
       " 'even',\n",
       " 'Ukraine',\n",
       " 'adopted',\n",
       " '…',\n",
       " 'ol',\n",
       " 'li',\n",
       " 'Bitcoin',\n",
       " 'Ethereum',\n",
       " 'Dogecoin',\n",
       " 'Could',\n",
       " 'Bumpy',\n",
       " 'Road',\n",
       " 'Ahead',\n",
       " 'Benzinga',\n",
       " 'Benzinga',\n",
       " '/li',\n",
       " 'li',\n",
       " 'China',\n",
       " 'banning',\n",
       " 'crypto',\n",
       " 'transaction',\n",
       " '‘',\n",
       " 'great',\n",
       " 'news',\n",
       " 'bitcoin',\n",
       " '’',\n",
       " 'Investment',\n",
       " 'firm',\n",
       " 'CEO',\n",
       " 'Yahoo',\n",
       " 'Finance',\n",
       " '/li',\n",
       " 'li',\n",
       " 'China',\n",
       " 'banned',\n",
       " 'crypto',\n",
       " 'transaction',\n",
       " 'Frida…Mining',\n",
       " 'top',\n",
       " 'cryptocurrencies',\n",
       " 'Bitcoin',\n",
       " 'Ethereum',\n",
       " 'requires',\n",
       " 'vast',\n",
       " 'amount',\n",
       " 'power',\n",
       " 'single',\n",
       " 'Bitcoin',\n",
       " 'transaction',\n",
       " 'including',\n",
       " 'resource',\n",
       " 'needed',\n",
       " 'mine',\n",
       " 'coin',\n",
       " 'verify',\n",
       " 'transaction',\n",
       " 'total',\n",
       " 'upwards',\n",
       " '1,700',\n",
       " 'kilowatt',\n",
       " 'hour',\n",
       " 'kWh',\n",
       " 'ever…',\n",
       " 'Bloomberg',\n",
       " '--',\n",
       " 'Two',\n",
       " 'world',\n",
       " '’',\n",
       " 'largest',\n",
       " 'Bitcoin',\n",
       " 'exchange',\n",
       " 'halted',\n",
       " 'new',\n",
       " 'registration',\n",
       " 'Chinese',\n",
       " 'user',\n",
       " 'taking',\n",
       " 'one',\n",
       " 'first',\n",
       " 'action',\n",
       " 'comply',\n",
       " '...',\n",
       " 'rise',\n",
       " 'central',\n",
       " 'bank',\n",
       " 'digital',\n",
       " 'currency',\n",
       " 'CBDCs',\n",
       " 'essentially',\n",
       " 'virtual',\n",
       " 'version',\n",
       " 'currency',\n",
       " 'backed',\n",
       " 'state',\n",
       " 'major',\n",
       " 'push',\n",
       " 'towards',\n",
       " 'hastening',\n",
       " 'demise',\n",
       " 'cash',\n",
       " 'say',\n",
       " 'Eswar',\n",
       " 'Prasad',\n",
       " 'Tolani',\n",
       " 'senior',\n",
       " 'professor',\n",
       " 'trade',\n",
       " 'policy',\n",
       " 'profes…Number',\n",
       " 'Go',\n",
       " 'mean',\n",
       " 'hyperbitcoinization',\n",
       " 'come',\n",
       " 'adoption',\n",
       " 'Teaching',\n",
       " 'others',\n",
       " 'Bitcoin',\n",
       " 'usher',\n",
       " 'change',\n",
       " 'even',\n",
       " 'quicker.Previously',\n",
       " 'Terence',\n",
       " 'Eden',\n",
       " '’',\n",
       " 'Blog',\n",
       " 'turned',\n",
       " 'old',\n",
       " 'eReader',\n",
       " 'Information',\n",
       " 'Screen',\n",
       " 'time',\n",
       " '’',\n",
       " 'taking',\n",
       " 'different',\n",
       " 'Nook',\n",
       " 'turning',\n",
       " 'magic',\n",
       " 'gallery',\n",
       " '’',\n",
       " '…Finding',\n",
       " 'difficult',\n",
       " 'process',\n",
       " 'digital',\n",
       " 'currency',\n",
       " 'preserving',\n",
       " 'year',\n",
       " 'case',\n",
       " 'supposed',\n",
       " 'learnEl',\n",
       " 'Salvador',\n",
       " '’',\n",
       " 'president',\n",
       " 'consolidating',\n",
       " 'power',\n",
       " 'seems',\n",
       " 'intent',\n",
       " 'rewriting',\n",
       " 'country',\n",
       " '’',\n",
       " 'constitutionAmong',\n",
       " 'colourful',\n",
       " 'house',\n",
       " 'Comunidad',\n",
       " 'Iberia',\n",
       " 'impoverished',\n",
       " 'neighbourhood',\n",
       " 'San',\n",
       " 'Salvador',\n",
       " 'dark',\n",
       " 'glass',\n",
       " 'cube',\n",
       " 'Urban',\n",
       " 'Centre',\n",
       " 'Welfare',\n",
       " 'Oppor…',\n",
       " 'ol',\n",
       " 'li',\n",
       " 'Dogecoin',\n",
       " 'Bitcoin',\n",
       " 'Ethereum',\n",
       " 'See',\n",
       " 'Buying',\n",
       " 'Opportunity',\n",
       " 'Another',\n",
       " 'China',\n",
       " 'Crackdown',\n",
       " 'Benzinga',\n",
       " 'Benzinga',\n",
       " '/li',\n",
       " 'li',\n",
       " 'China',\n",
       " 'banning',\n",
       " 'crypto',\n",
       " 'transaction',\n",
       " '‘',\n",
       " 'great',\n",
       " 'news',\n",
       " 'bitcoin',\n",
       " '’',\n",
       " 'Investment',\n",
       " 'firm',\n",
       " 'CEO',\n",
       " 'Yahoo',\n",
       " 'Finance',\n",
       " '/li',\n",
       " 'li',\n",
       " 'Bitcoin',\n",
       " 'ether',\n",
       " 'slide',\n",
       " 'China',\n",
       " 'i…']"
      ]
     },
     "execution_count": 80,
     "metadata": {},
     "output_type": "execute_result"
    }
   ],
   "source": [
    "btc_all_tokens = tokenizer(btc_articles_df.Description.str.cat())\n",
    "btc_all_tokens"
   ]
  },
  {
   "cell_type": "code",
   "execution_count": 81,
   "metadata": {},
   "outputs": [
    {
     "data": {
      "text/plain": [
       "[('’', 10),\n",
       " ('Bitcoin', 8),\n",
       " ('China', 7),\n",
       " ('bitcoin', 7),\n",
       " ('li', 6),\n",
       " ('crypto', 5),\n",
       " ('transaction', 5),\n",
       " ('year', 4),\n",
       " ('``', 4),\n",
       " ('Benzinga', 4)]"
      ]
     },
     "execution_count": 81,
     "metadata": {},
     "output_type": "execute_result"
    }
   ],
   "source": [
    "token_count(btc_all_tokens, N=10)"
   ]
  },
  {
   "cell_type": "code",
   "execution_count": null,
   "metadata": {},
   "outputs": [],
   "source": [
    "# Review functionality of the most common word for each article:\n"
   ]
  },
  {
   "cell_type": "code",
   "execution_count": null,
   "metadata": {},
   "outputs": [],
   "source": []
  },
  {
   "cell_type": "code",
   "execution_count": null,
   "metadata": {},
   "outputs": [],
   "source": [
    "# Use token_count to get the top 10 words for Ethereum\n",
    "# YOUR CODE HERE!"
   ]
  },
  {
   "cell_type": "markdown",
   "metadata": {},
   "source": [
    "---"
   ]
  },
  {
   "cell_type": "markdown",
   "metadata": {},
   "source": [
    "### Word Clouds\n",
    "\n",
    "In this section, you will generate word clouds for each coin to summarize the news for each coin"
   ]
  },
  {
   "cell_type": "code",
   "execution_count": 77,
   "metadata": {},
   "outputs": [],
   "source": [
    "from wordcloud import WordCloud\n",
    "import matplotlib.pyplot as plt\n",
    "plt.style.use('seaborn-whitegrid')\n",
    "import matplotlib as mpl\n",
    "mpl.rcParams['figure.figsize'] = [20.0, 10.0]"
   ]
  },
  {
   "cell_type": "code",
   "execution_count": null,
   "metadata": {},
   "outputs": [],
   "source": []
  },
  {
   "cell_type": "code",
   "execution_count": 82,
   "metadata": {
    "tags": []
   },
   "outputs": [
    {
     "data": {
      "text/plain": [
       "<matplotlib.image.AxesImage at 0x1d7128ab208>"
      ]
     },
     "execution_count": 82,
     "metadata": {},
     "output_type": "execute_result"
    },
    {
     "data": {
      "image/png": "[encoded data removed]",
      "text/plain": [
       "<Figure size 1440x720 with 1 Axes>"
      ]
     },
     "metadata": {},
     "output_type": "display_data"
    }
   ],
   "source": [
    "# Generate the Bitcoin word cloud\n",
    "wc = WordCloud().generate(btc_articles_df['Description'].str.cat())\n",
    "plt.imshow(wc)"
   ]
  },
  {
   "cell_type": "code",
   "execution_count": null,
   "metadata": {},
   "outputs": [],
   "source": [
    "# Generate the Ethereum word cloud\n",
    "# YOUR CODE HERE!"
   ]
  },
  {
   "cell_type": "markdown",
   "metadata": {},
   "source": [
    "---\n",
    "## 3. Named Entity Recognition\n",
    "\n",
    "In this section, you will build a named entity recognition model for both Bitcoin and Ethereum, then visualize the tags using SpaCy."
   ]
  },
  {
   "cell_type": "code",
   "execution_count": null,
   "metadata": {},
   "outputs": [],
   "source": [
    "import spacy\n",
    "from spacy import displacy"
   ]
  },
  {
   "cell_type": "code",
   "execution_count": null,
   "metadata": {},
   "outputs": [],
   "source": [
    "# Download the language model for SpaCy\n",
    "# !python -m spacy download en_core_web_sm"
   ]
  },
  {
   "cell_type": "code",
   "execution_count": null,
   "metadata": {},
   "outputs": [],
   "source": [
    "# Load the spaCy model\n",
    "nlp = spacy.load('en_core_web_sm')"
   ]
  },
  {
   "cell_type": "markdown",
   "metadata": {},
   "source": [
    "---\n",
    "### Bitcoin NER"
   ]
  },
  {
   "cell_type": "code",
   "execution_count": null,
   "metadata": {},
   "outputs": [],
   "source": [
    "# Concatenate all of the Bitcoin text together\n",
    "# YOUR CODE HERE!"
   ]
  },
  {
   "cell_type": "code",
   "execution_count": null,
   "metadata": {},
   "outputs": [],
   "source": [
    "# Run the NER processor on all of the text\n",
    "# YOUR CODE HERE!\n",
    "\n",
    "# Add a title to the document\n",
    "# YOUR CODE HERE!"
   ]
  },
  {
   "cell_type": "code",
   "execution_count": null,
   "metadata": {},
   "outputs": [],
   "source": [
    "# Render the visualization\n",
    "# YOUR CODE HERE!"
   ]
  },
  {
   "cell_type": "code",
   "execution_count": null,
   "metadata": {},
   "outputs": [],
   "source": [
    "# List all Entities\n",
    "# YOUR CODE HERE!"
   ]
  },
  {
   "cell_type": "markdown",
   "metadata": {},
   "source": [
    "---"
   ]
  },
  {
   "cell_type": "markdown",
   "metadata": {},
   "source": [
    "### Ethereum NER"
   ]
  },
  {
   "cell_type": "code",
   "execution_count": null,
   "metadata": {},
   "outputs": [],
   "source": [
    "# Concatenate all of the Ethereum text together\n",
    "# YOUR CODE HERE!"
   ]
  },
  {
   "cell_type": "code",
   "execution_count": null,
   "metadata": {},
   "outputs": [],
   "source": [
    "# Run the NER processor on all of the text\n",
    "# YOUR CODE HERE!\n",
    "\n",
    "# Add a title to the document\n",
    "# YOUR CODE HERE!"
   ]
  },
  {
   "cell_type": "code",
   "execution_count": null,
   "metadata": {},
   "outputs": [],
   "source": [
    "# Render the visualization\n",
    "# YOUR CODE HERE!"
   ]
  },
  {
   "cell_type": "code",
   "execution_count": null,
   "metadata": {},
   "outputs": [],
   "source": [
    "# List all Entities\n",
    "# YOUR CODE HERE!"
   ]
  },
  {
   "cell_type": "markdown",
   "metadata": {},
   "source": [
    "---"
   ]
  }
 ],
 "metadata": {
  "file_extension": ".py",
  "kernelspec": {
   "display_name": "Python [conda env:nlpenv]",
   "language": "python",
   "name": "conda-env-nlpenv-py"
  },
  "language_info": {
   "codemirror_mode": {
    "name": "ipython",
    "version": 3
   },
   "file_extension": ".py",
   "mimetype": "text/x-python",
   "name": "python",
   "nbconvert_exporter": "python",
   "pygments_lexer": "ipython3",
   "version": "3.7.10"
  },
  "mimetype": "text/x-python",
  "name": "python",
  "npconvert_exporter": "python",
  "pygments_lexer": "ipython3",
  "version": 3
 },
 "nbformat": 4,
 "nbformat_minor": 4
}
