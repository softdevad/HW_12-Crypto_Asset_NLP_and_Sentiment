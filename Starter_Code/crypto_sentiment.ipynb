{
 "cells": [
  {
   "cell_type": "markdown",
   "metadata": {},
   "source": [
    "# Unit 12 - Tales from the Crypto\n",
    "\n",
    "---\n"
   ]
  },
  {
   "cell_type": "markdown",
   "metadata": {},
   "source": [
    "## 1. Sentiment Analysis\n",
    "\n",
    "Use the [newsapi](https://newsapi.org/) to pull the latest news articles for Bitcoin and Ethereum and create a DataFrame of sentiment scores for each coin.\n",
    "\n",
    "Use descriptive statistics to answer the following questions:\n",
    "1. Which coin had the highest mean positive score?\n",
    "2. Which coin had the highest negative score?\n",
    "3. Which coin had the highest positive score?"
   ]
  },
  {
   "cell_type": "code",
   "execution_count": 36,
   "metadata": {},
   "outputs": [
    {
     "name": "stderr",
     "output_type": "stream",
     "text": [
      "[nltk_data] Downloading package vader_lexicon to\n",
      "[nltk_data]     C:\\Users\\erikl\\AppData\\Roaming\\nltk_data...\n",
      "[nltk_data]   Package vader_lexicon is already up-to-date!\n"
     ]
    }
   ],
   "source": [
    "# Initial imports\n",
    "import os\n",
    "import pandas as pd\n",
    "from dotenv import load_dotenv\n",
    "import re\n",
    "import string\n",
    "import nltk as nltk\n",
    "nltk.download('vader_lexicon')\n",
    "from nltk.sentiment.vader import SentimentIntensityAnalyzer\n",
    "analyzer = SentimentIntensityAnalyzer()\n",
    "from newsapi.newsapi_client import NewsApiClient\n",
    "from datetime import datetime, timedelta\n",
    "\n",
    "%matplotlib inline"
   ]
  },
  {
   "cell_type": "code",
   "execution_count": 2,
   "metadata": {},
   "outputs": [
    {
     "data": {
      "text/plain": [
       "True"
      ]
     },
     "execution_count": 2,
     "metadata": {},
     "output_type": "execute_result"
    }
   ],
   "source": [
    "load_dotenv()"
   ]
  },
  {
   "cell_type": "code",
   "execution_count": 3,
   "metadata": {},
   "outputs": [],
   "source": [
    "# Read your api key environment variable\n",
    "api_key = os.getenv('NEWS_API_KEY')"
   ]
  },
  {
   "cell_type": "code",
   "execution_count": 4,
   "metadata": {},
   "outputs": [
    {
     "data": {
      "text/plain": [
       "str"
      ]
     },
     "execution_count": 4,
     "metadata": {},
     "output_type": "execute_result"
    }
   ],
   "source": [
    "type(api_key)"
   ]
  },
  {
   "cell_type": "code",
   "execution_count": 5,
   "metadata": {
    "tags": []
   },
   "outputs": [],
   "source": [
    "# Create a newsapi client\n",
    "newsapi = NewsApiClient(api_key)"
   ]
  },
  {
   "cell_type": "code",
   "execution_count": 6,
   "metadata": {},
   "outputs": [
    {
     "data": {
      "text/plain": [
       "newsapi.newsapi_client.NewsApiClient"
      ]
     },
     "execution_count": 6,
     "metadata": {},
     "output_type": "execute_result"
    }
   ],
   "source": [
    "type(newsapi)"
   ]
  },
  {
   "cell_type": "code",
   "execution_count": 7,
   "metadata": {},
   "outputs": [
    {
     "data": {
      "text/plain": [
       "<newsapi.newsapi_client.NewsApiClient at 0x1ff903a8c48>"
      ]
     },
     "execution_count": 7,
     "metadata": {},
     "output_type": "execute_result"
    }
   ],
   "source": [
    "newsapi"
   ]
  },
  {
   "cell_type": "code",
   "execution_count": 8,
   "metadata": {},
   "outputs": [
    {
     "name": "stdout",
     "output_type": "stream",
     "text": [
      "2021-09-20T19:10:05.603956-04:00\n"
     ]
    }
   ],
   "source": [
    "# Find the Current Date Time\n",
    "current_date = pd.Timestamp(datetime.now(), tz=\"America/New_York\").isoformat()\n",
    "print(current_date)"
   ]
  },
  {
   "cell_type": "code",
   "execution_count": 9,
   "metadata": {},
   "outputs": [
    {
     "name": "stdout",
     "output_type": "stream",
     "text": [
      "2021-09-19T19:10:09.037112-04:00\n"
     ]
    }
   ],
   "source": [
    "# Find the Past Date from 24 hours ago\n",
    "past24hr_date = pd.Timestamp(datetime.now() - timedelta(hours=24), tz=\"America/New_York\").isoformat()\n",
    "print(past24hr_date)"
   ]
  },
  {
   "cell_type": "code",
   "execution_count": 10,
   "metadata": {},
   "outputs": [
    {
     "name": "stdout",
     "output_type": "stream",
     "text": [
      "2021-09-20 19:10:05\n"
     ]
    }
   ],
   "source": [
    "# Checking for the correct datetime format:\n",
    "test_date = datetime.strptime(current_date[:19], \"%Y-%m-%dT%H:%M:%S\")\n",
    "print(test_date)"
   ]
  },
  {
   "cell_type": "code",
   "execution_count": 15,
   "metadata": {},
   "outputs": [],
   "source": [
    "# Create a Function for Fetching News:\n",
    "def get_articles(keyword):\n",
    "    all_headlines = []\n",
    "    all_datetime=[]\n",
    "    all_descriptions=[]\n",
    "    all_urls=[]\n",
    "    all_content=[]\n",
    "    date = datetime.strptime(current_date[:19], \"%Y-%m-%dT%H:%M:%S\")\n",
    "    end_date = datetime.strptime(past24hr_date[:19], \"%Y-%m-%dT%H:%M:%S\")\n",
    "    print(f\"Fetching news about '{keyword}'\")\n",
    "    print(\"*\" * 30)\n",
    "    if date > end_date:\n",
    "        print(f\"retrieving news from: {date}\")\n",
    "        articles = newsapi.get_everything(\n",
    "            q=keyword,\n",
    "            from_param=str(end_date),\n",
    "            to=str(date),\n",
    "            language=\"en\",\n",
    "#             page_size=100,\n",
    "            sort_by=\"relevancy\",\n",
    "            page=1,\n",
    "            )\n",
    "#         headlines=[]\n",
    "        for i in range(0, len(articles[\"articles\"])):\n",
    "            all_headlines.append(articles[\"articles\"][i][\"title\"])\n",
    "            all_datetime.append(articles[\"articles\"][i][\"publishedAt\"])\n",
    "            all_descriptions.append(articles[\"articles\"][i][\"description\"])\n",
    "            all_urls.append(articles[\"articles\"][i][\"url\"])\n",
    "            all_content.append(articles[\"articles\"][i][\"content\"])\n",
    "    \n",
    "    article_df = pd.concat([pd.Series(all_headlines), pd.Series(all_datetime), pd.Series(all_urls), pd.Series(all_descriptions), pd.Series(all_content)], axis=1)\n",
    "    article_df.rename({0:'Headlines', 1:'Date_Time', 2:'URL', 3:'Description', 4:'Content'}, axis=1, inplace=True)\n",
    "    return article_df"
   ]
  },
  {
   "cell_type": "markdown",
   "metadata": {},
   "source": [
    "## Analyzing Bitcoin Sentiment:"
   ]
  },
  {
   "cell_type": "code",
   "execution_count": 16,
   "metadata": {},
   "outputs": [
    {
     "name": "stdout",
     "output_type": "stream",
     "text": [
      "Fetching news about 'bitcoin'\n",
      "******************************\n",
      "retrieving news from: 2021-09-20 19:10:05\n"
     ]
    }
   ],
   "source": [
    "# Fetch the Bitcoin news articles\n",
    "btc_articles_df = get_articles(\"bitcoin\")"
   ]
  },
  {
   "cell_type": "code",
   "execution_count": 17,
   "metadata": {},
   "outputs": [
    {
     "data": {
      "text/plain": [
       "(20, 5)"
      ]
     },
     "execution_count": 17,
     "metadata": {},
     "output_type": "execute_result"
    }
   ],
   "source": [
    "btc_articles_df.shape"
   ]
  },
  {
   "cell_type": "code",
   "execution_count": 18,
   "metadata": {},
   "outputs": [
    {
     "data": {
      "text/html": [
       "<div>\n",
       "<style scoped>\n",
       "    .dataframe tbody tr th:only-of-type {\n",
       "        vertical-align: middle;\n",
       "    }\n",
       "\n",
       "    .dataframe tbody tr th {\n",
       "        vertical-align: top;\n",
       "    }\n",
       "\n",
       "    .dataframe thead th {\n",
       "        text-align: right;\n",
       "    }\n",
       "</style>\n",
       "<table border=\"1\" class=\"dataframe\">\n",
       "  <thead>\n",
       "    <tr style=\"text-align: right;\">\n",
       "      <th></th>\n",
       "      <th>Headlines</th>\n",
       "      <th>Date_Time</th>\n",
       "      <th>URL</th>\n",
       "      <th>Description</th>\n",
       "      <th>Content</th>\n",
       "    </tr>\n",
       "  </thead>\n",
       "  <tbody>\n",
       "    <tr>\n",
       "      <th>0</th>\n",
       "      <td>El Salvador buys 150 more bitcoins, president ...</td>\n",
       "      <td>2021-09-20T12:24:00Z</td>\n",
       "      <td>https://www.reuters.com/business/finance/el-sa...</td>\n",
       "      <td>El Salvador has bought 150 more bitcoins, Pres...</td>\n",
       "      <td>A representation of cryptocurrency Bitcoin is ...</td>\n",
       "    </tr>\n",
       "    <tr>\n",
       "      <th>1</th>\n",
       "      <td>Bitcoin Falls Below $43,000 as Global Market R...</td>\n",
       "      <td>2021-09-20T12:58:57Z</td>\n",
       "      <td>https://ca.finance.yahoo.com/news/bitcoin-fall...</td>\n",
       "      <td>&lt;ol&gt;&lt;li&gt;Bitcoin Falls Below $43,000 as Global ...</td>\n",
       "      <td>(Bloomberg) -- Cryptocurrency prices slumped a...</td>\n",
       "    </tr>\n",
       "    <tr>\n",
       "      <th>2</th>\n",
       "      <td>Bitcoin slides below $45,000 in a broad crypto...</td>\n",
       "      <td>2021-09-20T11:44:54Z</td>\n",
       "      <td>https://markets.businessinsider.com/news/curre...</td>\n",
       "      <td>Some analysts attributed the sudden dip to emb...</td>\n",
       "      <td>Yuriko Nakao/Getty Images\\r\\nBitcoin fell belo...</td>\n",
       "    </tr>\n",
       "    <tr>\n",
       "      <th>3</th>\n",
       "      <td>7 Best Cryptos to Buy During Altcoin Season</td>\n",
       "      <td>2021-09-20T15:28:43Z</td>\n",
       "      <td>https://investorplace.com/2021/09/7-best-crypt...</td>\n",
       "      <td>I’ve been on the sidelines with cryptocurrenci...</td>\n",
       "      <td>Ive been on the sidelines with cryptocurrencie...</td>\n",
       "    </tr>\n",
       "    <tr>\n",
       "      <th>4</th>\n",
       "      <td>Following SEC lawsuit threat, Coinbase cancels...</td>\n",
       "      <td>2021-09-20T17:25:32Z</td>\n",
       "      <td>http://techcrunch.com/2021/09/20/following-sec...</td>\n",
       "      <td>Coinbase efforts to play hardball with the Sec...</td>\n",
       "      <td>Coinbase efforts to play hardball with the Sec...</td>\n",
       "    </tr>\n",
       "  </tbody>\n",
       "</table>\n",
       "</div>"
      ],
      "text/plain": [
       "                                           Headlines             Date_Time  \\\n",
       "0  El Salvador buys 150 more bitcoins, president ...  2021-09-20T12:24:00Z   \n",
       "1  Bitcoin Falls Below $43,000 as Global Market R...  2021-09-20T12:58:57Z   \n",
       "2  Bitcoin slides below $45,000 in a broad crypto...  2021-09-20T11:44:54Z   \n",
       "3        7 Best Cryptos to Buy During Altcoin Season  2021-09-20T15:28:43Z   \n",
       "4  Following SEC lawsuit threat, Coinbase cancels...  2021-09-20T17:25:32Z   \n",
       "\n",
       "                                                 URL  \\\n",
       "0  https://www.reuters.com/business/finance/el-sa...   \n",
       "1  https://ca.finance.yahoo.com/news/bitcoin-fall...   \n",
       "2  https://markets.businessinsider.com/news/curre...   \n",
       "3  https://investorplace.com/2021/09/7-best-crypt...   \n",
       "4  http://techcrunch.com/2021/09/20/following-sec...   \n",
       "\n",
       "                                         Description  \\\n",
       "0  El Salvador has bought 150 more bitcoins, Pres...   \n",
       "1  <ol><li>Bitcoin Falls Below $43,000 as Global ...   \n",
       "2  Some analysts attributed the sudden dip to emb...   \n",
       "3  I’ve been on the sidelines with cryptocurrenci...   \n",
       "4  Coinbase efforts to play hardball with the Sec...   \n",
       "\n",
       "                                             Content  \n",
       "0  A representation of cryptocurrency Bitcoin is ...  \n",
       "1  (Bloomberg) -- Cryptocurrency prices slumped a...  \n",
       "2  Yuriko Nakao/Getty Images\\r\\nBitcoin fell belo...  \n",
       "3  Ive been on the sidelines with cryptocurrencie...  \n",
       "4  Coinbase efforts to play hardball with the Sec...  "
      ]
     },
     "execution_count": 18,
     "metadata": {},
     "output_type": "execute_result"
    }
   ],
   "source": [
    "btc_articles_df.head()"
   ]
  },
  {
   "cell_type": "code",
   "execution_count": 20,
   "metadata": {
    "tags": []
   },
   "outputs": [
    {
     "data": {
      "text/plain": [
       "'A representation of cryptocurrency Bitcoin is seen in this illustration taken August 6, 2021. REUTERS/Dado Ruvic/IllustrationSept 20 (Reuters) - El Salvador has bought 150 more bitcoins, President Na… [+485 chars]'"
      ]
     },
     "execution_count": 20,
     "metadata": {},
     "output_type": "execute_result"
    }
   ],
   "source": [
    "btc_articles_df.loc[0]['Content']"
   ]
  },
  {
   "cell_type": "code",
   "execution_count": 28,
   "metadata": {},
   "outputs": [
    {
     "data": {
      "text/plain": [
       "\"El Salvador has bought 150 more bitcoins, President Nayib Bukele announced, taking the Central American country's holdings of the volatile cryptocurrency to 700 coins.\""
      ]
     },
     "execution_count": 28,
     "metadata": {},
     "output_type": "execute_result"
    }
   ],
   "source": [
    "btc_articles_df.loc[0]['Description']"
   ]
  },
  {
   "cell_type": "code",
   "execution_count": 29,
   "metadata": {},
   "outputs": [
    {
     "data": {
      "text/plain": [
       "'El Salvador buys 150 more bitcoins, president says - Reuters'"
      ]
     },
     "execution_count": 29,
     "metadata": {},
     "output_type": "execute_result"
    }
   ],
   "source": [
    "btc_articles_df.loc[0]['Headlines']"
   ]
  },
  {
   "cell_type": "code",
   "execution_count": 25,
   "metadata": {},
   "outputs": [
    {
     "data": {
      "text/plain": [
       "'Ive been on the sidelines with cryptocurrencies, but its an asset class that is fascinating for many reasons. For many crypto investors, the conversation about best cryptos begins and ends with\\xa0Bitco… [+8204 chars]'"
      ]
     },
     "execution_count": 25,
     "metadata": {},
     "output_type": "execute_result"
    }
   ],
   "source": [
    "btc_articles_df.loc[3]['Content']"
   ]
  },
  {
   "cell_type": "code",
   "execution_count": 26,
   "metadata": {},
   "outputs": [
    {
     "data": {
      "text/plain": [
       "'I’ve been on the sidelines with cryptocurrencies, but it’s an asset class that is fascinating for many reasons. For many crypto investors, the conversation about best cryptos begins and ends with\\xa0Bitcoin\\xa0(CCC:BTC-USD). However, it’s becoming increasingly appa…'"
      ]
     },
     "execution_count": 26,
     "metadata": {},
     "output_type": "execute_result"
    }
   ],
   "source": [
    "btc_articles_df.loc[3]['Description']"
   ]
  },
  {
   "cell_type": "code",
   "execution_count": 27,
   "metadata": {},
   "outputs": [
    {
     "data": {
      "text/plain": [
       "'7 Best Cryptos to Buy During Altcoin Season'"
      ]
     },
     "execution_count": 27,
     "metadata": {},
     "output_type": "execute_result"
    }
   ],
   "source": [
    "btc_articles_df.loc[3]['Headlines']"
   ]
  },
  {
   "cell_type": "markdown",
   "metadata": {},
   "source": [
    "### Clean the Text:"
   ]
  },
  {
   "cell_type": "code",
   "execution_count": 53,
   "metadata": {},
   "outputs": [],
   "source": [
    "def clean_text(text):\n",
    "#     regex = re.compile('[%s]' % re.escape(string.punctuation))\n",
    "    regex = re.compile(\"[^a-zA-Z ]\")\n",
    "    re_clean = regex.sub('', text)\n",
    "    return re_clean"
   ]
  },
  {
   "cell_type": "code",
   "execution_count": 54,
   "metadata": {},
   "outputs": [],
   "source": [
    "test_clean = clean_text(btc_articles_df.loc[3]['Description'])"
   ]
  },
  {
   "cell_type": "code",
   "execution_count": 55,
   "metadata": {},
   "outputs": [
    {
     "data": {
      "text/plain": [
       "str"
      ]
     },
     "execution_count": 55,
     "metadata": {},
     "output_type": "execute_result"
    }
   ],
   "source": [
    "type(test_clean)"
   ]
  },
  {
   "cell_type": "code",
   "execution_count": 56,
   "metadata": {},
   "outputs": [
    {
     "data": {
      "text/plain": [
       "'Ive been on the sidelines with cryptocurrencies but its an asset class that is fascinating for many reasons For many crypto investors the conversation about best cryptos begins and ends withBitcoinCCCBTCUSD However its becoming increasingly appa'"
      ]
     },
     "execution_count": 56,
     "metadata": {},
     "output_type": "execute_result"
    }
   ],
   "source": [
    "test_clean"
   ]
  },
  {
   "cell_type": "code",
   "execution_count": 58,
   "metadata": {},
   "outputs": [],
   "source": [
    "# Lambda function of \"clean_text()\" for use with apply\n",
    "text_cleaner = lambda x: clean_text(x)"
   ]
  },
  {
   "cell_type": "code",
   "execution_count": 59,
   "metadata": {},
   "outputs": [
    {
     "data": {
      "text/html": [
       "<div>\n",
       "<style scoped>\n",
       "    .dataframe tbody tr th:only-of-type {\n",
       "        vertical-align: middle;\n",
       "    }\n",
       "\n",
       "    .dataframe tbody tr th {\n",
       "        vertical-align: top;\n",
       "    }\n",
       "\n",
       "    .dataframe thead th {\n",
       "        text-align: right;\n",
       "    }\n",
       "</style>\n",
       "<table border=\"1\" class=\"dataframe\">\n",
       "  <thead>\n",
       "    <tr style=\"text-align: right;\">\n",
       "      <th></th>\n",
       "      <th>Description</th>\n",
       "    </tr>\n",
       "  </thead>\n",
       "  <tbody>\n",
       "    <tr>\n",
       "      <th>0</th>\n",
       "      <td>El Salvador has bought  more bitcoins Presiden...</td>\n",
       "    </tr>\n",
       "    <tr>\n",
       "      <th>1</th>\n",
       "      <td>olliBitcoin Falls Below  as Global Market Rout...</td>\n",
       "    </tr>\n",
       "    <tr>\n",
       "      <th>2</th>\n",
       "      <td>Some analysts attributed the sudden dip to emb...</td>\n",
       "    </tr>\n",
       "    <tr>\n",
       "      <th>3</th>\n",
       "      <td>Ive been on the sidelines with cryptocurrencie...</td>\n",
       "    </tr>\n",
       "    <tr>\n",
       "      <th>4</th>\n",
       "      <td>Coinbase efforts to play hardball with the Sec...</td>\n",
       "    </tr>\n",
       "    <tr>\n",
       "      <th>5</th>\n",
       "      <td>Blockchain is a digital database that secures ...</td>\n",
       "    </tr>\n",
       "    <tr>\n",
       "      <th>6</th>\n",
       "      <td>The offshore Chinese yuan weakened versus the ...</td>\n",
       "    </tr>\n",
       "    <tr>\n",
       "      <th>7</th>\n",
       "      <td>The total crypto complex was down over  billio...</td>\n",
       "    </tr>\n",
       "    <tr>\n",
       "      <th>8</th>\n",
       "      <td>FOREXEvergrande worries drag risk FX lower dol...</td>\n",
       "    </tr>\n",
       "    <tr>\n",
       "      <th>9</th>\n",
       "      <td>It is not a surprise that cryptocurrency trans...</td>\n",
       "    </tr>\n",
       "    <tr>\n",
       "      <th>10</th>\n",
       "      <td>Burry warned that current stock valuations are...</td>\n",
       "    </tr>\n",
       "    <tr>\n",
       "      <th>11</th>\n",
       "      <td>Facebook hit back at the WSJ and the NTSB crit...</td>\n",
       "    </tr>\n",
       "    <tr>\n",
       "      <th>12</th>\n",
       "      <td>How do I navigate these waters now and what ca...</td>\n",
       "    </tr>\n",
       "    <tr>\n",
       "      <th>13</th>\n",
       "      <td>Chris and Charlie Brooks  selfproclaimed ethic...</td>\n",
       "    </tr>\n",
       "    <tr>\n",
       "      <th>14</th>\n",
       "      <td>The offshore Chinese yuan skidded to threeweek...</td>\n",
       "    </tr>\n",
       "    <tr>\n",
       "      <th>15</th>\n",
       "      <td>As we continue our work to seek regulatory cla...</td>\n",
       "    </tr>\n",
       "    <tr>\n",
       "      <th>16</th>\n",
       "      <td>Waste from the cryptocurrency process is simil...</td>\n",
       "    </tr>\n",
       "    <tr>\n",
       "      <th>17</th>\n",
       "      <td>Its a close race between two speedy VPNs from ...</td>\n",
       "    </tr>\n",
       "    <tr>\n",
       "      <th>18</th>\n",
       "      <td>Bitcoin got caught in market fears about possi...</td>\n",
       "    </tr>\n",
       "    <tr>\n",
       "      <th>19</th>\n",
       "      <td>Yogita Khatri  The BlockAs bitcoin falls to K ...</td>\n",
       "    </tr>\n",
       "  </tbody>\n",
       "</table>\n",
       "</div>"
      ],
      "text/plain": [
       "                                          Description\n",
       "0   El Salvador has bought  more bitcoins Presiden...\n",
       "1   olliBitcoin Falls Below  as Global Market Rout...\n",
       "2   Some analysts attributed the sudden dip to emb...\n",
       "3   Ive been on the sidelines with cryptocurrencie...\n",
       "4   Coinbase efforts to play hardball with the Sec...\n",
       "5   Blockchain is a digital database that secures ...\n",
       "6   The offshore Chinese yuan weakened versus the ...\n",
       "7   The total crypto complex was down over  billio...\n",
       "8   FOREXEvergrande worries drag risk FX lower dol...\n",
       "9   It is not a surprise that cryptocurrency trans...\n",
       "10  Burry warned that current stock valuations are...\n",
       "11  Facebook hit back at the WSJ and the NTSB crit...\n",
       "12  How do I navigate these waters now and what ca...\n",
       "13  Chris and Charlie Brooks  selfproclaimed ethic...\n",
       "14  The offshore Chinese yuan skidded to threeweek...\n",
       "15  As we continue our work to seek regulatory cla...\n",
       "16  Waste from the cryptocurrency process is simil...\n",
       "17  Its a close race between two speedy VPNs from ...\n",
       "18  Bitcoin got caught in market fears about possi...\n",
       "19  Yogita Khatri  The BlockAs bitcoin falls to K ..."
      ]
     },
     "execution_count": 59,
     "metadata": {},
     "output_type": "execute_result"
    }
   ],
   "source": [
    "# Review updated text:\n",
    "btc_clean = pd.DataFrame(btc_articles_df['Description'].apply(text_cleaner))\n",
    "btc_clean"
   ]
  },
  {
   "cell_type": "code",
   "execution_count": 30,
   "metadata": {},
   "outputs": [],
   "source": []
  },
  {
   "cell_type": "code",
   "execution_count": 62,
   "metadata": {},
   "outputs": [],
   "source": [
    "# Function to get compound sentiments\n",
    "def get_compound_sentiment(content):\n",
    "    sentiment = analyzer.polarity_scores(content)\n",
    "    compound = sentiment[\"compound\"]\n",
    "    return compound\n",
    "get_compoundScore = lambda x: get_compound_sentiment(x)"
   ]
  },
  {
   "cell_type": "code",
   "execution_count": 63,
   "metadata": {},
   "outputs": [
    {
     "data": {
      "text/html": [
       "<div>\n",
       "<style scoped>\n",
       "    .dataframe tbody tr th:only-of-type {\n",
       "        vertical-align: middle;\n",
       "    }\n",
       "\n",
       "    .dataframe tbody tr th {\n",
       "        vertical-align: top;\n",
       "    }\n",
       "\n",
       "    .dataframe thead th {\n",
       "        text-align: right;\n",
       "    }\n",
       "</style>\n",
       "<table border=\"1\" class=\"dataframe\">\n",
       "  <thead>\n",
       "    <tr style=\"text-align: right;\">\n",
       "      <th></th>\n",
       "      <th>Headlines</th>\n",
       "      <th>Date_Time</th>\n",
       "      <th>URL</th>\n",
       "      <th>Description</th>\n",
       "      <th>Content</th>\n",
       "      <th>Compound Sentiment</th>\n",
       "    </tr>\n",
       "  </thead>\n",
       "  <tbody>\n",
       "    <tr>\n",
       "      <th>0</th>\n",
       "      <td>El Salvador buys 150 more bitcoins, president ...</td>\n",
       "      <td>2021-09-20T12:24:00Z</td>\n",
       "      <td>https://www.reuters.com/business/finance/el-sa...</td>\n",
       "      <td>El Salvador has bought 150 more bitcoins, Pres...</td>\n",
       "      <td>A representation of cryptocurrency Bitcoin is ...</td>\n",
       "      <td>0.0000</td>\n",
       "    </tr>\n",
       "    <tr>\n",
       "      <th>1</th>\n",
       "      <td>Bitcoin Falls Below $43,000 as Global Market R...</td>\n",
       "      <td>2021-09-20T12:58:57Z</td>\n",
       "      <td>https://ca.finance.yahoo.com/news/bitcoin-fall...</td>\n",
       "      <td>&lt;ol&gt;&lt;li&gt;Bitcoin Falls Below $43,000 as Global ...</td>\n",
       "      <td>(Bloomberg) -- Cryptocurrency prices slumped a...</td>\n",
       "      <td>-0.4404</td>\n",
       "    </tr>\n",
       "    <tr>\n",
       "      <th>2</th>\n",
       "      <td>Bitcoin slides below $45,000 in a broad crypto...</td>\n",
       "      <td>2021-09-20T11:44:54Z</td>\n",
       "      <td>https://markets.businessinsider.com/news/curre...</td>\n",
       "      <td>Some analysts attributed the sudden dip to emb...</td>\n",
       "      <td>Yuriko Nakao/Getty Images\\r\\nBitcoin fell belo...</td>\n",
       "      <td>-0.3612</td>\n",
       "    </tr>\n",
       "    <tr>\n",
       "      <th>3</th>\n",
       "      <td>7 Best Cryptos to Buy During Altcoin Season</td>\n",
       "      <td>2021-09-20T15:28:43Z</td>\n",
       "      <td>https://investorplace.com/2021/09/7-best-crypt...</td>\n",
       "      <td>I’ve been on the sidelines with cryptocurrenci...</td>\n",
       "      <td>Ive been on the sidelines with cryptocurrencie...</td>\n",
       "      <td>0.9413</td>\n",
       "    </tr>\n",
       "    <tr>\n",
       "      <th>4</th>\n",
       "      <td>Following SEC lawsuit threat, Coinbase cancels...</td>\n",
       "      <td>2021-09-20T17:25:32Z</td>\n",
       "      <td>http://techcrunch.com/2021/09/20/following-sec...</td>\n",
       "      <td>Coinbase efforts to play hardball with the Sec...</td>\n",
       "      <td>Coinbase efforts to play hardball with the Sec...</td>\n",
       "      <td>0.5574</td>\n",
       "    </tr>\n",
       "  </tbody>\n",
       "</table>\n",
       "</div>"
      ],
      "text/plain": [
       "                                           Headlines             Date_Time  \\\n",
       "0  El Salvador buys 150 more bitcoins, president ...  2021-09-20T12:24:00Z   \n",
       "1  Bitcoin Falls Below $43,000 as Global Market R...  2021-09-20T12:58:57Z   \n",
       "2  Bitcoin slides below $45,000 in a broad crypto...  2021-09-20T11:44:54Z   \n",
       "3        7 Best Cryptos to Buy During Altcoin Season  2021-09-20T15:28:43Z   \n",
       "4  Following SEC lawsuit threat, Coinbase cancels...  2021-09-20T17:25:32Z   \n",
       "\n",
       "                                                 URL  \\\n",
       "0  https://www.reuters.com/business/finance/el-sa...   \n",
       "1  https://ca.finance.yahoo.com/news/bitcoin-fall...   \n",
       "2  https://markets.businessinsider.com/news/curre...   \n",
       "3  https://investorplace.com/2021/09/7-best-crypt...   \n",
       "4  http://techcrunch.com/2021/09/20/following-sec...   \n",
       "\n",
       "                                         Description  \\\n",
       "0  El Salvador has bought 150 more bitcoins, Pres...   \n",
       "1  <ol><li>Bitcoin Falls Below $43,000 as Global ...   \n",
       "2  Some analysts attributed the sudden dip to emb...   \n",
       "3  I’ve been on the sidelines with cryptocurrenci...   \n",
       "4  Coinbase efforts to play hardball with the Sec...   \n",
       "\n",
       "                                             Content  Compound Sentiment  \n",
       "0  A representation of cryptocurrency Bitcoin is ...              0.0000  \n",
       "1  (Bloomberg) -- Cryptocurrency prices slumped a...             -0.4404  \n",
       "2  Yuriko Nakao/Getty Images\\r\\nBitcoin fell belo...             -0.3612  \n",
       "3  Ive been on the sidelines with cryptocurrencie...              0.9413  \n",
       "4  Coinbase efforts to play hardball with the Sec...              0.5574  "
      ]
     },
     "execution_count": 63,
     "metadata": {},
     "output_type": "execute_result"
    }
   ],
   "source": [
    "btc_articles_df['Compound Sentiment'] = btc_articles_df['Description'].apply(get_compoundScore)\n",
    "btc_articles_df.head()"
   ]
  },
  {
   "cell_type": "code",
   "execution_count": 64,
   "metadata": {},
   "outputs": [],
   "source": [
    "# Function to get positive sentiments\n",
    "def get_positive_sentiment(content):\n",
    "    sentiment = analyzer.polarity_scores(content)\n",
    "    positive = sentiment[\"pos\"]\n",
    "    return positive\n",
    "get_positiveScore = lambda x: get_positive_sentiment(x)"
   ]
  },
  {
   "cell_type": "code",
   "execution_count": 65,
   "metadata": {},
   "outputs": [
    {
     "data": {
      "text/html": [
       "<div>\n",
       "<style scoped>\n",
       "    .dataframe tbody tr th:only-of-type {\n",
       "        vertical-align: middle;\n",
       "    }\n",
       "\n",
       "    .dataframe tbody tr th {\n",
       "        vertical-align: top;\n",
       "    }\n",
       "\n",
       "    .dataframe thead th {\n",
       "        text-align: right;\n",
       "    }\n",
       "</style>\n",
       "<table border=\"1\" class=\"dataframe\">\n",
       "  <thead>\n",
       "    <tr style=\"text-align: right;\">\n",
       "      <th></th>\n",
       "      <th>Headlines</th>\n",
       "      <th>Date_Time</th>\n",
       "      <th>URL</th>\n",
       "      <th>Description</th>\n",
       "      <th>Content</th>\n",
       "      <th>Compound Sentiment</th>\n",
       "      <th>Positive Sentiment</th>\n",
       "    </tr>\n",
       "  </thead>\n",
       "  <tbody>\n",
       "    <tr>\n",
       "      <th>0</th>\n",
       "      <td>El Salvador buys 150 more bitcoins, president ...</td>\n",
       "      <td>2021-09-20T12:24:00Z</td>\n",
       "      <td>https://www.reuters.com/business/finance/el-sa...</td>\n",
       "      <td>El Salvador has bought 150 more bitcoins, Pres...</td>\n",
       "      <td>A representation of cryptocurrency Bitcoin is ...</td>\n",
       "      <td>0.0000</td>\n",
       "      <td>0.000</td>\n",
       "    </tr>\n",
       "    <tr>\n",
       "      <th>1</th>\n",
       "      <td>Bitcoin Falls Below $43,000 as Global Market R...</td>\n",
       "      <td>2021-09-20T12:58:57Z</td>\n",
       "      <td>https://ca.finance.yahoo.com/news/bitcoin-fall...</td>\n",
       "      <td>&lt;ol&gt;&lt;li&gt;Bitcoin Falls Below $43,000 as Global ...</td>\n",
       "      <td>(Bloomberg) -- Cryptocurrency prices slumped a...</td>\n",
       "      <td>-0.4404</td>\n",
       "      <td>0.000</td>\n",
       "    </tr>\n",
       "    <tr>\n",
       "      <th>2</th>\n",
       "      <td>Bitcoin slides below $45,000 in a broad crypto...</td>\n",
       "      <td>2021-09-20T11:44:54Z</td>\n",
       "      <td>https://markets.businessinsider.com/news/curre...</td>\n",
       "      <td>Some analysts attributed the sudden dip to emb...</td>\n",
       "      <td>Yuriko Nakao/Getty Images\\r\\nBitcoin fell belo...</td>\n",
       "      <td>-0.3612</td>\n",
       "      <td>0.000</td>\n",
       "    </tr>\n",
       "    <tr>\n",
       "      <th>3</th>\n",
       "      <td>7 Best Cryptos to Buy During Altcoin Season</td>\n",
       "      <td>2021-09-20T15:28:43Z</td>\n",
       "      <td>https://investorplace.com/2021/09/7-best-crypt...</td>\n",
       "      <td>I’ve been on the sidelines with cryptocurrenci...</td>\n",
       "      <td>Ive been on the sidelines with cryptocurrencie...</td>\n",
       "      <td>0.9413</td>\n",
       "      <td>0.283</td>\n",
       "    </tr>\n",
       "    <tr>\n",
       "      <th>4</th>\n",
       "      <td>Following SEC lawsuit threat, Coinbase cancels...</td>\n",
       "      <td>2021-09-20T17:25:32Z</td>\n",
       "      <td>http://techcrunch.com/2021/09/20/following-sec...</td>\n",
       "      <td>Coinbase efforts to play hardball with the Sec...</td>\n",
       "      <td>Coinbase efforts to play hardball with the Sec...</td>\n",
       "      <td>0.5574</td>\n",
       "      <td>0.108</td>\n",
       "    </tr>\n",
       "  </tbody>\n",
       "</table>\n",
       "</div>"
      ],
      "text/plain": [
       "                                           Headlines             Date_Time  \\\n",
       "0  El Salvador buys 150 more bitcoins, president ...  2021-09-20T12:24:00Z   \n",
       "1  Bitcoin Falls Below $43,000 as Global Market R...  2021-09-20T12:58:57Z   \n",
       "2  Bitcoin slides below $45,000 in a broad crypto...  2021-09-20T11:44:54Z   \n",
       "3        7 Best Cryptos to Buy During Altcoin Season  2021-09-20T15:28:43Z   \n",
       "4  Following SEC lawsuit threat, Coinbase cancels...  2021-09-20T17:25:32Z   \n",
       "\n",
       "                                                 URL  \\\n",
       "0  https://www.reuters.com/business/finance/el-sa...   \n",
       "1  https://ca.finance.yahoo.com/news/bitcoin-fall...   \n",
       "2  https://markets.businessinsider.com/news/curre...   \n",
       "3  https://investorplace.com/2021/09/7-best-crypt...   \n",
       "4  http://techcrunch.com/2021/09/20/following-sec...   \n",
       "\n",
       "                                         Description  \\\n",
       "0  El Salvador has bought 150 more bitcoins, Pres...   \n",
       "1  <ol><li>Bitcoin Falls Below $43,000 as Global ...   \n",
       "2  Some analysts attributed the sudden dip to emb...   \n",
       "3  I’ve been on the sidelines with cryptocurrenci...   \n",
       "4  Coinbase efforts to play hardball with the Sec...   \n",
       "\n",
       "                                             Content  Compound Sentiment  \\\n",
       "0  A representation of cryptocurrency Bitcoin is ...              0.0000   \n",
       "1  (Bloomberg) -- Cryptocurrency prices slumped a...             -0.4404   \n",
       "2  Yuriko Nakao/Getty Images\\r\\nBitcoin fell belo...             -0.3612   \n",
       "3  Ive been on the sidelines with cryptocurrencie...              0.9413   \n",
       "4  Coinbase efforts to play hardball with the Sec...              0.5574   \n",
       "\n",
       "   Positive Sentiment  \n",
       "0               0.000  \n",
       "1               0.000  \n",
       "2               0.000  \n",
       "3               0.283  \n",
       "4               0.108  "
      ]
     },
     "execution_count": 65,
     "metadata": {},
     "output_type": "execute_result"
    }
   ],
   "source": [
    "btc_articles_df['Positive Sentiment'] = btc_articles_df['Description'].apply(get_positiveScore)\n",
    "btc_articles_df.head()"
   ]
  },
  {
   "cell_type": "code",
   "execution_count": 66,
   "metadata": {},
   "outputs": [],
   "source": [
    "# Function to get neutral sentiments\n",
    "def get_neutral_sentiment(content):\n",
    "    sentiment = analyzer.polarity_scores(content)\n",
    "    neutral = sentiment[\"neu\"]\n",
    "    return neutral\n",
    "get_neutralScore = lambda x: get_neutral_sentiment(x)"
   ]
  },
  {
   "cell_type": "code",
   "execution_count": 67,
   "metadata": {},
   "outputs": [
    {
     "data": {
      "text/html": [
       "<div>\n",
       "<style scoped>\n",
       "    .dataframe tbody tr th:only-of-type {\n",
       "        vertical-align: middle;\n",
       "    }\n",
       "\n",
       "    .dataframe tbody tr th {\n",
       "        vertical-align: top;\n",
       "    }\n",
       "\n",
       "    .dataframe thead th {\n",
       "        text-align: right;\n",
       "    }\n",
       "</style>\n",
       "<table border=\"1\" class=\"dataframe\">\n",
       "  <thead>\n",
       "    <tr style=\"text-align: right;\">\n",
       "      <th></th>\n",
       "      <th>Headlines</th>\n",
       "      <th>Date_Time</th>\n",
       "      <th>URL</th>\n",
       "      <th>Description</th>\n",
       "      <th>Content</th>\n",
       "      <th>Compound Sentiment</th>\n",
       "      <th>Positive Sentiment</th>\n",
       "      <th>Neutral Sentiment</th>\n",
       "    </tr>\n",
       "  </thead>\n",
       "  <tbody>\n",
       "    <tr>\n",
       "      <th>0</th>\n",
       "      <td>El Salvador buys 150 more bitcoins, president ...</td>\n",
       "      <td>2021-09-20T12:24:00Z</td>\n",
       "      <td>https://www.reuters.com/business/finance/el-sa...</td>\n",
       "      <td>El Salvador has bought 150 more bitcoins, Pres...</td>\n",
       "      <td>A representation of cryptocurrency Bitcoin is ...</td>\n",
       "      <td>0.0000</td>\n",
       "      <td>0.000</td>\n",
       "      <td>1.000</td>\n",
       "    </tr>\n",
       "    <tr>\n",
       "      <th>1</th>\n",
       "      <td>Bitcoin Falls Below $43,000 as Global Market R...</td>\n",
       "      <td>2021-09-20T12:58:57Z</td>\n",
       "      <td>https://ca.finance.yahoo.com/news/bitcoin-fall...</td>\n",
       "      <td>&lt;ol&gt;&lt;li&gt;Bitcoin Falls Below $43,000 as Global ...</td>\n",
       "      <td>(Bloomberg) -- Cryptocurrency prices slumped a...</td>\n",
       "      <td>-0.4404</td>\n",
       "      <td>0.000</td>\n",
       "      <td>0.923</td>\n",
       "    </tr>\n",
       "    <tr>\n",
       "      <th>2</th>\n",
       "      <td>Bitcoin slides below $45,000 in a broad crypto...</td>\n",
       "      <td>2021-09-20T11:44:54Z</td>\n",
       "      <td>https://markets.businessinsider.com/news/curre...</td>\n",
       "      <td>Some analysts attributed the sudden dip to emb...</td>\n",
       "      <td>Yuriko Nakao/Getty Images\\r\\nBitcoin fell belo...</td>\n",
       "      <td>-0.3612</td>\n",
       "      <td>0.000</td>\n",
       "      <td>0.865</td>\n",
       "    </tr>\n",
       "    <tr>\n",
       "      <th>3</th>\n",
       "      <td>7 Best Cryptos to Buy During Altcoin Season</td>\n",
       "      <td>2021-09-20T15:28:43Z</td>\n",
       "      <td>https://investorplace.com/2021/09/7-best-crypt...</td>\n",
       "      <td>I’ve been on the sidelines with cryptocurrenci...</td>\n",
       "      <td>Ive been on the sidelines with cryptocurrencie...</td>\n",
       "      <td>0.9413</td>\n",
       "      <td>0.283</td>\n",
       "      <td>0.717</td>\n",
       "    </tr>\n",
       "    <tr>\n",
       "      <th>4</th>\n",
       "      <td>Following SEC lawsuit threat, Coinbase cancels...</td>\n",
       "      <td>2021-09-20T17:25:32Z</td>\n",
       "      <td>http://techcrunch.com/2021/09/20/following-sec...</td>\n",
       "      <td>Coinbase efforts to play hardball with the Sec...</td>\n",
       "      <td>Coinbase efforts to play hardball with the Sec...</td>\n",
       "      <td>0.5574</td>\n",
       "      <td>0.108</td>\n",
       "      <td>0.892</td>\n",
       "    </tr>\n",
       "  </tbody>\n",
       "</table>\n",
       "</div>"
      ],
      "text/plain": [
       "                                           Headlines             Date_Time  \\\n",
       "0  El Salvador buys 150 more bitcoins, president ...  2021-09-20T12:24:00Z   \n",
       "1  Bitcoin Falls Below $43,000 as Global Market R...  2021-09-20T12:58:57Z   \n",
       "2  Bitcoin slides below $45,000 in a broad crypto...  2021-09-20T11:44:54Z   \n",
       "3        7 Best Cryptos to Buy During Altcoin Season  2021-09-20T15:28:43Z   \n",
       "4  Following SEC lawsuit threat, Coinbase cancels...  2021-09-20T17:25:32Z   \n",
       "\n",
       "                                                 URL  \\\n",
       "0  https://www.reuters.com/business/finance/el-sa...   \n",
       "1  https://ca.finance.yahoo.com/news/bitcoin-fall...   \n",
       "2  https://markets.businessinsider.com/news/curre...   \n",
       "3  https://investorplace.com/2021/09/7-best-crypt...   \n",
       "4  http://techcrunch.com/2021/09/20/following-sec...   \n",
       "\n",
       "                                         Description  \\\n",
       "0  El Salvador has bought 150 more bitcoins, Pres...   \n",
       "1  <ol><li>Bitcoin Falls Below $43,000 as Global ...   \n",
       "2  Some analysts attributed the sudden dip to emb...   \n",
       "3  I’ve been on the sidelines with cryptocurrenci...   \n",
       "4  Coinbase efforts to play hardball with the Sec...   \n",
       "\n",
       "                                             Content  Compound Sentiment  \\\n",
       "0  A representation of cryptocurrency Bitcoin is ...              0.0000   \n",
       "1  (Bloomberg) -- Cryptocurrency prices slumped a...             -0.4404   \n",
       "2  Yuriko Nakao/Getty Images\\r\\nBitcoin fell belo...             -0.3612   \n",
       "3  Ive been on the sidelines with cryptocurrencie...              0.9413   \n",
       "4  Coinbase efforts to play hardball with the Sec...              0.5574   \n",
       "\n",
       "   Positive Sentiment  Neutral Sentiment  \n",
       "0               0.000              1.000  \n",
       "1               0.000              0.923  \n",
       "2               0.000              0.865  \n",
       "3               0.283              0.717  \n",
       "4               0.108              0.892  "
      ]
     },
     "execution_count": 67,
     "metadata": {},
     "output_type": "execute_result"
    }
   ],
   "source": [
    "btc_articles_df['Neutral Sentiment'] = btc_articles_df['Description'].apply(get_neutralScore)\n",
    "btc_articles_df.head()"
   ]
  },
  {
   "cell_type": "code",
   "execution_count": 68,
   "metadata": {},
   "outputs": [],
   "source": [
    "# Function to get negative sentiments\n",
    "def get_negative_sentiment(content):\n",
    "    sentiment = analyzer.polarity_scores(content)\n",
    "    negative = sentiment[\"neg\"]\n",
    "    return negative\n",
    "get_negativeScore = lambda x: get_negative_sentiment(x)"
   ]
  },
  {
   "cell_type": "code",
   "execution_count": 69,
   "metadata": {},
   "outputs": [
    {
     "data": {
      "text/html": [
       "<div>\n",
       "<style scoped>\n",
       "    .dataframe tbody tr th:only-of-type {\n",
       "        vertical-align: middle;\n",
       "    }\n",
       "\n",
       "    .dataframe tbody tr th {\n",
       "        vertical-align: top;\n",
       "    }\n",
       "\n",
       "    .dataframe thead th {\n",
       "        text-align: right;\n",
       "    }\n",
       "</style>\n",
       "<table border=\"1\" class=\"dataframe\">\n",
       "  <thead>\n",
       "    <tr style=\"text-align: right;\">\n",
       "      <th></th>\n",
       "      <th>Headlines</th>\n",
       "      <th>Date_Time</th>\n",
       "      <th>URL</th>\n",
       "      <th>Description</th>\n",
       "      <th>Content</th>\n",
       "      <th>Compound Sentiment</th>\n",
       "      <th>Positive Sentiment</th>\n",
       "      <th>Neutral Sentiment</th>\n",
       "      <th>Negative Sentiment</th>\n",
       "    </tr>\n",
       "  </thead>\n",
       "  <tbody>\n",
       "    <tr>\n",
       "      <th>0</th>\n",
       "      <td>El Salvador buys 150 more bitcoins, president ...</td>\n",
       "      <td>2021-09-20T12:24:00Z</td>\n",
       "      <td>https://www.reuters.com/business/finance/el-sa...</td>\n",
       "      <td>El Salvador has bought 150 more bitcoins, Pres...</td>\n",
       "      <td>A representation of cryptocurrency Bitcoin is ...</td>\n",
       "      <td>0.0000</td>\n",
       "      <td>0.000</td>\n",
       "      <td>1.000</td>\n",
       "      <td>0.000</td>\n",
       "    </tr>\n",
       "    <tr>\n",
       "      <th>1</th>\n",
       "      <td>Bitcoin Falls Below $43,000 as Global Market R...</td>\n",
       "      <td>2021-09-20T12:58:57Z</td>\n",
       "      <td>https://ca.finance.yahoo.com/news/bitcoin-fall...</td>\n",
       "      <td>&lt;ol&gt;&lt;li&gt;Bitcoin Falls Below $43,000 as Global ...</td>\n",
       "      <td>(Bloomberg) -- Cryptocurrency prices slumped a...</td>\n",
       "      <td>-0.4404</td>\n",
       "      <td>0.000</td>\n",
       "      <td>0.923</td>\n",
       "      <td>0.077</td>\n",
       "    </tr>\n",
       "    <tr>\n",
       "      <th>2</th>\n",
       "      <td>Bitcoin slides below $45,000 in a broad crypto...</td>\n",
       "      <td>2021-09-20T11:44:54Z</td>\n",
       "      <td>https://markets.businessinsider.com/news/curre...</td>\n",
       "      <td>Some analysts attributed the sudden dip to emb...</td>\n",
       "      <td>Yuriko Nakao/Getty Images\\r\\nBitcoin fell belo...</td>\n",
       "      <td>-0.3612</td>\n",
       "      <td>0.000</td>\n",
       "      <td>0.865</td>\n",
       "      <td>0.135</td>\n",
       "    </tr>\n",
       "    <tr>\n",
       "      <th>3</th>\n",
       "      <td>7 Best Cryptos to Buy During Altcoin Season</td>\n",
       "      <td>2021-09-20T15:28:43Z</td>\n",
       "      <td>https://investorplace.com/2021/09/7-best-crypt...</td>\n",
       "      <td>I’ve been on the sidelines with cryptocurrenci...</td>\n",
       "      <td>Ive been on the sidelines with cryptocurrencie...</td>\n",
       "      <td>0.9413</td>\n",
       "      <td>0.283</td>\n",
       "      <td>0.717</td>\n",
       "      <td>0.000</td>\n",
       "    </tr>\n",
       "    <tr>\n",
       "      <th>4</th>\n",
       "      <td>Following SEC lawsuit threat, Coinbase cancels...</td>\n",
       "      <td>2021-09-20T17:25:32Z</td>\n",
       "      <td>http://techcrunch.com/2021/09/20/following-sec...</td>\n",
       "      <td>Coinbase efforts to play hardball with the Sec...</td>\n",
       "      <td>Coinbase efforts to play hardball with the Sec...</td>\n",
       "      <td>0.5574</td>\n",
       "      <td>0.108</td>\n",
       "      <td>0.892</td>\n",
       "      <td>0.000</td>\n",
       "    </tr>\n",
       "  </tbody>\n",
       "</table>\n",
       "</div>"
      ],
      "text/plain": [
       "                                           Headlines             Date_Time  \\\n",
       "0  El Salvador buys 150 more bitcoins, president ...  2021-09-20T12:24:00Z   \n",
       "1  Bitcoin Falls Below $43,000 as Global Market R...  2021-09-20T12:58:57Z   \n",
       "2  Bitcoin slides below $45,000 in a broad crypto...  2021-09-20T11:44:54Z   \n",
       "3        7 Best Cryptos to Buy During Altcoin Season  2021-09-20T15:28:43Z   \n",
       "4  Following SEC lawsuit threat, Coinbase cancels...  2021-09-20T17:25:32Z   \n",
       "\n",
       "                                                 URL  \\\n",
       "0  https://www.reuters.com/business/finance/el-sa...   \n",
       "1  https://ca.finance.yahoo.com/news/bitcoin-fall...   \n",
       "2  https://markets.businessinsider.com/news/curre...   \n",
       "3  https://investorplace.com/2021/09/7-best-crypt...   \n",
       "4  http://techcrunch.com/2021/09/20/following-sec...   \n",
       "\n",
       "                                         Description  \\\n",
       "0  El Salvador has bought 150 more bitcoins, Pres...   \n",
       "1  <ol><li>Bitcoin Falls Below $43,000 as Global ...   \n",
       "2  Some analysts attributed the sudden dip to emb...   \n",
       "3  I’ve been on the sidelines with cryptocurrenci...   \n",
       "4  Coinbase efforts to play hardball with the Sec...   \n",
       "\n",
       "                                             Content  Compound Sentiment  \\\n",
       "0  A representation of cryptocurrency Bitcoin is ...              0.0000   \n",
       "1  (Bloomberg) -- Cryptocurrency prices slumped a...             -0.4404   \n",
       "2  Yuriko Nakao/Getty Images\\r\\nBitcoin fell belo...             -0.3612   \n",
       "3  Ive been on the sidelines with cryptocurrencie...              0.9413   \n",
       "4  Coinbase efforts to play hardball with the Sec...              0.5574   \n",
       "\n",
       "   Positive Sentiment  Neutral Sentiment  Negative Sentiment  \n",
       "0               0.000              1.000               0.000  \n",
       "1               0.000              0.923               0.077  \n",
       "2               0.000              0.865               0.135  \n",
       "3               0.283              0.717               0.000  \n",
       "4               0.108              0.892               0.000  "
      ]
     },
     "execution_count": 69,
     "metadata": {},
     "output_type": "execute_result"
    }
   ],
   "source": [
    "btc_articles_df['Negative Sentiment'] = btc_articles_df['Description'].apply(get_negativeScore)\n",
    "btc_articles_df.head()"
   ]
  },
  {
   "cell_type": "code",
   "execution_count": 74,
   "metadata": {},
   "outputs": [],
   "source": [
    "# Save BTC Articles data to CSV:\n",
    "btc_articles_df.to_csv(\"btc_articles_df.csv\")"
   ]
  },
  {
   "cell_type": "markdown",
   "metadata": {},
   "source": [
    "## Ethereum Sentiment Analysis"
   ]
  },
  {
   "cell_type": "code",
   "execution_count": 71,
   "metadata": {},
   "outputs": [
    {
     "name": "stdout",
     "output_type": "stream",
     "text": [
      "Fetching news about 'ethereum'\n",
      "******************************\n",
      "retrieving news from: 2021-09-20 19:10:05\n"
     ]
    },
    {
     "ename": "NewsAPIException",
     "evalue": "{'status': 'error', 'code': 'rateLimited', 'message': 'You have made too many requests recently. Developer accounts are limited to 100 requests over a 24 hour period (50 requests available every 12 hours). Please upgrade to a paid plan if you need more requests.'}",
     "output_type": "error",
     "traceback": [
      "\u001b[1;31m---------------------------------------------------------------------------\u001b[0m",
      "\u001b[1;31mNewsAPIException\u001b[0m                          Traceback (most recent call last)",
      "\u001b[1;32m<ipython-input-71-2c17060cd24f>\u001b[0m in \u001b[0;36m<module>\u001b[1;34m\u001b[0m\n\u001b[0;32m      1\u001b[0m \u001b[1;31m# Fetch the Ethereum news articles\u001b[0m\u001b[1;33m\u001b[0m\u001b[1;33m\u001b[0m\u001b[1;33m\u001b[0m\u001b[0m\n\u001b[1;32m----> 2\u001b[1;33m \u001b[0meth_articles_df\u001b[0m \u001b[1;33m=\u001b[0m \u001b[0mget_articles\u001b[0m\u001b[1;33m(\u001b[0m\u001b[1;34m\"ethereum\"\u001b[0m\u001b[1;33m)\u001b[0m\u001b[1;33m\u001b[0m\u001b[1;33m\u001b[0m\u001b[0m\n\u001b[0m",
      "\u001b[1;32m<ipython-input-15-0b43990bf6be>\u001b[0m in \u001b[0;36mget_articles\u001b[1;34m(keyword)\u001b[0m\n\u001b[0;32m     19\u001b[0m \u001b[1;31m#             page_size=100,\u001b[0m\u001b[1;33m\u001b[0m\u001b[1;33m\u001b[0m\u001b[1;33m\u001b[0m\u001b[0m\n\u001b[0;32m     20\u001b[0m             \u001b[0msort_by\u001b[0m\u001b[1;33m=\u001b[0m\u001b[1;34m\"relevancy\"\u001b[0m\u001b[1;33m,\u001b[0m\u001b[1;33m\u001b[0m\u001b[1;33m\u001b[0m\u001b[0m\n\u001b[1;32m---> 21\u001b[1;33m             \u001b[0mpage\u001b[0m\u001b[1;33m=\u001b[0m\u001b[1;36m1\u001b[0m\u001b[1;33m,\u001b[0m\u001b[1;33m\u001b[0m\u001b[1;33m\u001b[0m\u001b[0m\n\u001b[0m\u001b[0;32m     22\u001b[0m             )\n\u001b[0;32m     23\u001b[0m \u001b[1;31m#         headlines=[]\u001b[0m\u001b[1;33m\u001b[0m\u001b[1;33m\u001b[0m\u001b[1;33m\u001b[0m\u001b[0m\n",
      "\u001b[1;32m~\\anaconda3\\envs\\nlpenv\\lib\\site-packages\\newsapi\\newsapi_client.py\u001b[0m in \u001b[0;36mget_everything\u001b[1;34m(self, q, sources, domains, exclude_domains, from_param, to, language, sort_by, page, page_size)\u001b[0m\n\u001b[0;32m    259\u001b[0m         \u001b[1;31m# Check Status of Request\u001b[0m\u001b[1;33m\u001b[0m\u001b[1;33m\u001b[0m\u001b[1;33m\u001b[0m\u001b[0m\n\u001b[0;32m    260\u001b[0m         \u001b[1;32mif\u001b[0m \u001b[0mr\u001b[0m\u001b[1;33m.\u001b[0m\u001b[0mstatus_code\u001b[0m \u001b[1;33m!=\u001b[0m \u001b[0mrequests\u001b[0m\u001b[1;33m.\u001b[0m\u001b[0mcodes\u001b[0m\u001b[1;33m.\u001b[0m\u001b[0mok\u001b[0m\u001b[1;33m:\u001b[0m\u001b[1;33m\u001b[0m\u001b[1;33m\u001b[0m\u001b[0m\n\u001b[1;32m--> 261\u001b[1;33m             \u001b[1;32mraise\u001b[0m \u001b[0mNewsAPIException\u001b[0m\u001b[1;33m(\u001b[0m\u001b[0mr\u001b[0m\u001b[1;33m.\u001b[0m\u001b[0mjson\u001b[0m\u001b[1;33m(\u001b[0m\u001b[1;33m)\u001b[0m\u001b[1;33m)\u001b[0m\u001b[1;33m\u001b[0m\u001b[1;33m\u001b[0m\u001b[0m\n\u001b[0m\u001b[0;32m    262\u001b[0m \u001b[1;33m\u001b[0m\u001b[0m\n\u001b[0;32m    263\u001b[0m         \u001b[1;32mreturn\u001b[0m \u001b[0mr\u001b[0m\u001b[1;33m.\u001b[0m\u001b[0mjson\u001b[0m\u001b[1;33m(\u001b[0m\u001b[1;33m)\u001b[0m\u001b[1;33m\u001b[0m\u001b[1;33m\u001b[0m\u001b[0m\n",
      "\u001b[1;31mNewsAPIException\u001b[0m: {'status': 'error', 'code': 'rateLimited', 'message': 'You have made too many requests recently. Developer accounts are limited to 100 requests over a 24 hour period (50 requests available every 12 hours). Please upgrade to a paid plan if you need more requests.'}"
     ]
    }
   ],
   "source": [
    "# Fetch the Ethereum news articles\n",
    "eth_articles_df = get_articles(\"ethereum\")"
   ]
  },
  {
   "cell_type": "code",
   "execution_count": 72,
   "metadata": {},
   "outputs": [
    {
     "data": {
      "text/html": [
       "<div>\n",
       "<style scoped>\n",
       "    .dataframe tbody tr th:only-of-type {\n",
       "        vertical-align: middle;\n",
       "    }\n",
       "\n",
       "    .dataframe tbody tr th {\n",
       "        vertical-align: top;\n",
       "    }\n",
       "\n",
       "    .dataframe thead th {\n",
       "        text-align: right;\n",
       "    }\n",
       "</style>\n",
       "<table border=\"1\" class=\"dataframe\">\n",
       "  <thead>\n",
       "    <tr style=\"text-align: right;\">\n",
       "      <th></th>\n",
       "      <th>Compound Sentiment</th>\n",
       "      <th>Positive Sentiment</th>\n",
       "      <th>Neutral Sentiment</th>\n",
       "      <th>Negative Sentiment</th>\n",
       "    </tr>\n",
       "  </thead>\n",
       "  <tbody>\n",
       "    <tr>\n",
       "      <th>0</th>\n",
       "      <td>0.0000</td>\n",
       "      <td>0.000</td>\n",
       "      <td>1.000</td>\n",
       "      <td>0.000</td>\n",
       "    </tr>\n",
       "    <tr>\n",
       "      <th>1</th>\n",
       "      <td>-0.4404</td>\n",
       "      <td>0.000</td>\n",
       "      <td>0.923</td>\n",
       "      <td>0.077</td>\n",
       "    </tr>\n",
       "    <tr>\n",
       "      <th>2</th>\n",
       "      <td>-0.3612</td>\n",
       "      <td>0.000</td>\n",
       "      <td>0.865</td>\n",
       "      <td>0.135</td>\n",
       "    </tr>\n",
       "    <tr>\n",
       "      <th>3</th>\n",
       "      <td>0.9413</td>\n",
       "      <td>0.283</td>\n",
       "      <td>0.717</td>\n",
       "      <td>0.000</td>\n",
       "    </tr>\n",
       "    <tr>\n",
       "      <th>4</th>\n",
       "      <td>0.5574</td>\n",
       "      <td>0.108</td>\n",
       "      <td>0.892</td>\n",
       "      <td>0.000</td>\n",
       "    </tr>\n",
       "    <tr>\n",
       "      <th>5</th>\n",
       "      <td>0.1655</td>\n",
       "      <td>0.113</td>\n",
       "      <td>0.887</td>\n",
       "      <td>0.000</td>\n",
       "    </tr>\n",
       "    <tr>\n",
       "      <th>6</th>\n",
       "      <td>-0.7717</td>\n",
       "      <td>0.000</td>\n",
       "      <td>0.806</td>\n",
       "      <td>0.194</td>\n",
       "    </tr>\n",
       "    <tr>\n",
       "      <th>7</th>\n",
       "      <td>-0.2023</td>\n",
       "      <td>0.117</td>\n",
       "      <td>0.743</td>\n",
       "      <td>0.140</td>\n",
       "    </tr>\n",
       "    <tr>\n",
       "      <th>8</th>\n",
       "      <td>-0.6369</td>\n",
       "      <td>0.157</td>\n",
       "      <td>0.337</td>\n",
       "      <td>0.506</td>\n",
       "    </tr>\n",
       "    <tr>\n",
       "      <th>9</th>\n",
       "      <td>-0.8081</td>\n",
       "      <td>0.000</td>\n",
       "      <td>0.799</td>\n",
       "      <td>0.201</td>\n",
       "    </tr>\n",
       "    <tr>\n",
       "      <th>10</th>\n",
       "      <td>-0.5875</td>\n",
       "      <td>0.074</td>\n",
       "      <td>0.703</td>\n",
       "      <td>0.223</td>\n",
       "    </tr>\n",
       "    <tr>\n",
       "      <th>11</th>\n",
       "      <td>-0.3612</td>\n",
       "      <td>0.000</td>\n",
       "      <td>0.906</td>\n",
       "      <td>0.094</td>\n",
       "    </tr>\n",
       "    <tr>\n",
       "      <th>12</th>\n",
       "      <td>0.3818</td>\n",
       "      <td>0.167</td>\n",
       "      <td>0.833</td>\n",
       "      <td>0.000</td>\n",
       "    </tr>\n",
       "    <tr>\n",
       "      <th>13</th>\n",
       "      <td>0.5574</td>\n",
       "      <td>0.158</td>\n",
       "      <td>0.758</td>\n",
       "      <td>0.084</td>\n",
       "    </tr>\n",
       "    <tr>\n",
       "      <th>14</th>\n",
       "      <td>-0.6908</td>\n",
       "      <td>0.000</td>\n",
       "      <td>0.812</td>\n",
       "      <td>0.188</td>\n",
       "    </tr>\n",
       "    <tr>\n",
       "      <th>15</th>\n",
       "      <td>0.0516</td>\n",
       "      <td>0.077</td>\n",
       "      <td>0.852</td>\n",
       "      <td>0.071</td>\n",
       "    </tr>\n",
       "    <tr>\n",
       "      <th>16</th>\n",
       "      <td>-0.0772</td>\n",
       "      <td>0.130</td>\n",
       "      <td>0.725</td>\n",
       "      <td>0.145</td>\n",
       "    </tr>\n",
       "    <tr>\n",
       "      <th>17</th>\n",
       "      <td>0.0000</td>\n",
       "      <td>0.000</td>\n",
       "      <td>1.000</td>\n",
       "      <td>0.000</td>\n",
       "    </tr>\n",
       "    <tr>\n",
       "      <th>18</th>\n",
       "      <td>-0.8074</td>\n",
       "      <td>0.000</td>\n",
       "      <td>0.628</td>\n",
       "      <td>0.372</td>\n",
       "    </tr>\n",
       "    <tr>\n",
       "      <th>19</th>\n",
       "      <td>-0.4404</td>\n",
       "      <td>0.000</td>\n",
       "      <td>0.935</td>\n",
       "      <td>0.065</td>\n",
       "    </tr>\n",
       "  </tbody>\n",
       "</table>\n",
       "</div>"
      ],
      "text/plain": [
       "    Compound Sentiment  Positive Sentiment  Neutral Sentiment  \\\n",
       "0               0.0000               0.000              1.000   \n",
       "1              -0.4404               0.000              0.923   \n",
       "2              -0.3612               0.000              0.865   \n",
       "3               0.9413               0.283              0.717   \n",
       "4               0.5574               0.108              0.892   \n",
       "5               0.1655               0.113              0.887   \n",
       "6              -0.7717               0.000              0.806   \n",
       "7              -0.2023               0.117              0.743   \n",
       "8              -0.6369               0.157              0.337   \n",
       "9              -0.8081               0.000              0.799   \n",
       "10             -0.5875               0.074              0.703   \n",
       "11             -0.3612               0.000              0.906   \n",
       "12              0.3818               0.167              0.833   \n",
       "13              0.5574               0.158              0.758   \n",
       "14             -0.6908               0.000              0.812   \n",
       "15              0.0516               0.077              0.852   \n",
       "16             -0.0772               0.130              0.725   \n",
       "17              0.0000               0.000              1.000   \n",
       "18             -0.8074               0.000              0.628   \n",
       "19             -0.4404               0.000              0.935   \n",
       "\n",
       "    Negative Sentiment  \n",
       "0                0.000  \n",
       "1                0.077  \n",
       "2                0.135  \n",
       "3                0.000  \n",
       "4                0.000  \n",
       "5                0.000  \n",
       "6                0.194  \n",
       "7                0.140  \n",
       "8                0.506  \n",
       "9                0.201  \n",
       "10               0.223  \n",
       "11               0.094  \n",
       "12               0.000  \n",
       "13               0.084  \n",
       "14               0.188  \n",
       "15               0.071  \n",
       "16               0.145  \n",
       "17               0.000  \n",
       "18               0.372  \n",
       "19               0.065  "
      ]
     },
     "execution_count": 72,
     "metadata": {},
     "output_type": "execute_result"
    }
   ],
   "source": [
    "# Create the Bitcoin sentiment scores DataFrame\n",
    "btc_sentiment_df = btc_articles_df[['Compound Sentiment', 'Positive Sentiment', 'Neutral Sentiment', 'Negative Sentiment']].copy(deep=True)\n",
    "btc_sentiment_df"
   ]
  },
  {
   "cell_type": "code",
   "execution_count": 7,
   "metadata": {},
   "outputs": [],
   "source": [
    "# Create the Ethereum sentiment scores DataFrame\n",
    "# YOUR CODE HERE!"
   ]
  },
  {
   "cell_type": "code",
   "execution_count": 73,
   "metadata": {},
   "outputs": [
    {
     "data": {
      "text/html": [
       "<div>\n",
       "<style scoped>\n",
       "    .dataframe tbody tr th:only-of-type {\n",
       "        vertical-align: middle;\n",
       "    }\n",
       "\n",
       "    .dataframe tbody tr th {\n",
       "        vertical-align: top;\n",
       "    }\n",
       "\n",
       "    .dataframe thead th {\n",
       "        text-align: right;\n",
       "    }\n",
       "</style>\n",
       "<table border=\"1\" class=\"dataframe\">\n",
       "  <thead>\n",
       "    <tr style=\"text-align: right;\">\n",
       "      <th></th>\n",
       "      <th>Compound Sentiment</th>\n",
       "      <th>Positive Sentiment</th>\n",
       "      <th>Neutral Sentiment</th>\n",
       "      <th>Negative Sentiment</th>\n",
       "    </tr>\n",
       "  </thead>\n",
       "  <tbody>\n",
       "    <tr>\n",
       "      <th>count</th>\n",
       "      <td>20.000000</td>\n",
       "      <td>20.000000</td>\n",
       "      <td>20.000000</td>\n",
       "      <td>20.000000</td>\n",
       "    </tr>\n",
       "    <tr>\n",
       "      <th>mean</th>\n",
       "      <td>-0.176505</td>\n",
       "      <td>0.069200</td>\n",
       "      <td>0.806050</td>\n",
       "      <td>0.124750</td>\n",
       "    </tr>\n",
       "    <tr>\n",
       "      <th>std</th>\n",
       "      <td>0.507021</td>\n",
       "      <td>0.082157</td>\n",
       "      <td>0.148498</td>\n",
       "      <td>0.133025</td>\n",
       "    </tr>\n",
       "    <tr>\n",
       "      <th>min</th>\n",
       "      <td>-0.808100</td>\n",
       "      <td>0.000000</td>\n",
       "      <td>0.337000</td>\n",
       "      <td>0.000000</td>\n",
       "    </tr>\n",
       "    <tr>\n",
       "      <th>25%</th>\n",
       "      <td>-0.599850</td>\n",
       "      <td>0.000000</td>\n",
       "      <td>0.738500</td>\n",
       "      <td>0.000000</td>\n",
       "    </tr>\n",
       "    <tr>\n",
       "      <th>50%</th>\n",
       "      <td>-0.281750</td>\n",
       "      <td>0.037000</td>\n",
       "      <td>0.822500</td>\n",
       "      <td>0.089000</td>\n",
       "    </tr>\n",
       "    <tr>\n",
       "      <th>75%</th>\n",
       "      <td>0.080075</td>\n",
       "      <td>0.120250</td>\n",
       "      <td>0.895500</td>\n",
       "      <td>0.189500</td>\n",
       "    </tr>\n",
       "    <tr>\n",
       "      <th>max</th>\n",
       "      <td>0.941300</td>\n",
       "      <td>0.283000</td>\n",
       "      <td>1.000000</td>\n",
       "      <td>0.506000</td>\n",
       "    </tr>\n",
       "  </tbody>\n",
       "</table>\n",
       "</div>"
      ],
      "text/plain": [
       "       Compound Sentiment  Positive Sentiment  Neutral Sentiment  \\\n",
       "count           20.000000           20.000000          20.000000   \n",
       "mean            -0.176505            0.069200           0.806050   \n",
       "std              0.507021            0.082157           0.148498   \n",
       "min             -0.808100            0.000000           0.337000   \n",
       "25%             -0.599850            0.000000           0.738500   \n",
       "50%             -0.281750            0.037000           0.822500   \n",
       "75%              0.080075            0.120250           0.895500   \n",
       "max              0.941300            0.283000           1.000000   \n",
       "\n",
       "       Negative Sentiment  \n",
       "count           20.000000  \n",
       "mean             0.124750  \n",
       "std              0.133025  \n",
       "min              0.000000  \n",
       "25%              0.000000  \n",
       "50%              0.089000  \n",
       "75%              0.189500  \n",
       "max              0.506000  "
      ]
     },
     "execution_count": 73,
     "metadata": {},
     "output_type": "execute_result"
    }
   ],
   "source": [
    "# Describe the Bitcoin Sentiment\n",
    "btc_sentiment_df.describe()"
   ]
  },
  {
   "cell_type": "code",
   "execution_count": 9,
   "metadata": {},
   "outputs": [],
   "source": [
    "# Describe the Ethereum Sentiment\n",
    "# YOUR CODE HERE!"
   ]
  },
  {
   "cell_type": "markdown",
   "metadata": {},
   "source": [
    "### Questions:\n",
    "\n",
    "Q: Which coin had the highest mean positive score?\n",
    "\n",
    "A: \n",
    "\n",
    "Q: Which coin had the highest compound score?\n",
    "\n",
    "A: \n",
    "\n",
    "Q. Which coin had the highest positive score?\n",
    "\n",
    "A: "
   ]
  },
  {
   "cell_type": "markdown",
   "metadata": {},
   "source": [
    "---"
   ]
  },
  {
   "cell_type": "markdown",
   "metadata": {},
   "source": [
    "## 2. Natural Language Processing\n",
    "---\n",
    "###   Tokenizer\n",
    "\n",
    "In this section, you will use NLTK and Python to tokenize the text for each coin. Be sure to:\n",
    "1. Lowercase each word.\n",
    "2. Remove Punctuation.\n",
    "3. Remove Stopwords."
   ]
  },
  {
   "cell_type": "code",
   "execution_count": 10,
   "metadata": {},
   "outputs": [],
   "source": [
    "from nltk.tokenize import word_tokenize, sent_tokenize\n",
    "from nltk.corpus import stopwords\n",
    "from nltk.stem import WordNetLemmatizer, PorterStemmer\n",
    "from string import punctuation\n",
    "import re"
   ]
  },
  {
   "cell_type": "code",
   "execution_count": 11,
   "metadata": {},
   "outputs": [],
   "source": [
    "# Instantiate the lemmatizer\n",
    "lemmatizer = WordNetLemmatizer()\n",
    "\n",
    "# Create a list of stopwords\n",
    "sw = set(stopwords.words('english'))\n",
    "\n",
    "# Expand the default stopwords list if necessary\n",
    "# YOUR CODE HERE!"
   ]
  },
  {
   "cell_type": "code",
   "execution_count": 12,
   "metadata": {},
   "outputs": [],
   "source": [
    "# Complete the tokenizer function\n",
    "def tokenizer(text):\n",
    "    \"\"\"Tokenizes text.\"\"\"\n",
    "    \n",
    "    # Remove the punctuation from text\n",
    "    regex = re.compile(\"[^a-zA-Z ]\")\n",
    "    re_clean = regex.sub('', doc)\n",
    "   \n",
    "    # Create a tokenized list of the words\n",
    "    words = word_tokenize(re_clean)\n",
    "    \n",
    "    # Lemmatize words into root words\n",
    "    lem = [lemmatizer.lemmatize(word) for word in words]\n",
    "   \n",
    "    # Convert the words to lowercase & Remove the stop words\n",
    "    output = [word.lower() for word in lem if word.lower() not in sw]\n",
    "    \n",
    "    tokens = ' '.join(output)\n",
    "    \n",
    "    return tokens"
   ]
  },
  {
   "cell_type": "markdown",
   "metadata": {},
   "source": [
    "# Below asks for a column?  Where or What dataframe are we adding this column too?????"
   ]
  },
  {
   "cell_type": "code",
   "execution_count": 13,
   "metadata": {
    "tags": []
   },
   "outputs": [],
   "source": [
    "# Create a new tokens column for Bitcoin\n",
    "btc_tokens = tokenizer()"
   ]
  },
  {
   "cell_type": "code",
   "execution_count": 14,
   "metadata": {},
   "outputs": [],
   "source": [
    "# Create a new tokens column for Ethereum\n",
    "# YOUR CODE HERE!"
   ]
  },
  {
   "cell_type": "markdown",
   "metadata": {},
   "source": [
    "---"
   ]
  },
  {
   "cell_type": "markdown",
   "metadata": {},
   "source": [
    "### NGrams and Frequency Analysis\n",
    "\n",
    "In this section you will look at the ngrams and word frequency for each coin. \n",
    "\n",
    "1. Use NLTK to produce the n-grams for N = 2. \n",
    "2. List the top 10 words for each coin. "
   ]
  },
  {
   "cell_type": "code",
   "execution_count": 76,
   "metadata": {},
   "outputs": [],
   "source": [
    "from collections import Counter\n",
    "from nltk import ngrams\n",
    "import spacy\n",
    "\n",
    "# Load the English language model for spaCy\n",
    "nlp = spacy.load(\"en_core_web_sm\")"
   ]
  },
  {
   "cell_type": "code",
   "execution_count": null,
   "metadata": {},
   "outputs": [],
   "source": [
    "def create_bigrams(text):\n",
    "    bigrams = ngrams(text, 2)\n",
    "    output = ['_'.join(i) for i in bigrams]\n",
    "    return ' '.join(output)"
   ]
  },
  {
   "cell_type": "code",
   "execution_count": 16,
   "metadata": {},
   "outputs": [],
   "source": [
    "# Generate the Bitcoin N-grams where N=2\n",
    "btc_bigrams = create_bigrams(text)"
   ]
  },
  {
   "cell_type": "code",
   "execution_count": 17,
   "metadata": {},
   "outputs": [],
   "source": [
    "# Generate the Ethereum N-grams where N=2\n",
    "# YOUR CODE HERE!"
   ]
  },
  {
   "cell_type": "code",
   "execution_count": 18,
   "metadata": {},
   "outputs": [],
   "source": [
    "# Function token_count generates the top 10 words for a given coin\n",
    "def token_count(tokens, N=3):\n",
    "    \"\"\"Returns the top N tokens from the frequency count\"\"\"\n",
    "    return Counter(tokens).most_common(N)"
   ]
  },
  {
   "cell_type": "code",
   "execution_count": 19,
   "metadata": {},
   "outputs": [],
   "source": [
    "# Use token_count to get the top 10 words for Bitcoin\n",
    "# YOUR CODE HERE!"
   ]
  },
  {
   "cell_type": "code",
   "execution_count": 78,
   "metadata": {},
   "outputs": [],
   "source": [
    "# Get a list of Adjectives, Nouns, and Proper Nouns from text.  Returns each word with a count.\n",
    "def most_freq_words(text):\n",
    "    \"\"\"\n",
    "    This function gets all of the adjectives and nouns in the text.\n",
    "    Args:  text (string):  The text to analyze\n",
    "    Returns:  most_common_word(list):  A list with all Adjectives, Nouns, and Proper Nouns\n",
    "    \"\"\"\n",
    "    # Tokenizes text and parse each token\n",
    "    doc = nlp(text)\n",
    "    \n",
    "    # Creates a list with all the adjectives in the text\n",
    "    words = [token.text.lower() for token in doc if ((token.pos_ == 'ADJ') or (token.pos_ == 'PROPN') or (token.pos_ == 'NOUN'))]\n",
    "    \n",
    "    # Retrieves the most frequent adjective in the `adjs` list using the Counter module\n",
    "    most_common_word = Counter( words).most_common(1)\n",
    "    \n",
    "    return most_common_word\n",
    "\n",
    "count_words = lambda x: most_freq_words(x)"
   ]
  },
  {
   "cell_type": "code",
   "execution_count": 79,
   "metadata": {},
   "outputs": [],
   "source": [
    "# Create a list most common words\n",
    "word_count = btc_articles_df['Description'].apply(count_words)"
   ]
  },
  {
   "cell_type": "code",
   "execution_count": 83,
   "metadata": {},
   "outputs": [
    {
     "name": "stdout",
     "output_type": "stream",
     "text": [
      "0              [(el, 1)]\n",
      "1         [(bitcoin, 2)]\n",
      "2        [(analysts, 1)]\n",
      "3            [(many, 2)]\n",
      "4        [(exchange, 2)]\n",
      "5      [(blockchain, 1)]\n",
      "6        [(offshore, 1)]\n",
      "7           [(total, 1)]\n",
      "8           [(forex, 1)]\n",
      "9    [(transactions, 2)]\n",
      "Name: Description, dtype: object\n"
     ]
    }
   ],
   "source": [
    "# Display Sample\n",
    "print(word_count[:10])"
   ]
  },
  {
   "cell_type": "code",
   "execution_count": 81,
   "metadata": {},
   "outputs": [
    {
     "data": {
      "text/plain": [
       "pandas.core.series.Series"
      ]
     },
     "execution_count": 81,
     "metadata": {},
     "output_type": "execute_result"
    }
   ],
   "source": [
    "type(word_count)"
   ]
  },
  {
   "cell_type": "markdown",
   "metadata": {},
   "source": [
    "#### Use the \"most_common()\" function from the Counter module to fetcht the the 10 most frequent words in the articles.  \n",
    "The \"most_common()\" function returns a Python list that can be stored in the variable most_frequent_words."
   ]
  },
  {
   "cell_type": "code",
   "execution_count": 84,
   "metadata": {},
   "outputs": [
    {
     "ename": "TypeError",
     "evalue": "unhashable type: 'list'",
     "output_type": "error",
     "traceback": [
      "\u001b[1;31m---------------------------------------------------------------------------\u001b[0m",
      "\u001b[1;31mTypeError\u001b[0m                                 Traceback (most recent call last)",
      "\u001b[1;32m<ipython-input-84-58f9f3fb7d61>\u001b[0m in \u001b[0;36m<module>\u001b[1;34m\u001b[0m\n\u001b[0;32m      1\u001b[0m \u001b[1;31m# Retreive the most frequent words:\u001b[0m\u001b[1;33m\u001b[0m\u001b[1;33m\u001b[0m\u001b[1;33m\u001b[0m\u001b[0m\n\u001b[1;32m----> 2\u001b[1;33m \u001b[0mmost_frequent_words\u001b[0m \u001b[1;33m=\u001b[0m \u001b[0mCounter\u001b[0m\u001b[1;33m(\u001b[0m\u001b[0mword_count\u001b[0m\u001b[1;33m)\u001b[0m\u001b[1;33m.\u001b[0m\u001b[0mmost_common\u001b[0m\u001b[1;33m(\u001b[0m\u001b[1;36m10\u001b[0m\u001b[1;33m)\u001b[0m\u001b[1;33m\u001b[0m\u001b[1;33m\u001b[0m\u001b[0m\n\u001b[0m\u001b[0;32m      3\u001b[0m \u001b[0mprint\u001b[0m\u001b[1;33m(\u001b[0m\u001b[0mmost_frequent_words\u001b[0m\u001b[1;33m)\u001b[0m\u001b[1;33m\u001b[0m\u001b[1;33m\u001b[0m\u001b[0m\n",
      "\u001b[1;32m~\\anaconda3\\envs\\nlpenv\\lib\\collections\\__init__.py\u001b[0m in \u001b[0;36m__init__\u001b[1;34m(*args, **kwds)\u001b[0m\n\u001b[0;32m    566\u001b[0m             \u001b[1;32mraise\u001b[0m \u001b[0mTypeError\u001b[0m\u001b[1;33m(\u001b[0m\u001b[1;34m'expected at most 1 arguments, got %d'\u001b[0m \u001b[1;33m%\u001b[0m \u001b[0mlen\u001b[0m\u001b[1;33m(\u001b[0m\u001b[0margs\u001b[0m\u001b[1;33m)\u001b[0m\u001b[1;33m)\u001b[0m\u001b[1;33m\u001b[0m\u001b[1;33m\u001b[0m\u001b[0m\n\u001b[0;32m    567\u001b[0m         \u001b[0msuper\u001b[0m\u001b[1;33m(\u001b[0m\u001b[0mCounter\u001b[0m\u001b[1;33m,\u001b[0m \u001b[0mself\u001b[0m\u001b[1;33m)\u001b[0m\u001b[1;33m.\u001b[0m\u001b[0m__init__\u001b[0m\u001b[1;33m(\u001b[0m\u001b[1;33m)\u001b[0m\u001b[1;33m\u001b[0m\u001b[1;33m\u001b[0m\u001b[0m\n\u001b[1;32m--> 568\u001b[1;33m         \u001b[0mself\u001b[0m\u001b[1;33m.\u001b[0m\u001b[0mupdate\u001b[0m\u001b[1;33m(\u001b[0m\u001b[1;33m*\u001b[0m\u001b[0margs\u001b[0m\u001b[1;33m,\u001b[0m \u001b[1;33m**\u001b[0m\u001b[0mkwds\u001b[0m\u001b[1;33m)\u001b[0m\u001b[1;33m\u001b[0m\u001b[1;33m\u001b[0m\u001b[0m\n\u001b[0m\u001b[0;32m    569\u001b[0m \u001b[1;33m\u001b[0m\u001b[0m\n\u001b[0;32m    570\u001b[0m     \u001b[1;32mdef\u001b[0m \u001b[0m__missing__\u001b[0m\u001b[1;33m(\u001b[0m\u001b[0mself\u001b[0m\u001b[1;33m,\u001b[0m \u001b[0mkey\u001b[0m\u001b[1;33m)\u001b[0m\u001b[1;33m:\u001b[0m\u001b[1;33m\u001b[0m\u001b[1;33m\u001b[0m\u001b[0m\n",
      "\u001b[1;32m~\\anaconda3\\envs\\nlpenv\\lib\\collections\\__init__.py\u001b[0m in \u001b[0;36mupdate\u001b[1;34m(*args, **kwds)\u001b[0m\n\u001b[0;32m    653\u001b[0m                     \u001b[0msuper\u001b[0m\u001b[1;33m(\u001b[0m\u001b[0mCounter\u001b[0m\u001b[1;33m,\u001b[0m \u001b[0mself\u001b[0m\u001b[1;33m)\u001b[0m\u001b[1;33m.\u001b[0m\u001b[0mupdate\u001b[0m\u001b[1;33m(\u001b[0m\u001b[0miterable\u001b[0m\u001b[1;33m)\u001b[0m \u001b[1;31m# fast path when counter is empty\u001b[0m\u001b[1;33m\u001b[0m\u001b[1;33m\u001b[0m\u001b[0m\n\u001b[0;32m    654\u001b[0m             \u001b[1;32melse\u001b[0m\u001b[1;33m:\u001b[0m\u001b[1;33m\u001b[0m\u001b[1;33m\u001b[0m\u001b[0m\n\u001b[1;32m--> 655\u001b[1;33m                 \u001b[0m_count_elements\u001b[0m\u001b[1;33m(\u001b[0m\u001b[0mself\u001b[0m\u001b[1;33m,\u001b[0m \u001b[0miterable\u001b[0m\u001b[1;33m)\u001b[0m\u001b[1;33m\u001b[0m\u001b[1;33m\u001b[0m\u001b[0m\n\u001b[0m\u001b[0;32m    656\u001b[0m         \u001b[1;32mif\u001b[0m \u001b[0mkwds\u001b[0m\u001b[1;33m:\u001b[0m\u001b[1;33m\u001b[0m\u001b[1;33m\u001b[0m\u001b[0m\n\u001b[0;32m    657\u001b[0m             \u001b[0mself\u001b[0m\u001b[1;33m.\u001b[0m\u001b[0mupdate\u001b[0m\u001b[1;33m(\u001b[0m\u001b[0mkwds\u001b[0m\u001b[1;33m)\u001b[0m\u001b[1;33m\u001b[0m\u001b[1;33m\u001b[0m\u001b[0m\n",
      "\u001b[1;31mTypeError\u001b[0m: unhashable type: 'list'"
     ]
    }
   ],
   "source": [
    "# Retreive the most frequent words:\n",
    "most_frequent_words = Counter(word_count).most_common(10)\n",
    "print(most_frequent_words)"
   ]
  },
  {
   "cell_type": "code",
   "execution_count": null,
   "metadata": {},
   "outputs": [],
   "source": []
  },
  {
   "cell_type": "code",
   "execution_count": null,
   "metadata": {},
   "outputs": [],
   "source": [
    "# Review functionality of the most common word for each article:\n"
   ]
  },
  {
   "cell_type": "code",
   "execution_count": null,
   "metadata": {},
   "outputs": [],
   "source": []
  },
  {
   "cell_type": "code",
   "execution_count": 20,
   "metadata": {},
   "outputs": [],
   "source": [
    "# Use token_count to get the top 10 words for Ethereum\n",
    "# YOUR CODE HERE!"
   ]
  },
  {
   "cell_type": "markdown",
   "metadata": {},
   "source": [
    "---"
   ]
  },
  {
   "cell_type": "markdown",
   "metadata": {},
   "source": [
    "### Word Clouds\n",
    "\n",
    "In this section, you will generate word clouds for each coin to summarize the news for each coin"
   ]
  },
  {
   "cell_type": "code",
   "execution_count": 21,
   "metadata": {},
   "outputs": [],
   "source": [
    "from wordcloud import WordCloud\n",
    "import matplotlib.pyplot as plt\n",
    "plt.style.use('seaborn-whitegrid')\n",
    "import matplotlib as mpl\n",
    "mpl.rcParams['figure.figsize'] = [20.0, 10.0]"
   ]
  },
  {
   "cell_type": "code",
   "execution_count": 22,
   "metadata": {},
   "outputs": [],
   "source": [
    "# Generate the Bitcoin word cloud\n",
    "# YOUR CODE HERE!"
   ]
  },
  {
   "cell_type": "code",
   "execution_count": 23,
   "metadata": {},
   "outputs": [],
   "source": [
    "# Generate the Ethereum word cloud\n",
    "# YOUR CODE HERE!"
   ]
  },
  {
   "cell_type": "markdown",
   "metadata": {},
   "source": [
    "---\n",
    "## 3. Named Entity Recognition\n",
    "\n",
    "In this section, you will build a named entity recognition model for both Bitcoin and Ethereum, then visualize the tags using SpaCy."
   ]
  },
  {
   "cell_type": "code",
   "execution_count": 24,
   "metadata": {},
   "outputs": [],
   "source": [
    "import spacy\n",
    "from spacy import displacy"
   ]
  },
  {
   "cell_type": "code",
   "execution_count": 25,
   "metadata": {},
   "outputs": [],
   "source": [
    "# Download the language model for SpaCy\n",
    "# !python -m spacy download en_core_web_sm"
   ]
  },
  {
   "cell_type": "code",
   "execution_count": 26,
   "metadata": {},
   "outputs": [],
   "source": [
    "# Load the spaCy model\n",
    "nlp = spacy.load('en_core_web_sm')"
   ]
  },
  {
   "cell_type": "markdown",
   "metadata": {},
   "source": [
    "---\n",
    "### Bitcoin NER"
   ]
  },
  {
   "cell_type": "code",
   "execution_count": 27,
   "metadata": {},
   "outputs": [],
   "source": [
    "# Concatenate all of the Bitcoin text together\n",
    "# YOUR CODE HERE!"
   ]
  },
  {
   "cell_type": "code",
   "execution_count": 28,
   "metadata": {},
   "outputs": [],
   "source": [
    "# Run the NER processor on all of the text\n",
    "# YOUR CODE HERE!\n",
    "\n",
    "# Add a title to the document\n",
    "# YOUR CODE HERE!"
   ]
  },
  {
   "cell_type": "code",
   "execution_count": 29,
   "metadata": {},
   "outputs": [],
   "source": [
    "# Render the visualization\n",
    "# YOUR CODE HERE!"
   ]
  },
  {
   "cell_type": "code",
   "execution_count": 30,
   "metadata": {},
   "outputs": [],
   "source": [
    "# List all Entities\n",
    "# YOUR CODE HERE!"
   ]
  },
  {
   "cell_type": "markdown",
   "metadata": {},
   "source": [
    "---"
   ]
  },
  {
   "cell_type": "markdown",
   "metadata": {},
   "source": [
    "### Ethereum NER"
   ]
  },
  {
   "cell_type": "code",
   "execution_count": 31,
   "metadata": {},
   "outputs": [],
   "source": [
    "# Concatenate all of the Ethereum text together\n",
    "# YOUR CODE HERE!"
   ]
  },
  {
   "cell_type": "code",
   "execution_count": 32,
   "metadata": {},
   "outputs": [],
   "source": [
    "# Run the NER processor on all of the text\n",
    "# YOUR CODE HERE!\n",
    "\n",
    "# Add a title to the document\n",
    "# YOUR CODE HERE!"
   ]
  },
  {
   "cell_type": "code",
   "execution_count": 33,
   "metadata": {},
   "outputs": [],
   "source": [
    "# Render the visualization\n",
    "# YOUR CODE HERE!"
   ]
  },
  {
   "cell_type": "code",
   "execution_count": 34,
   "metadata": {},
   "outputs": [],
   "source": [
    "# List all Entities\n",
    "# YOUR CODE HERE!"
   ]
  },
  {
   "cell_type": "markdown",
   "metadata": {},
   "source": [
    "---"
   ]
  }
 ],
 "metadata": {
  "file_extension": ".py",
  "kernelspec": {
   "display_name": "Python [conda env:nlpenv]",
   "language": "python",
   "name": "conda-env-nlpenv-py"
  },
  "language_info": {
   "codemirror_mode": {
    "name": "ipython",
    "version": 3
   },
   "file_extension": ".py",
   "mimetype": "text/x-python",
   "name": "python",
   "nbconvert_exporter": "python",
   "pygments_lexer": "ipython3",
   "version": "3.7.10"
  },
  "mimetype": "text/x-python",
  "name": "python",
  "npconvert_exporter": "python",
  "pygments_lexer": "ipython3",
  "version": 3
 },
 "nbformat": 4,
 "nbformat_minor": 4
}
