{
 "cells": [
  {
   "cell_type": "markdown",
   "metadata": {},
   "source": [
    "# Unit 12 - Tales from the Crypto\n",
    "\n",
    "---\n"
   ]
  },
  {
   "cell_type": "markdown",
   "metadata": {},
   "source": [
    "## 1. Sentiment Analysis\n",
    "\n",
    "Use the [newsapi](https://newsapi.org/) to pull the latest news articles for Bitcoin and Ethereum and create a DataFrame of sentiment scores for each coin.\n",
    "\n",
    "Use descriptive statistics to answer the following questions:\n",
    "1. Which coin had the highest mean positive score?\n",
    "2. Which coin had the highest negative score?\n",
    "3. Which coin had the highest positive score?"
   ]
  },
  {
   "cell_type": "code",
   "execution_count": 1,
   "metadata": {},
   "outputs": [
    {
     "name": "stderr",
     "output_type": "stream",
     "text": [
      "[nltk_data] Downloading package vader_lexicon to\n",
      "[nltk_data]     C:\\Users\\erikl\\AppData\\Roaming\\nltk_data...\n",
      "[nltk_data]   Package vader_lexicon is already up-to-date!\n"
     ]
    }
   ],
   "source": [
    "# Initial imports\n",
    "import os\n",
    "import pandas as pd\n",
    "from dotenv import load_dotenv\n",
    "import re\n",
    "import string\n",
    "import nltk as nltk\n",
    "nltk.download('vader_lexicon')\n",
    "from nltk.sentiment.vader import SentimentIntensityAnalyzer\n",
    "analyzer = SentimentIntensityAnalyzer()\n",
    "from newsapi.newsapi_client import NewsApiClient\n",
    "from datetime import datetime, timedelta\n",
    "\n",
    "%matplotlib inline"
   ]
  },
  {
   "cell_type": "code",
   "execution_count": 2,
   "metadata": {},
   "outputs": [
    {
     "data": {
      "text/plain": [
       "True"
      ]
     },
     "execution_count": 2,
     "metadata": {},
     "output_type": "execute_result"
    }
   ],
   "source": [
    "load_dotenv()"
   ]
  },
  {
   "cell_type": "code",
   "execution_count": 3,
   "metadata": {},
   "outputs": [],
   "source": [
    "# Read your api key environment variable\n",
    "api_key = os.getenv('NEWS_API_KEY')"
   ]
  },
  {
   "cell_type": "code",
   "execution_count": 4,
   "metadata": {},
   "outputs": [
    {
     "data": {
      "text/plain": [
       "str"
      ]
     },
     "execution_count": 4,
     "metadata": {},
     "output_type": "execute_result"
    }
   ],
   "source": [
    "type(api_key)"
   ]
  },
  {
   "cell_type": "code",
   "execution_count": 5,
   "metadata": {
    "tags": []
   },
   "outputs": [],
   "source": [
    "# Create a newsapi client\n",
    "newsapi = NewsApiClient(api_key)"
   ]
  },
  {
   "cell_type": "code",
   "execution_count": 6,
   "metadata": {},
   "outputs": [
    {
     "data": {
      "text/plain": [
       "newsapi.newsapi_client.NewsApiClient"
      ]
     },
     "execution_count": 6,
     "metadata": {},
     "output_type": "execute_result"
    }
   ],
   "source": [
    "type(newsapi)"
   ]
  },
  {
   "cell_type": "code",
   "execution_count": 7,
   "metadata": {},
   "outputs": [
    {
     "data": {
      "text/plain": [
       "<newsapi.newsapi_client.NewsApiClient at 0x1f5d9cf8b88>"
      ]
     },
     "execution_count": 7,
     "metadata": {},
     "output_type": "execute_result"
    }
   ],
   "source": [
    "newsapi"
   ]
  },
  {
   "cell_type": "code",
   "execution_count": 8,
   "metadata": {},
   "outputs": [
    {
     "name": "stdout",
     "output_type": "stream",
     "text": [
      "2021-09-25T01:11:08.629439-04:00\n"
     ]
    }
   ],
   "source": [
    "# Find the Current Date Time\n",
    "current_date = pd.Timestamp(datetime.now(), tz=\"America/New_York\").isoformat()\n",
    "print(current_date)"
   ]
  },
  {
   "cell_type": "code",
   "execution_count": 9,
   "metadata": {},
   "outputs": [
    {
     "name": "stdout",
     "output_type": "stream",
     "text": [
      "2021-09-24T01:11:11.433209-04:00\n"
     ]
    }
   ],
   "source": [
    "# Find the Past Date from 24 hours ago\n",
    "past24hr_date = pd.Timestamp(datetime.now() - timedelta(hours=24), tz=\"America/New_York\").isoformat()\n",
    "print(past24hr_date)"
   ]
  },
  {
   "cell_type": "code",
   "execution_count": 10,
   "metadata": {},
   "outputs": [
    {
     "name": "stdout",
     "output_type": "stream",
     "text": [
      "2021-09-25 01:11:08\n"
     ]
    }
   ],
   "source": [
    "# Checking for the correct datetime format:\n",
    "test_date = datetime.strptime(current_date[:19], \"%Y-%m-%dT%H:%M:%S\")\n",
    "print(test_date)"
   ]
  },
  {
   "cell_type": "code",
   "execution_count": 11,
   "metadata": {},
   "outputs": [],
   "source": [
    "# Create a Function for Fetching News:\n",
    "def get_articles(keyword):\n",
    "    all_headlines = []\n",
    "    all_datetime=[]\n",
    "    all_descriptions=[]\n",
    "    all_urls=[]\n",
    "    all_content=[]\n",
    "    date = datetime.strptime(current_date[:19], \"%Y-%m-%dT%H:%M:%S\")\n",
    "    end_date = datetime.strptime(past24hr_date[:19], \"%Y-%m-%dT%H:%M:%S\")\n",
    "    print(f\"Fetching news about '{keyword}'\")\n",
    "    print(\"*\" * 30)\n",
    "    if date > end_date:\n",
    "        print(f\"retrieving news from: {date}\")\n",
    "        articles = newsapi.get_everything(\n",
    "            q=keyword,\n",
    "            from_param=str(end_date),\n",
    "            to=str(date),\n",
    "            language=\"en\",\n",
    "#             page_size=100,\n",
    "            sort_by=\"relevancy\",\n",
    "            page=1,\n",
    "            )\n",
    "#         headlines=[]\n",
    "        for i in range(0, len(articles[\"articles\"])):\n",
    "            all_headlines.append(articles[\"articles\"][i][\"title\"])\n",
    "            all_datetime.append(articles[\"articles\"][i][\"publishedAt\"])\n",
    "            all_descriptions.append(articles[\"articles\"][i][\"description\"])\n",
    "            all_urls.append(articles[\"articles\"][i][\"url\"])\n",
    "            all_content.append(articles[\"articles\"][i][\"content\"])\n",
    "    \n",
    "    article_df = pd.concat([pd.Series(all_headlines), pd.Series(all_datetime), pd.Series(all_urls), pd.Series(all_descriptions), pd.Series(all_content)], axis=1)\n",
    "    article_df.rename({0:'Headlines', 1:'Date_Time', 2:'URL', 3:'Description', 4:'Content'}, axis=1, inplace=True)\n",
    "    return article_df"
   ]
  },
  {
   "cell_type": "markdown",
   "metadata": {},
   "source": [
    "## Analyzing Bitcoin Sentiment:"
   ]
  },
  {
   "cell_type": "code",
   "execution_count": 12,
   "metadata": {},
   "outputs": [
    {
     "name": "stdout",
     "output_type": "stream",
     "text": [
      "Fetching news about 'bitcoin'\n",
      "******************************\n",
      "retrieving news from: 2021-09-25 01:11:08\n"
     ]
    }
   ],
   "source": [
    "# Fetch the Bitcoin news articles\n",
    "btc_articles_df = get_articles(\"bitcoin\")"
   ]
  },
  {
   "cell_type": "code",
   "execution_count": 13,
   "metadata": {},
   "outputs": [
    {
     "data": {
      "text/plain": [
       "(20, 5)"
      ]
     },
     "execution_count": 13,
     "metadata": {},
     "output_type": "execute_result"
    }
   ],
   "source": [
    "btc_articles_df.shape"
   ]
  },
  {
   "cell_type": "code",
   "execution_count": 47,
   "metadata": {},
   "outputs": [
    {
     "data": {
      "text/html": [
       "<div>\n",
       "<style scoped>\n",
       "    .dataframe tbody tr th:only-of-type {\n",
       "        vertical-align: middle;\n",
       "    }\n",
       "\n",
       "    .dataframe tbody tr th {\n",
       "        vertical-align: top;\n",
       "    }\n",
       "\n",
       "    .dataframe thead th {\n",
       "        text-align: right;\n",
       "    }\n",
       "</style>\n",
       "<table border=\"1\" class=\"dataframe\">\n",
       "  <thead>\n",
       "    <tr style=\"text-align: right;\">\n",
       "      <th></th>\n",
       "      <th>Headlines</th>\n",
       "      <th>Date_Time</th>\n",
       "      <th>URL</th>\n",
       "      <th>Description</th>\n",
       "      <th>Content</th>\n",
       "      <th>Compound Sentiment</th>\n",
       "      <th>Positive Sentiment</th>\n",
       "      <th>Neutral Sentiment</th>\n",
       "      <th>Negative Sentiment</th>\n",
       "    </tr>\n",
       "  </thead>\n",
       "  <tbody>\n",
       "    <tr>\n",
       "      <th>0</th>\n",
       "      <td>China’s central bank bans cryptocurrency trans...</td>\n",
       "      <td>2021-09-24T16:22:55Z</td>\n",
       "      <td>https://www.theverge.com/2021/9/24/22691472/ch...</td>\n",
       "      <td>China’s central bank on Friday said cryptocurr...</td>\n",
       "      <td>Its the countrys latest crackdown on digital c...</td>\n",
       "      <td>-0.3549</td>\n",
       "      <td>0.070</td>\n",
       "      <td>0.789</td>\n",
       "      <td>0.140</td>\n",
       "    </tr>\n",
       "    <tr>\n",
       "      <th>1</th>\n",
       "      <td>Twitter will allow people to tip their favorit...</td>\n",
       "      <td>2021-09-24T12:14:00Z</td>\n",
       "      <td>https://techncruncher.blogspot.com/2021/09/twi...</td>\n",
       "      <td>Twitter will now allow people to tip their fav...</td>\n",
       "      <td>Twitter will now allow people to tip their fav...</td>\n",
       "      <td>0.7351</td>\n",
       "      <td>0.146</td>\n",
       "      <td>0.827</td>\n",
       "      <td>0.027</td>\n",
       "    </tr>\n",
       "    <tr>\n",
       "      <th>2</th>\n",
       "      <td>Old coal plant is now mining bitcoin for a uti...</td>\n",
       "      <td>2021-09-24T20:30:09Z</td>\n",
       "      <td>https://arstechnica.com/tech-policy/2021/09/ol...</td>\n",
       "      <td>Bitcoin is breathing new life into another ail...</td>\n",
       "      <td>19 with 16 posters participating\\r\\nBitcoins m...</td>\n",
       "      <td>0.0000</td>\n",
       "      <td>0.000</td>\n",
       "      <td>1.000</td>\n",
       "      <td>0.000</td>\n",
       "    </tr>\n",
       "    <tr>\n",
       "      <th>3</th>\n",
       "      <td>Marathon Digital and other crypto-linked stock...</td>\n",
       "      <td>2021-09-24T13:58:00Z</td>\n",
       "      <td>https://markets.businessinsider.com/news/stock...</td>\n",
       "      <td>China says bitcoin and ether cannot be used as...</td>\n",
       "      <td>Bitcoin\\r\\nDan Kitwood/ Getty Images\\r\\nShares...</td>\n",
       "      <td>-0.2960</td>\n",
       "      <td>0.000</td>\n",
       "      <td>0.901</td>\n",
       "      <td>0.099</td>\n",
       "    </tr>\n",
       "    <tr>\n",
       "      <th>4</th>\n",
       "      <td>Bitcoin dumps after Chinese condemnation | Kit...</td>\n",
       "      <td>2021-09-24T10:14:00Z</td>\n",
       "      <td>https://www.kitco.com/news/2021-09-24/Bitcoin-...</td>\n",
       "      <td>&lt;ol&gt;&lt;li&gt;Bitcoin dumps after Chinese condemnati...</td>\n",
       "      <td>Editor's Note: With so much market volatility,...</td>\n",
       "      <td>-0.9022</td>\n",
       "      <td>0.000</td>\n",
       "      <td>0.706</td>\n",
       "      <td>0.294</td>\n",
       "    </tr>\n",
       "  </tbody>\n",
       "</table>\n",
       "</div>"
      ],
      "text/plain": [
       "                                           Headlines             Date_Time  \\\n",
       "0  China’s central bank bans cryptocurrency trans...  2021-09-24T16:22:55Z   \n",
       "1  Twitter will allow people to tip their favorit...  2021-09-24T12:14:00Z   \n",
       "2  Old coal plant is now mining bitcoin for a uti...  2021-09-24T20:30:09Z   \n",
       "3  Marathon Digital and other crypto-linked stock...  2021-09-24T13:58:00Z   \n",
       "4  Bitcoin dumps after Chinese condemnation | Kit...  2021-09-24T10:14:00Z   \n",
       "\n",
       "                                                 URL  \\\n",
       "0  https://www.theverge.com/2021/9/24/22691472/ch...   \n",
       "1  https://techncruncher.blogspot.com/2021/09/twi...   \n",
       "2  https://arstechnica.com/tech-policy/2021/09/ol...   \n",
       "3  https://markets.businessinsider.com/news/stock...   \n",
       "4  https://www.kitco.com/news/2021-09-24/Bitcoin-...   \n",
       "\n",
       "                                         Description  \\\n",
       "0  China’s central bank on Friday said cryptocurr...   \n",
       "1  Twitter will now allow people to tip their fav...   \n",
       "2  Bitcoin is breathing new life into another ail...   \n",
       "3  China says bitcoin and ether cannot be used as...   \n",
       "4  <ol><li>Bitcoin dumps after Chinese condemnati...   \n",
       "\n",
       "                                             Content  Compound Sentiment  \\\n",
       "0  Its the countrys latest crackdown on digital c...             -0.3549   \n",
       "1  Twitter will now allow people to tip their fav...              0.7351   \n",
       "2  19 with 16 posters participating\\r\\nBitcoins m...              0.0000   \n",
       "3  Bitcoin\\r\\nDan Kitwood/ Getty Images\\r\\nShares...             -0.2960   \n",
       "4  Editor's Note: With so much market volatility,...             -0.9022   \n",
       "\n",
       "   Positive Sentiment  Neutral Sentiment  Negative Sentiment  \n",
       "0               0.070              0.789               0.140  \n",
       "1               0.146              0.827               0.027  \n",
       "2               0.000              1.000               0.000  \n",
       "3               0.000              0.901               0.099  \n",
       "4               0.000              0.706               0.294  "
      ]
     },
     "execution_count": 47,
     "metadata": {},
     "output_type": "execute_result"
    }
   ],
   "source": [
    "btc_articles_df.head()"
   ]
  },
  {
   "cell_type": "code",
   "execution_count": 15,
   "metadata": {
    "tags": []
   },
   "outputs": [
    {
     "data": {
      "text/plain": [
       "'Its the countrys latest crackdown on digital currencies\\r\\nIllustration by Alex Castro / The Verge\\r\\nThe Peoples Bank of China, the countrys central bank, said Friday that cryptocurrency transactions ar… [+1461 chars]'"
      ]
     },
     "execution_count": 15,
     "metadata": {},
     "output_type": "execute_result"
    }
   ],
   "source": [
    "btc_articles_df.loc[0]['Content']"
   ]
  },
  {
   "cell_type": "code",
   "execution_count": 16,
   "metadata": {},
   "outputs": [
    {
     "data": {
      "text/plain": [
       "'China’s central bank on Friday said cryptocurrency transactions in the country are illegal, banning all transactions. It said cryptocurrencies like bitcoin and Ethereum are not legal tender and can’t be circulated.'"
      ]
     },
     "execution_count": 16,
     "metadata": {},
     "output_type": "execute_result"
    }
   ],
   "source": [
    "btc_articles_df.loc[0]['Description']"
   ]
  },
  {
   "cell_type": "code",
   "execution_count": 17,
   "metadata": {},
   "outputs": [
    {
     "data": {
      "text/plain": [
       "'China’s central bank bans cryptocurrency transactions to avoid ‘risks’'"
      ]
     },
     "execution_count": 17,
     "metadata": {},
     "output_type": "execute_result"
    }
   ],
   "source": [
    "btc_articles_df.loc[0]['Headlines']"
   ]
  },
  {
   "cell_type": "code",
   "execution_count": 18,
   "metadata": {},
   "outputs": [
    {
     "data": {
      "text/plain": [
       "'Bitcoin\\r\\nDan Kitwood/ Getty Images\\r\\nShares of bitcoin miners and other stocks tied to the cryptocurrency space slid Friday after China said all crypto-related transactions are illegal, with the count… [+1677 chars]'"
      ]
     },
     "execution_count": 18,
     "metadata": {},
     "output_type": "execute_result"
    }
   ],
   "source": [
    "btc_articles_df.loc[3]['Content']"
   ]
  },
  {
   "cell_type": "code",
   "execution_count": 19,
   "metadata": {},
   "outputs": [
    {
     "data": {
      "text/plain": [
       "\"China says bitcoin and ether cannot be used as currency in the world's second-largest economy, sending bitcoin and crypto-linked stocks lower.\""
      ]
     },
     "execution_count": 19,
     "metadata": {},
     "output_type": "execute_result"
    }
   ],
   "source": [
    "btc_articles_df.loc[3]['Description']"
   ]
  },
  {
   "cell_type": "code",
   "execution_count": 20,
   "metadata": {},
   "outputs": [
    {
     "data": {
      "text/plain": [
       "'Marathon Digital and other crypto-linked stocks drop after China declares cryptocurrency transactions illegal'"
      ]
     },
     "execution_count": 20,
     "metadata": {},
     "output_type": "execute_result"
    }
   ],
   "source": [
    "btc_articles_df.loc[3]['Headlines']"
   ]
  },
  {
   "cell_type": "markdown",
   "metadata": {},
   "source": [
    "### Clean the Text:"
   ]
  },
  {
   "cell_type": "code",
   "execution_count": 21,
   "metadata": {},
   "outputs": [],
   "source": [
    "def clean_text(text):\n",
    "#     regex = re.compile('[%s]' % re.escape(string.punctuation))\n",
    "    regex = re.compile(\"[^a-zA-Z ]\")\n",
    "    re_clean = regex.sub('', text)\n",
    "    return re_clean"
   ]
  },
  {
   "cell_type": "code",
   "execution_count": 22,
   "metadata": {},
   "outputs": [],
   "source": [
    "test_clean = clean_text(btc_articles_df.loc[3]['Description'])"
   ]
  },
  {
   "cell_type": "code",
   "execution_count": 23,
   "metadata": {},
   "outputs": [
    {
     "data": {
      "text/plain": [
       "str"
      ]
     },
     "execution_count": 23,
     "metadata": {},
     "output_type": "execute_result"
    }
   ],
   "source": [
    "type(test_clean)"
   ]
  },
  {
   "cell_type": "code",
   "execution_count": 24,
   "metadata": {},
   "outputs": [
    {
     "data": {
      "text/plain": [
       "'China says bitcoin and ether cannot be used as currency in the worlds secondlargest economy sending bitcoin and cryptolinked stocks lower'"
      ]
     },
     "execution_count": 24,
     "metadata": {},
     "output_type": "execute_result"
    }
   ],
   "source": [
    "test_clean"
   ]
  },
  {
   "cell_type": "code",
   "execution_count": 25,
   "metadata": {},
   "outputs": [],
   "source": [
    "# Lambda function of \"clean_text()\" for use with apply\n",
    "text_cleaner = lambda x: clean_text(x)"
   ]
  },
  {
   "cell_type": "code",
   "execution_count": 26,
   "metadata": {},
   "outputs": [
    {
     "data": {
      "text/html": [
       "<div>\n",
       "<style scoped>\n",
       "    .dataframe tbody tr th:only-of-type {\n",
       "        vertical-align: middle;\n",
       "    }\n",
       "\n",
       "    .dataframe tbody tr th {\n",
       "        vertical-align: top;\n",
       "    }\n",
       "\n",
       "    .dataframe thead th {\n",
       "        text-align: right;\n",
       "    }\n",
       "</style>\n",
       "<table border=\"1\" class=\"dataframe\">\n",
       "  <thead>\n",
       "    <tr style=\"text-align: right;\">\n",
       "      <th></th>\n",
       "      <th>Description</th>\n",
       "    </tr>\n",
       "  </thead>\n",
       "  <tbody>\n",
       "    <tr>\n",
       "      <th>0</th>\n",
       "      <td>Chinas central bank on Friday said cryptocurre...</td>\n",
       "    </tr>\n",
       "    <tr>\n",
       "      <th>1</th>\n",
       "      <td>Twitter will now allow people to tip their fav...</td>\n",
       "    </tr>\n",
       "    <tr>\n",
       "      <th>2</th>\n",
       "      <td>Bitcoin is breathing new life into another ail...</td>\n",
       "    </tr>\n",
       "    <tr>\n",
       "      <th>3</th>\n",
       "      <td>China says bitcoin and ether cannot be used as...</td>\n",
       "    </tr>\n",
       "    <tr>\n",
       "      <th>4</th>\n",
       "      <td>olliBitcoin dumps after Chinese condemnation  ...</td>\n",
       "    </tr>\n",
       "    <tr>\n",
       "      <th>5</th>\n",
       "      <td>Bitcoin fell nearly  on Friday after Chinas ce...</td>\n",
       "    </tr>\n",
       "    <tr>\n",
       "      <th>6</th>\n",
       "      <td>Chinas hostility towards crypto stretches back...</td>\n",
       "    </tr>\n",
       "    <tr>\n",
       "      <th>7</th>\n",
       "      <td>Chinas moves to crack down on bitcoin trading ...</td>\n",
       "    </tr>\n",
       "    <tr>\n",
       "      <th>8</th>\n",
       "      <td>The Central Bank of China announced that it wi...</td>\n",
       "    </tr>\n",
       "    <tr>\n",
       "      <th>9</th>\n",
       "      <td>Central bank says all crypto currencies includ...</td>\n",
       "    </tr>\n",
       "    <tr>\n",
       "      <th>10</th>\n",
       "      <td>iOS users will get the feature first followed ...</td>\n",
       "    </tr>\n",
       "    <tr>\n",
       "      <th>11</th>\n",
       "      <td>Did you know Hard Fork is taking the stage on ...</td>\n",
       "    </tr>\n",
       "    <tr>\n",
       "      <th>12</th>\n",
       "      <td>Chinas central bank vowed on Friday to crack d...</td>\n",
       "    </tr>\n",
       "    <tr>\n",
       "      <th>13</th>\n",
       "      <td>Chinas central bank vowed on Friday to crack d...</td>\n",
       "    </tr>\n",
       "    <tr>\n",
       "      <th>14</th>\n",
       "      <td>Bitcoin Ethereum and others dipped on Friday a...</td>\n",
       "    </tr>\n",
       "    <tr>\n",
       "      <th>15</th>\n",
       "      <td>The Peoples Bank of China stated that all cryp...</td>\n",
       "    </tr>\n",
       "    <tr>\n",
       "      <th>16</th>\n",
       "      <td>Some cryptocurrencies are down over  since the...</td>\n",
       "    </tr>\n",
       "    <tr>\n",
       "      <th>17</th>\n",
       "      <td>Chinas central bank has declared all transacti...</td>\n",
       "    </tr>\n",
       "    <tr>\n",
       "      <th>18</th>\n",
       "      <td>The Peoples Bank of China has declared all cry...</td>\n",
       "    </tr>\n",
       "    <tr>\n",
       "      <th>19</th>\n",
       "      <td>The dollar was on track for its biggest daily ...</td>\n",
       "    </tr>\n",
       "  </tbody>\n",
       "</table>\n",
       "</div>"
      ],
      "text/plain": [
       "                                          Description\n",
       "0   Chinas central bank on Friday said cryptocurre...\n",
       "1   Twitter will now allow people to tip their fav...\n",
       "2   Bitcoin is breathing new life into another ail...\n",
       "3   China says bitcoin and ether cannot be used as...\n",
       "4   olliBitcoin dumps after Chinese condemnation  ...\n",
       "5   Bitcoin fell nearly  on Friday after Chinas ce...\n",
       "6   Chinas hostility towards crypto stretches back...\n",
       "7   Chinas moves to crack down on bitcoin trading ...\n",
       "8   The Central Bank of China announced that it wi...\n",
       "9   Central bank says all crypto currencies includ...\n",
       "10  iOS users will get the feature first followed ...\n",
       "11  Did you know Hard Fork is taking the stage on ...\n",
       "12  Chinas central bank vowed on Friday to crack d...\n",
       "13  Chinas central bank vowed on Friday to crack d...\n",
       "14  Bitcoin Ethereum and others dipped on Friday a...\n",
       "15  The Peoples Bank of China stated that all cryp...\n",
       "16  Some cryptocurrencies are down over  since the...\n",
       "17  Chinas central bank has declared all transacti...\n",
       "18  The Peoples Bank of China has declared all cry...\n",
       "19  The dollar was on track for its biggest daily ..."
      ]
     },
     "execution_count": 26,
     "metadata": {},
     "output_type": "execute_result"
    }
   ],
   "source": [
    "# Review updated text:\n",
    "btc_clean = pd.DataFrame(btc_articles_df['Description'].apply(text_cleaner))\n",
    "btc_clean"
   ]
  },
  {
   "cell_type": "code",
   "execution_count": 30,
   "metadata": {},
   "outputs": [],
   "source": []
  },
  {
   "cell_type": "code",
   "execution_count": 48,
   "metadata": {},
   "outputs": [],
   "source": [
    "# Function to get compound sentiments\n",
    "def get_compound_sentiment(content):\n",
    "    sentiment = analyzer.polarity_scores(content)\n",
    "    compound = sentiment[\"compound\"]\n",
    "    return compound\n",
    "get_compoundScore = lambda x: get_compound_sentiment(x)"
   ]
  },
  {
   "cell_type": "code",
   "execution_count": 49,
   "metadata": {},
   "outputs": [
    {
     "data": {
      "text/html": [
       "<div>\n",
       "<style scoped>\n",
       "    .dataframe tbody tr th:only-of-type {\n",
       "        vertical-align: middle;\n",
       "    }\n",
       "\n",
       "    .dataframe tbody tr th {\n",
       "        vertical-align: top;\n",
       "    }\n",
       "\n",
       "    .dataframe thead th {\n",
       "        text-align: right;\n",
       "    }\n",
       "</style>\n",
       "<table border=\"1\" class=\"dataframe\">\n",
       "  <thead>\n",
       "    <tr style=\"text-align: right;\">\n",
       "      <th></th>\n",
       "      <th>Headlines</th>\n",
       "      <th>Date_Time</th>\n",
       "      <th>URL</th>\n",
       "      <th>Description</th>\n",
       "      <th>Content</th>\n",
       "      <th>Compound Sentiment</th>\n",
       "      <th>Positive Sentiment</th>\n",
       "      <th>Neutral Sentiment</th>\n",
       "      <th>Negative Sentiment</th>\n",
       "    </tr>\n",
       "  </thead>\n",
       "  <tbody>\n",
       "    <tr>\n",
       "      <th>0</th>\n",
       "      <td>China’s central bank bans cryptocurrency trans...</td>\n",
       "      <td>2021-09-24T16:22:55Z</td>\n",
       "      <td>https://www.theverge.com/2021/9/24/22691472/ch...</td>\n",
       "      <td>China’s central bank on Friday said cryptocurr...</td>\n",
       "      <td>Its the countrys latest crackdown on digital c...</td>\n",
       "      <td>-0.3549</td>\n",
       "      <td>0.070</td>\n",
       "      <td>0.789</td>\n",
       "      <td>0.140</td>\n",
       "    </tr>\n",
       "    <tr>\n",
       "      <th>1</th>\n",
       "      <td>Twitter will allow people to tip their favorit...</td>\n",
       "      <td>2021-09-24T12:14:00Z</td>\n",
       "      <td>https://techncruncher.blogspot.com/2021/09/twi...</td>\n",
       "      <td>Twitter will now allow people to tip their fav...</td>\n",
       "      <td>Twitter will now allow people to tip their fav...</td>\n",
       "      <td>0.7351</td>\n",
       "      <td>0.146</td>\n",
       "      <td>0.827</td>\n",
       "      <td>0.027</td>\n",
       "    </tr>\n",
       "    <tr>\n",
       "      <th>2</th>\n",
       "      <td>Old coal plant is now mining bitcoin for a uti...</td>\n",
       "      <td>2021-09-24T20:30:09Z</td>\n",
       "      <td>https://arstechnica.com/tech-policy/2021/09/ol...</td>\n",
       "      <td>Bitcoin is breathing new life into another ail...</td>\n",
       "      <td>19 with 16 posters participating\\r\\nBitcoins m...</td>\n",
       "      <td>0.0000</td>\n",
       "      <td>0.000</td>\n",
       "      <td>1.000</td>\n",
       "      <td>0.000</td>\n",
       "    </tr>\n",
       "    <tr>\n",
       "      <th>3</th>\n",
       "      <td>Marathon Digital and other crypto-linked stock...</td>\n",
       "      <td>2021-09-24T13:58:00Z</td>\n",
       "      <td>https://markets.businessinsider.com/news/stock...</td>\n",
       "      <td>China says bitcoin and ether cannot be used as...</td>\n",
       "      <td>Bitcoin\\r\\nDan Kitwood/ Getty Images\\r\\nShares...</td>\n",
       "      <td>-0.2960</td>\n",
       "      <td>0.000</td>\n",
       "      <td>0.901</td>\n",
       "      <td>0.099</td>\n",
       "    </tr>\n",
       "    <tr>\n",
       "      <th>4</th>\n",
       "      <td>Bitcoin dumps after Chinese condemnation | Kit...</td>\n",
       "      <td>2021-09-24T10:14:00Z</td>\n",
       "      <td>https://www.kitco.com/news/2021-09-24/Bitcoin-...</td>\n",
       "      <td>&lt;ol&gt;&lt;li&gt;Bitcoin dumps after Chinese condemnati...</td>\n",
       "      <td>Editor's Note: With so much market volatility,...</td>\n",
       "      <td>-0.9022</td>\n",
       "      <td>0.000</td>\n",
       "      <td>0.706</td>\n",
       "      <td>0.294</td>\n",
       "    </tr>\n",
       "  </tbody>\n",
       "</table>\n",
       "</div>"
      ],
      "text/plain": [
       "                                           Headlines             Date_Time  \\\n",
       "0  China’s central bank bans cryptocurrency trans...  2021-09-24T16:22:55Z   \n",
       "1  Twitter will allow people to tip their favorit...  2021-09-24T12:14:00Z   \n",
       "2  Old coal plant is now mining bitcoin for a uti...  2021-09-24T20:30:09Z   \n",
       "3  Marathon Digital and other crypto-linked stock...  2021-09-24T13:58:00Z   \n",
       "4  Bitcoin dumps after Chinese condemnation | Kit...  2021-09-24T10:14:00Z   \n",
       "\n",
       "                                                 URL  \\\n",
       "0  https://www.theverge.com/2021/9/24/22691472/ch...   \n",
       "1  https://techncruncher.blogspot.com/2021/09/twi...   \n",
       "2  https://arstechnica.com/tech-policy/2021/09/ol...   \n",
       "3  https://markets.businessinsider.com/news/stock...   \n",
       "4  https://www.kitco.com/news/2021-09-24/Bitcoin-...   \n",
       "\n",
       "                                         Description  \\\n",
       "0  China’s central bank on Friday said cryptocurr...   \n",
       "1  Twitter will now allow people to tip their fav...   \n",
       "2  Bitcoin is breathing new life into another ail...   \n",
       "3  China says bitcoin and ether cannot be used as...   \n",
       "4  <ol><li>Bitcoin dumps after Chinese condemnati...   \n",
       "\n",
       "                                             Content  Compound Sentiment  \\\n",
       "0  Its the countrys latest crackdown on digital c...             -0.3549   \n",
       "1  Twitter will now allow people to tip their fav...              0.7351   \n",
       "2  19 with 16 posters participating\\r\\nBitcoins m...              0.0000   \n",
       "3  Bitcoin\\r\\nDan Kitwood/ Getty Images\\r\\nShares...             -0.2960   \n",
       "4  Editor's Note: With so much market volatility,...             -0.9022   \n",
       "\n",
       "   Positive Sentiment  Neutral Sentiment  Negative Sentiment  \n",
       "0               0.070              0.789               0.140  \n",
       "1               0.146              0.827               0.027  \n",
       "2               0.000              1.000               0.000  \n",
       "3               0.000              0.901               0.099  \n",
       "4               0.000              0.706               0.294  "
      ]
     },
     "execution_count": 49,
     "metadata": {},
     "output_type": "execute_result"
    }
   ],
   "source": [
    "btc_articles_df['Compound Sentiment'] = btc_articles_df['Description'].apply(get_compoundScore)\n",
    "btc_articles_df.head()"
   ]
  },
  {
   "cell_type": "code",
   "execution_count": 50,
   "metadata": {},
   "outputs": [],
   "source": [
    "# Function to get positive sentiments\n",
    "def get_positive_sentiment(content):\n",
    "    sentiment = analyzer.polarity_scores(content)\n",
    "    positive = sentiment[\"pos\"]\n",
    "    return positive\n",
    "get_positiveScore = lambda x: get_positive_sentiment(x)"
   ]
  },
  {
   "cell_type": "code",
   "execution_count": 51,
   "metadata": {},
   "outputs": [
    {
     "data": {
      "text/html": [
       "<div>\n",
       "<style scoped>\n",
       "    .dataframe tbody tr th:only-of-type {\n",
       "        vertical-align: middle;\n",
       "    }\n",
       "\n",
       "    .dataframe tbody tr th {\n",
       "        vertical-align: top;\n",
       "    }\n",
       "\n",
       "    .dataframe thead th {\n",
       "        text-align: right;\n",
       "    }\n",
       "</style>\n",
       "<table border=\"1\" class=\"dataframe\">\n",
       "  <thead>\n",
       "    <tr style=\"text-align: right;\">\n",
       "      <th></th>\n",
       "      <th>Headlines</th>\n",
       "      <th>Date_Time</th>\n",
       "      <th>URL</th>\n",
       "      <th>Description</th>\n",
       "      <th>Content</th>\n",
       "      <th>Compound Sentiment</th>\n",
       "      <th>Positive Sentiment</th>\n",
       "      <th>Neutral Sentiment</th>\n",
       "      <th>Negative Sentiment</th>\n",
       "    </tr>\n",
       "  </thead>\n",
       "  <tbody>\n",
       "    <tr>\n",
       "      <th>0</th>\n",
       "      <td>China’s central bank bans cryptocurrency trans...</td>\n",
       "      <td>2021-09-24T16:22:55Z</td>\n",
       "      <td>https://www.theverge.com/2021/9/24/22691472/ch...</td>\n",
       "      <td>China’s central bank on Friday said cryptocurr...</td>\n",
       "      <td>Its the countrys latest crackdown on digital c...</td>\n",
       "      <td>-0.3549</td>\n",
       "      <td>0.070</td>\n",
       "      <td>0.789</td>\n",
       "      <td>0.140</td>\n",
       "    </tr>\n",
       "    <tr>\n",
       "      <th>1</th>\n",
       "      <td>Twitter will allow people to tip their favorit...</td>\n",
       "      <td>2021-09-24T12:14:00Z</td>\n",
       "      <td>https://techncruncher.blogspot.com/2021/09/twi...</td>\n",
       "      <td>Twitter will now allow people to tip their fav...</td>\n",
       "      <td>Twitter will now allow people to tip their fav...</td>\n",
       "      <td>0.7351</td>\n",
       "      <td>0.146</td>\n",
       "      <td>0.827</td>\n",
       "      <td>0.027</td>\n",
       "    </tr>\n",
       "    <tr>\n",
       "      <th>2</th>\n",
       "      <td>Old coal plant is now mining bitcoin for a uti...</td>\n",
       "      <td>2021-09-24T20:30:09Z</td>\n",
       "      <td>https://arstechnica.com/tech-policy/2021/09/ol...</td>\n",
       "      <td>Bitcoin is breathing new life into another ail...</td>\n",
       "      <td>19 with 16 posters participating\\r\\nBitcoins m...</td>\n",
       "      <td>0.0000</td>\n",
       "      <td>0.000</td>\n",
       "      <td>1.000</td>\n",
       "      <td>0.000</td>\n",
       "    </tr>\n",
       "    <tr>\n",
       "      <th>3</th>\n",
       "      <td>Marathon Digital and other crypto-linked stock...</td>\n",
       "      <td>2021-09-24T13:58:00Z</td>\n",
       "      <td>https://markets.businessinsider.com/news/stock...</td>\n",
       "      <td>China says bitcoin and ether cannot be used as...</td>\n",
       "      <td>Bitcoin\\r\\nDan Kitwood/ Getty Images\\r\\nShares...</td>\n",
       "      <td>-0.2960</td>\n",
       "      <td>0.000</td>\n",
       "      <td>0.901</td>\n",
       "      <td>0.099</td>\n",
       "    </tr>\n",
       "    <tr>\n",
       "      <th>4</th>\n",
       "      <td>Bitcoin dumps after Chinese condemnation | Kit...</td>\n",
       "      <td>2021-09-24T10:14:00Z</td>\n",
       "      <td>https://www.kitco.com/news/2021-09-24/Bitcoin-...</td>\n",
       "      <td>&lt;ol&gt;&lt;li&gt;Bitcoin dumps after Chinese condemnati...</td>\n",
       "      <td>Editor's Note: With so much market volatility,...</td>\n",
       "      <td>-0.9022</td>\n",
       "      <td>0.000</td>\n",
       "      <td>0.706</td>\n",
       "      <td>0.294</td>\n",
       "    </tr>\n",
       "  </tbody>\n",
       "</table>\n",
       "</div>"
      ],
      "text/plain": [
       "                                           Headlines             Date_Time  \\\n",
       "0  China’s central bank bans cryptocurrency trans...  2021-09-24T16:22:55Z   \n",
       "1  Twitter will allow people to tip their favorit...  2021-09-24T12:14:00Z   \n",
       "2  Old coal plant is now mining bitcoin for a uti...  2021-09-24T20:30:09Z   \n",
       "3  Marathon Digital and other crypto-linked stock...  2021-09-24T13:58:00Z   \n",
       "4  Bitcoin dumps after Chinese condemnation | Kit...  2021-09-24T10:14:00Z   \n",
       "\n",
       "                                                 URL  \\\n",
       "0  https://www.theverge.com/2021/9/24/22691472/ch...   \n",
       "1  https://techncruncher.blogspot.com/2021/09/twi...   \n",
       "2  https://arstechnica.com/tech-policy/2021/09/ol...   \n",
       "3  https://markets.businessinsider.com/news/stock...   \n",
       "4  https://www.kitco.com/news/2021-09-24/Bitcoin-...   \n",
       "\n",
       "                                         Description  \\\n",
       "0  China’s central bank on Friday said cryptocurr...   \n",
       "1  Twitter will now allow people to tip their fav...   \n",
       "2  Bitcoin is breathing new life into another ail...   \n",
       "3  China says bitcoin and ether cannot be used as...   \n",
       "4  <ol><li>Bitcoin dumps after Chinese condemnati...   \n",
       "\n",
       "                                             Content  Compound Sentiment  \\\n",
       "0  Its the countrys latest crackdown on digital c...             -0.3549   \n",
       "1  Twitter will now allow people to tip their fav...              0.7351   \n",
       "2  19 with 16 posters participating\\r\\nBitcoins m...              0.0000   \n",
       "3  Bitcoin\\r\\nDan Kitwood/ Getty Images\\r\\nShares...             -0.2960   \n",
       "4  Editor's Note: With so much market volatility,...             -0.9022   \n",
       "\n",
       "   Positive Sentiment  Neutral Sentiment  Negative Sentiment  \n",
       "0               0.070              0.789               0.140  \n",
       "1               0.146              0.827               0.027  \n",
       "2               0.000              1.000               0.000  \n",
       "3               0.000              0.901               0.099  \n",
       "4               0.000              0.706               0.294  "
      ]
     },
     "execution_count": 51,
     "metadata": {},
     "output_type": "execute_result"
    }
   ],
   "source": [
    "btc_articles_df['Positive Sentiment'] = btc_articles_df['Description'].apply(get_positiveScore)\n",
    "btc_articles_df.head()"
   ]
  },
  {
   "cell_type": "code",
   "execution_count": 52,
   "metadata": {},
   "outputs": [],
   "source": [
    "# Function to get neutral sentiments\n",
    "def get_neutral_sentiment(content):\n",
    "    sentiment = analyzer.polarity_scores(content)\n",
    "    neutral = sentiment[\"neu\"]\n",
    "    return neutral\n",
    "get_neutralScore = lambda x: get_neutral_sentiment(x)"
   ]
  },
  {
   "cell_type": "code",
   "execution_count": 53,
   "metadata": {},
   "outputs": [
    {
     "data": {
      "text/html": [
       "<div>\n",
       "<style scoped>\n",
       "    .dataframe tbody tr th:only-of-type {\n",
       "        vertical-align: middle;\n",
       "    }\n",
       "\n",
       "    .dataframe tbody tr th {\n",
       "        vertical-align: top;\n",
       "    }\n",
       "\n",
       "    .dataframe thead th {\n",
       "        text-align: right;\n",
       "    }\n",
       "</style>\n",
       "<table border=\"1\" class=\"dataframe\">\n",
       "  <thead>\n",
       "    <tr style=\"text-align: right;\">\n",
       "      <th></th>\n",
       "      <th>Headlines</th>\n",
       "      <th>Date_Time</th>\n",
       "      <th>URL</th>\n",
       "      <th>Description</th>\n",
       "      <th>Content</th>\n",
       "      <th>Compound Sentiment</th>\n",
       "      <th>Positive Sentiment</th>\n",
       "      <th>Neutral Sentiment</th>\n",
       "      <th>Negative Sentiment</th>\n",
       "    </tr>\n",
       "  </thead>\n",
       "  <tbody>\n",
       "    <tr>\n",
       "      <th>0</th>\n",
       "      <td>China’s central bank bans cryptocurrency trans...</td>\n",
       "      <td>2021-09-24T16:22:55Z</td>\n",
       "      <td>https://www.theverge.com/2021/9/24/22691472/ch...</td>\n",
       "      <td>China’s central bank on Friday said cryptocurr...</td>\n",
       "      <td>Its the countrys latest crackdown on digital c...</td>\n",
       "      <td>-0.3549</td>\n",
       "      <td>0.070</td>\n",
       "      <td>0.789</td>\n",
       "      <td>0.140</td>\n",
       "    </tr>\n",
       "    <tr>\n",
       "      <th>1</th>\n",
       "      <td>Twitter will allow people to tip their favorit...</td>\n",
       "      <td>2021-09-24T12:14:00Z</td>\n",
       "      <td>https://techncruncher.blogspot.com/2021/09/twi...</td>\n",
       "      <td>Twitter will now allow people to tip their fav...</td>\n",
       "      <td>Twitter will now allow people to tip their fav...</td>\n",
       "      <td>0.7351</td>\n",
       "      <td>0.146</td>\n",
       "      <td>0.827</td>\n",
       "      <td>0.027</td>\n",
       "    </tr>\n",
       "    <tr>\n",
       "      <th>2</th>\n",
       "      <td>Old coal plant is now mining bitcoin for a uti...</td>\n",
       "      <td>2021-09-24T20:30:09Z</td>\n",
       "      <td>https://arstechnica.com/tech-policy/2021/09/ol...</td>\n",
       "      <td>Bitcoin is breathing new life into another ail...</td>\n",
       "      <td>19 with 16 posters participating\\r\\nBitcoins m...</td>\n",
       "      <td>0.0000</td>\n",
       "      <td>0.000</td>\n",
       "      <td>1.000</td>\n",
       "      <td>0.000</td>\n",
       "    </tr>\n",
       "    <tr>\n",
       "      <th>3</th>\n",
       "      <td>Marathon Digital and other crypto-linked stock...</td>\n",
       "      <td>2021-09-24T13:58:00Z</td>\n",
       "      <td>https://markets.businessinsider.com/news/stock...</td>\n",
       "      <td>China says bitcoin and ether cannot be used as...</td>\n",
       "      <td>Bitcoin\\r\\nDan Kitwood/ Getty Images\\r\\nShares...</td>\n",
       "      <td>-0.2960</td>\n",
       "      <td>0.000</td>\n",
       "      <td>0.901</td>\n",
       "      <td>0.099</td>\n",
       "    </tr>\n",
       "    <tr>\n",
       "      <th>4</th>\n",
       "      <td>Bitcoin dumps after Chinese condemnation | Kit...</td>\n",
       "      <td>2021-09-24T10:14:00Z</td>\n",
       "      <td>https://www.kitco.com/news/2021-09-24/Bitcoin-...</td>\n",
       "      <td>&lt;ol&gt;&lt;li&gt;Bitcoin dumps after Chinese condemnati...</td>\n",
       "      <td>Editor's Note: With so much market volatility,...</td>\n",
       "      <td>-0.9022</td>\n",
       "      <td>0.000</td>\n",
       "      <td>0.706</td>\n",
       "      <td>0.294</td>\n",
       "    </tr>\n",
       "  </tbody>\n",
       "</table>\n",
       "</div>"
      ],
      "text/plain": [
       "                                           Headlines             Date_Time  \\\n",
       "0  China’s central bank bans cryptocurrency trans...  2021-09-24T16:22:55Z   \n",
       "1  Twitter will allow people to tip their favorit...  2021-09-24T12:14:00Z   \n",
       "2  Old coal plant is now mining bitcoin for a uti...  2021-09-24T20:30:09Z   \n",
       "3  Marathon Digital and other crypto-linked stock...  2021-09-24T13:58:00Z   \n",
       "4  Bitcoin dumps after Chinese condemnation | Kit...  2021-09-24T10:14:00Z   \n",
       "\n",
       "                                                 URL  \\\n",
       "0  https://www.theverge.com/2021/9/24/22691472/ch...   \n",
       "1  https://techncruncher.blogspot.com/2021/09/twi...   \n",
       "2  https://arstechnica.com/tech-policy/2021/09/ol...   \n",
       "3  https://markets.businessinsider.com/news/stock...   \n",
       "4  https://www.kitco.com/news/2021-09-24/Bitcoin-...   \n",
       "\n",
       "                                         Description  \\\n",
       "0  China’s central bank on Friday said cryptocurr...   \n",
       "1  Twitter will now allow people to tip their fav...   \n",
       "2  Bitcoin is breathing new life into another ail...   \n",
       "3  China says bitcoin and ether cannot be used as...   \n",
       "4  <ol><li>Bitcoin dumps after Chinese condemnati...   \n",
       "\n",
       "                                             Content  Compound Sentiment  \\\n",
       "0  Its the countrys latest crackdown on digital c...             -0.3549   \n",
       "1  Twitter will now allow people to tip their fav...              0.7351   \n",
       "2  19 with 16 posters participating\\r\\nBitcoins m...              0.0000   \n",
       "3  Bitcoin\\r\\nDan Kitwood/ Getty Images\\r\\nShares...             -0.2960   \n",
       "4  Editor's Note: With so much market volatility,...             -0.9022   \n",
       "\n",
       "   Positive Sentiment  Neutral Sentiment  Negative Sentiment  \n",
       "0               0.070              0.789               0.140  \n",
       "1               0.146              0.827               0.027  \n",
       "2               0.000              1.000               0.000  \n",
       "3               0.000              0.901               0.099  \n",
       "4               0.000              0.706               0.294  "
      ]
     },
     "execution_count": 53,
     "metadata": {},
     "output_type": "execute_result"
    }
   ],
   "source": [
    "btc_articles_df['Neutral Sentiment'] = btc_articles_df['Description'].apply(get_neutralScore)\n",
    "btc_articles_df.head()"
   ]
  },
  {
   "cell_type": "code",
   "execution_count": 54,
   "metadata": {},
   "outputs": [],
   "source": [
    "# Function to get negative sentiments\n",
    "def get_negative_sentiment(content):\n",
    "    sentiment = analyzer.polarity_scores(content)\n",
    "    negative = sentiment[\"neg\"]\n",
    "    return negative\n",
    "get_negativeScore = lambda x: get_negative_sentiment(x)"
   ]
  },
  {
   "cell_type": "code",
   "execution_count": 55,
   "metadata": {},
   "outputs": [
    {
     "data": {
      "text/html": [
       "<div>\n",
       "<style scoped>\n",
       "    .dataframe tbody tr th:only-of-type {\n",
       "        vertical-align: middle;\n",
       "    }\n",
       "\n",
       "    .dataframe tbody tr th {\n",
       "        vertical-align: top;\n",
       "    }\n",
       "\n",
       "    .dataframe thead th {\n",
       "        text-align: right;\n",
       "    }\n",
       "</style>\n",
       "<table border=\"1\" class=\"dataframe\">\n",
       "  <thead>\n",
       "    <tr style=\"text-align: right;\">\n",
       "      <th></th>\n",
       "      <th>Headlines</th>\n",
       "      <th>Date_Time</th>\n",
       "      <th>URL</th>\n",
       "      <th>Description</th>\n",
       "      <th>Content</th>\n",
       "      <th>Compound Sentiment</th>\n",
       "      <th>Positive Sentiment</th>\n",
       "      <th>Neutral Sentiment</th>\n",
       "      <th>Negative Sentiment</th>\n",
       "    </tr>\n",
       "  </thead>\n",
       "  <tbody>\n",
       "    <tr>\n",
       "      <th>0</th>\n",
       "      <td>China’s central bank bans cryptocurrency trans...</td>\n",
       "      <td>2021-09-24T16:22:55Z</td>\n",
       "      <td>https://www.theverge.com/2021/9/24/22691472/ch...</td>\n",
       "      <td>China’s central bank on Friday said cryptocurr...</td>\n",
       "      <td>Its the countrys latest crackdown on digital c...</td>\n",
       "      <td>-0.3549</td>\n",
       "      <td>0.070</td>\n",
       "      <td>0.789</td>\n",
       "      <td>0.140</td>\n",
       "    </tr>\n",
       "    <tr>\n",
       "      <th>1</th>\n",
       "      <td>Twitter will allow people to tip their favorit...</td>\n",
       "      <td>2021-09-24T12:14:00Z</td>\n",
       "      <td>https://techncruncher.blogspot.com/2021/09/twi...</td>\n",
       "      <td>Twitter will now allow people to tip their fav...</td>\n",
       "      <td>Twitter will now allow people to tip their fav...</td>\n",
       "      <td>0.7351</td>\n",
       "      <td>0.146</td>\n",
       "      <td>0.827</td>\n",
       "      <td>0.027</td>\n",
       "    </tr>\n",
       "    <tr>\n",
       "      <th>2</th>\n",
       "      <td>Old coal plant is now mining bitcoin for a uti...</td>\n",
       "      <td>2021-09-24T20:30:09Z</td>\n",
       "      <td>https://arstechnica.com/tech-policy/2021/09/ol...</td>\n",
       "      <td>Bitcoin is breathing new life into another ail...</td>\n",
       "      <td>19 with 16 posters participating\\r\\nBitcoins m...</td>\n",
       "      <td>0.0000</td>\n",
       "      <td>0.000</td>\n",
       "      <td>1.000</td>\n",
       "      <td>0.000</td>\n",
       "    </tr>\n",
       "    <tr>\n",
       "      <th>3</th>\n",
       "      <td>Marathon Digital and other crypto-linked stock...</td>\n",
       "      <td>2021-09-24T13:58:00Z</td>\n",
       "      <td>https://markets.businessinsider.com/news/stock...</td>\n",
       "      <td>China says bitcoin and ether cannot be used as...</td>\n",
       "      <td>Bitcoin\\r\\nDan Kitwood/ Getty Images\\r\\nShares...</td>\n",
       "      <td>-0.2960</td>\n",
       "      <td>0.000</td>\n",
       "      <td>0.901</td>\n",
       "      <td>0.099</td>\n",
       "    </tr>\n",
       "    <tr>\n",
       "      <th>4</th>\n",
       "      <td>Bitcoin dumps after Chinese condemnation | Kit...</td>\n",
       "      <td>2021-09-24T10:14:00Z</td>\n",
       "      <td>https://www.kitco.com/news/2021-09-24/Bitcoin-...</td>\n",
       "      <td>&lt;ol&gt;&lt;li&gt;Bitcoin dumps after Chinese condemnati...</td>\n",
       "      <td>Editor's Note: With so much market volatility,...</td>\n",
       "      <td>-0.9022</td>\n",
       "      <td>0.000</td>\n",
       "      <td>0.706</td>\n",
       "      <td>0.294</td>\n",
       "    </tr>\n",
       "  </tbody>\n",
       "</table>\n",
       "</div>"
      ],
      "text/plain": [
       "                                           Headlines             Date_Time  \\\n",
       "0  China’s central bank bans cryptocurrency trans...  2021-09-24T16:22:55Z   \n",
       "1  Twitter will allow people to tip their favorit...  2021-09-24T12:14:00Z   \n",
       "2  Old coal plant is now mining bitcoin for a uti...  2021-09-24T20:30:09Z   \n",
       "3  Marathon Digital and other crypto-linked stock...  2021-09-24T13:58:00Z   \n",
       "4  Bitcoin dumps after Chinese condemnation | Kit...  2021-09-24T10:14:00Z   \n",
       "\n",
       "                                                 URL  \\\n",
       "0  https://www.theverge.com/2021/9/24/22691472/ch...   \n",
       "1  https://techncruncher.blogspot.com/2021/09/twi...   \n",
       "2  https://arstechnica.com/tech-policy/2021/09/ol...   \n",
       "3  https://markets.businessinsider.com/news/stock...   \n",
       "4  https://www.kitco.com/news/2021-09-24/Bitcoin-...   \n",
       "\n",
       "                                         Description  \\\n",
       "0  China’s central bank on Friday said cryptocurr...   \n",
       "1  Twitter will now allow people to tip their fav...   \n",
       "2  Bitcoin is breathing new life into another ail...   \n",
       "3  China says bitcoin and ether cannot be used as...   \n",
       "4  <ol><li>Bitcoin dumps after Chinese condemnati...   \n",
       "\n",
       "                                             Content  Compound Sentiment  \\\n",
       "0  Its the countrys latest crackdown on digital c...             -0.3549   \n",
       "1  Twitter will now allow people to tip their fav...              0.7351   \n",
       "2  19 with 16 posters participating\\r\\nBitcoins m...              0.0000   \n",
       "3  Bitcoin\\r\\nDan Kitwood/ Getty Images\\r\\nShares...             -0.2960   \n",
       "4  Editor's Note: With so much market volatility,...             -0.9022   \n",
       "\n",
       "   Positive Sentiment  Neutral Sentiment  Negative Sentiment  \n",
       "0               0.070              0.789               0.140  \n",
       "1               0.146              0.827               0.027  \n",
       "2               0.000              1.000               0.000  \n",
       "3               0.000              0.901               0.099  \n",
       "4               0.000              0.706               0.294  "
      ]
     },
     "execution_count": 55,
     "metadata": {},
     "output_type": "execute_result"
    }
   ],
   "source": [
    "btc_articles_df['Negative Sentiment'] = btc_articles_df['Description'].apply(get_negativeScore)\n",
    "btc_articles_df.head()"
   ]
  },
  {
   "cell_type": "code",
   "execution_count": 36,
   "metadata": {},
   "outputs": [],
   "source": [
    "# Save BTC Articles data to CSV:\n",
    "btc_articles_df.to_csv(f\"btc_articles_df_{current_date[:10]}.csv\")"
   ]
  },
  {
   "cell_type": "markdown",
   "metadata": {},
   "source": [
    "## Ethereum Sentiment Analysis"
   ]
  },
  {
   "cell_type": "code",
   "execution_count": 37,
   "metadata": {},
   "outputs": [
    {
     "name": "stdout",
     "output_type": "stream",
     "text": [
      "Fetching news about 'ethereum'\n",
      "******************************\n",
      "retrieving news from: 2021-09-25 01:11:08\n"
     ]
    }
   ],
   "source": [
    "# Fetch the Ethereum news articles\n",
    "eth_articles_df = get_articles(\"ethereum\")"
   ]
  },
  {
   "cell_type": "code",
   "execution_count": 38,
   "metadata": {},
   "outputs": [
    {
     "data": {
      "text/plain": [
       "(20, 5)"
      ]
     },
     "execution_count": 38,
     "metadata": {},
     "output_type": "execute_result"
    }
   ],
   "source": [
    "eth_articles_df.shape"
   ]
  },
  {
   "cell_type": "code",
   "execution_count": 39,
   "metadata": {},
   "outputs": [
    {
     "data": {
      "text/html": [
       "<div>\n",
       "<style scoped>\n",
       "    .dataframe tbody tr th:only-of-type {\n",
       "        vertical-align: middle;\n",
       "    }\n",
       "\n",
       "    .dataframe tbody tr th {\n",
       "        vertical-align: top;\n",
       "    }\n",
       "\n",
       "    .dataframe thead th {\n",
       "        text-align: right;\n",
       "    }\n",
       "</style>\n",
       "<table border=\"1\" class=\"dataframe\">\n",
       "  <thead>\n",
       "    <tr style=\"text-align: right;\">\n",
       "      <th></th>\n",
       "      <th>Headlines</th>\n",
       "      <th>Date_Time</th>\n",
       "      <th>URL</th>\n",
       "      <th>Description</th>\n",
       "      <th>Content</th>\n",
       "    </tr>\n",
       "  </thead>\n",
       "  <tbody>\n",
       "    <tr>\n",
       "      <th>0</th>\n",
       "      <td>China’s central bank bans cryptocurrency trans...</td>\n",
       "      <td>2021-09-24T16:22:55Z</td>\n",
       "      <td>https://www.theverge.com/2021/9/24/22691472/ch...</td>\n",
       "      <td>China’s central bank on Friday said cryptocurr...</td>\n",
       "      <td>Its the countrys latest crackdown on digital c...</td>\n",
       "    </tr>\n",
       "    <tr>\n",
       "      <th>1</th>\n",
       "      <td>China declares cryptocurrency transactions ill...</td>\n",
       "      <td>2021-09-24T16:08:57Z</td>\n",
       "      <td>https://abcnews.go.com/Business/china-declares...</td>\n",
       "      <td>Bitcoin, Ethereum and others dipped on Friday ...</td>\n",
       "      <td>Bitcoin, Ethereum and other cryptocurrencies d...</td>\n",
       "    </tr>\n",
       "    <tr>\n",
       "      <th>2</th>\n",
       "      <td>Twitter will allow people to tip their favorit...</td>\n",
       "      <td>2021-09-24T12:14:00Z</td>\n",
       "      <td>https://techncruncher.blogspot.com/2021/09/twi...</td>\n",
       "      <td>Twitter will now allow people to tip their fav...</td>\n",
       "      <td>Twitter will now allow people to tip their fav...</td>\n",
       "    </tr>\n",
       "    <tr>\n",
       "      <th>3</th>\n",
       "      <td>Bitcoin dumps after Chinese condemnation | Kit...</td>\n",
       "      <td>2021-09-24T10:14:00Z</td>\n",
       "      <td>https://www.kitco.com/news/2021-09-24/Bitcoin-...</td>\n",
       "      <td>&lt;ol&gt;&lt;li&gt;Bitcoin dumps after Chinese condemnati...</td>\n",
       "      <td>Editor's Note: With so much market volatility,...</td>\n",
       "    </tr>\n",
       "    <tr>\n",
       "      <th>4</th>\n",
       "      <td>Bitcoin dives after China declares all crypto ...</td>\n",
       "      <td>2021-09-24T13:45:23Z</td>\n",
       "      <td>https://thenextweb.com/news/china-declares-all...</td>\n",
       "      <td>Did you know Hard Fork is taking the stage on ...</td>\n",
       "      <td>Virtual currency-related business activities a...</td>\n",
       "    </tr>\n",
       "  </tbody>\n",
       "</table>\n",
       "</div>"
      ],
      "text/plain": [
       "                                           Headlines             Date_Time  \\\n",
       "0  China’s central bank bans cryptocurrency trans...  2021-09-24T16:22:55Z   \n",
       "1  China declares cryptocurrency transactions ill...  2021-09-24T16:08:57Z   \n",
       "2  Twitter will allow people to tip their favorit...  2021-09-24T12:14:00Z   \n",
       "3  Bitcoin dumps after Chinese condemnation | Kit...  2021-09-24T10:14:00Z   \n",
       "4  Bitcoin dives after China declares all crypto ...  2021-09-24T13:45:23Z   \n",
       "\n",
       "                                                 URL  \\\n",
       "0  https://www.theverge.com/2021/9/24/22691472/ch...   \n",
       "1  https://abcnews.go.com/Business/china-declares...   \n",
       "2  https://techncruncher.blogspot.com/2021/09/twi...   \n",
       "3  https://www.kitco.com/news/2021-09-24/Bitcoin-...   \n",
       "4  https://thenextweb.com/news/china-declares-all...   \n",
       "\n",
       "                                         Description  \\\n",
       "0  China’s central bank on Friday said cryptocurr...   \n",
       "1  Bitcoin, Ethereum and others dipped on Friday ...   \n",
       "2  Twitter will now allow people to tip their fav...   \n",
       "3  <ol><li>Bitcoin dumps after Chinese condemnati...   \n",
       "4  Did you know Hard Fork is taking the stage on ...   \n",
       "\n",
       "                                             Content  \n",
       "0  Its the countrys latest crackdown on digital c...  \n",
       "1  Bitcoin, Ethereum and other cryptocurrencies d...  \n",
       "2  Twitter will now allow people to tip their fav...  \n",
       "3  Editor's Note: With so much market volatility,...  \n",
       "4  Virtual currency-related business activities a...  "
      ]
     },
     "execution_count": 39,
     "metadata": {},
     "output_type": "execute_result"
    }
   ],
   "source": [
    "eth_articles_df.head()"
   ]
  },
  {
   "cell_type": "code",
   "execution_count": 40,
   "metadata": {},
   "outputs": [
    {
     "data": {
      "text/plain": [
       "'Its the countrys latest crackdown on digital currencies\\r\\nIllustration by Alex Castro / The Verge\\r\\nThe Peoples Bank of China, the countrys central bank, said Friday that cryptocurrency transactions ar… [+1461 chars]'"
      ]
     },
     "execution_count": 40,
     "metadata": {},
     "output_type": "execute_result"
    }
   ],
   "source": [
    "eth_articles_df.loc[0]['Content']"
   ]
  },
  {
   "cell_type": "code",
   "execution_count": 41,
   "metadata": {},
   "outputs": [
    {
     "data": {
      "text/plain": [
       "'China’s central bank on Friday said cryptocurrency transactions in the country are illegal, banning all transactions. It said cryptocurrencies like bitcoin and Ethereum are not legal tender and can’t be circulated.'"
      ]
     },
     "execution_count": 41,
     "metadata": {},
     "output_type": "execute_result"
    }
   ],
   "source": [
    "eth_articles_df.loc[0]['Description']"
   ]
  },
  {
   "cell_type": "markdown",
   "metadata": {},
   "source": [
    "### Clean the Text"
   ]
  },
  {
   "cell_type": "code",
   "execution_count": 42,
   "metadata": {},
   "outputs": [
    {
     "data": {
      "text/html": [
       "<div>\n",
       "<style scoped>\n",
       "    .dataframe tbody tr th:only-of-type {\n",
       "        vertical-align: middle;\n",
       "    }\n",
       "\n",
       "    .dataframe tbody tr th {\n",
       "        vertical-align: top;\n",
       "    }\n",
       "\n",
       "    .dataframe thead th {\n",
       "        text-align: right;\n",
       "    }\n",
       "</style>\n",
       "<table border=\"1\" class=\"dataframe\">\n",
       "  <thead>\n",
       "    <tr style=\"text-align: right;\">\n",
       "      <th></th>\n",
       "      <th>Description</th>\n",
       "    </tr>\n",
       "  </thead>\n",
       "  <tbody>\n",
       "    <tr>\n",
       "      <th>0</th>\n",
       "      <td>Chinas central bank on Friday said cryptocurre...</td>\n",
       "    </tr>\n",
       "    <tr>\n",
       "      <th>1</th>\n",
       "      <td>Bitcoin Ethereum and others dipped on Friday a...</td>\n",
       "    </tr>\n",
       "    <tr>\n",
       "      <th>2</th>\n",
       "      <td>Twitter will now allow people to tip their fav...</td>\n",
       "    </tr>\n",
       "    <tr>\n",
       "      <th>3</th>\n",
       "      <td>olliBitcoin dumps after Chinese condemnation  ...</td>\n",
       "    </tr>\n",
       "    <tr>\n",
       "      <th>4</th>\n",
       "      <td>Did you know Hard Fork is taking the stage on ...</td>\n",
       "    </tr>\n",
       "    <tr>\n",
       "      <th>5</th>\n",
       "      <td>China says bitcoin and ether cannot be used as...</td>\n",
       "    </tr>\n",
       "    <tr>\n",
       "      <th>6</th>\n",
       "      <td>Some cryptocurrencies are down over  since the...</td>\n",
       "    </tr>\n",
       "    <tr>\n",
       "      <th>7</th>\n",
       "      <td>China has reiterated its crackdown on cryptocu...</td>\n",
       "    </tr>\n",
       "    <tr>\n",
       "      <th>8</th>\n",
       "      <td>The Central Bank of China announced that it wi...</td>\n",
       "    </tr>\n",
       "    <tr>\n",
       "      <th>9</th>\n",
       "      <td>Chinas central bank has declared all transacti...</td>\n",
       "    </tr>\n",
       "    <tr>\n",
       "      <th>10</th>\n",
       "      <td>This episode of Playbook Deep Dive goes down t...</td>\n",
       "    </tr>\n",
       "    <tr>\n",
       "      <th>11</th>\n",
       "      <td>Regulatory risks are rising for investors</td>\n",
       "    </tr>\n",
       "    <tr>\n",
       "      <th>12</th>\n",
       "      <td>Just when you thought cryptocurrencies would r...</td>\n",
       "    </tr>\n",
       "    <tr>\n",
       "      <th>13</th>\n",
       "      <td>Cryptocurrencies dont often come cheap But her...</td>\n",
       "    </tr>\n",
       "    <tr>\n",
       "      <th>14</th>\n",
       "      <td>The Peoples Bank of China just released a note...</td>\n",
       "    </tr>\n",
       "    <tr>\n",
       "      <th>15</th>\n",
       "      <td>The crypto world was hit hard today after Chin...</td>\n",
       "    </tr>\n",
       "    <tr>\n",
       "      <th>16</th>\n",
       "      <td>Bitcoin and other cryptos are crumbling as Chi...</td>\n",
       "    </tr>\n",
       "    <tr>\n",
       "      <th>17</th>\n",
       "      <td>As China bans crypto the NDRC has undertaken a...</td>\n",
       "    </tr>\n",
       "    <tr>\n",
       "      <th>18</th>\n",
       "      <td>Avalanches crypto token is now up more than  y...</td>\n",
       "    </tr>\n",
       "    <tr>\n",
       "      <th>19</th>\n",
       "      <td>Chinas central bank declared on Friday that al...</td>\n",
       "    </tr>\n",
       "  </tbody>\n",
       "</table>\n",
       "</div>"
      ],
      "text/plain": [
       "                                          Description\n",
       "0   Chinas central bank on Friday said cryptocurre...\n",
       "1   Bitcoin Ethereum and others dipped on Friday a...\n",
       "2   Twitter will now allow people to tip their fav...\n",
       "3   olliBitcoin dumps after Chinese condemnation  ...\n",
       "4   Did you know Hard Fork is taking the stage on ...\n",
       "5   China says bitcoin and ether cannot be used as...\n",
       "6   Some cryptocurrencies are down over  since the...\n",
       "7   China has reiterated its crackdown on cryptocu...\n",
       "8   The Central Bank of China announced that it wi...\n",
       "9   Chinas central bank has declared all transacti...\n",
       "10  This episode of Playbook Deep Dive goes down t...\n",
       "11          Regulatory risks are rising for investors\n",
       "12  Just when you thought cryptocurrencies would r...\n",
       "13  Cryptocurrencies dont often come cheap But her...\n",
       "14  The Peoples Bank of China just released a note...\n",
       "15  The crypto world was hit hard today after Chin...\n",
       "16  Bitcoin and other cryptos are crumbling as Chi...\n",
       "17  As China bans crypto the NDRC has undertaken a...\n",
       "18  Avalanches crypto token is now up more than  y...\n",
       "19  Chinas central bank declared on Friday that al..."
      ]
     },
     "execution_count": 42,
     "metadata": {},
     "output_type": "execute_result"
    }
   ],
   "source": [
    "# Using functions created for Cleaning BTC text:\n",
    "eth_clean = pd.DataFrame(eth_articles_df['Description'].apply(text_cleaner))\n",
    "eth_clean"
   ]
  },
  {
   "cell_type": "code",
   "execution_count": null,
   "metadata": {},
   "outputs": [],
   "source": []
  },
  {
   "cell_type": "code",
   "execution_count": null,
   "metadata": {},
   "outputs": [],
   "source": []
  },
  {
   "cell_type": "markdown",
   "metadata": {},
   "source": [
    "## Create the Ethereum sentiment scores DataFrame"
   ]
  },
  {
   "cell_type": "code",
   "execution_count": 44,
   "metadata": {},
   "outputs": [
    {
     "data": {
      "text/html": [
       "<div>\n",
       "<style scoped>\n",
       "    .dataframe tbody tr th:only-of-type {\n",
       "        vertical-align: middle;\n",
       "    }\n",
       "\n",
       "    .dataframe tbody tr th {\n",
       "        vertical-align: top;\n",
       "    }\n",
       "\n",
       "    .dataframe thead th {\n",
       "        text-align: right;\n",
       "    }\n",
       "</style>\n",
       "<table border=\"1\" class=\"dataframe\">\n",
       "  <thead>\n",
       "    <tr style=\"text-align: right;\">\n",
       "      <th></th>\n",
       "      <th>Headlines</th>\n",
       "      <th>Date_Time</th>\n",
       "      <th>URL</th>\n",
       "      <th>Description</th>\n",
       "      <th>Content</th>\n",
       "      <th>Compound Sentiment</th>\n",
       "      <th>Positive Sentiment</th>\n",
       "      <th>Neutral Sentiment</th>\n",
       "      <th>Negative Sentiment</th>\n",
       "    </tr>\n",
       "  </thead>\n",
       "  <tbody>\n",
       "    <tr>\n",
       "      <th>0</th>\n",
       "      <td>China’s central bank bans cryptocurrency trans...</td>\n",
       "      <td>2021-09-24T16:22:55Z</td>\n",
       "      <td>https://www.theverge.com/2021/9/24/22691472/ch...</td>\n",
       "      <td>China’s central bank on Friday said cryptocurr...</td>\n",
       "      <td>Its the countrys latest crackdown on digital c...</td>\n",
       "      <td>-0.3549</td>\n",
       "      <td>0.070</td>\n",
       "      <td>0.789</td>\n",
       "      <td>0.140</td>\n",
       "    </tr>\n",
       "    <tr>\n",
       "      <th>1</th>\n",
       "      <td>China declares cryptocurrency transactions ill...</td>\n",
       "      <td>2021-09-24T16:08:57Z</td>\n",
       "      <td>https://abcnews.go.com/Business/china-declares...</td>\n",
       "      <td>Bitcoin, Ethereum and others dipped on Friday ...</td>\n",
       "      <td>Bitcoin, Ethereum and other cryptocurrencies d...</td>\n",
       "      <td>0.0000</td>\n",
       "      <td>0.000</td>\n",
       "      <td>1.000</td>\n",
       "      <td>0.000</td>\n",
       "    </tr>\n",
       "    <tr>\n",
       "      <th>2</th>\n",
       "      <td>Twitter will allow people to tip their favorit...</td>\n",
       "      <td>2021-09-24T12:14:00Z</td>\n",
       "      <td>https://techncruncher.blogspot.com/2021/09/twi...</td>\n",
       "      <td>Twitter will now allow people to tip their fav...</td>\n",
       "      <td>Twitter will now allow people to tip their fav...</td>\n",
       "      <td>0.7351</td>\n",
       "      <td>0.146</td>\n",
       "      <td>0.827</td>\n",
       "      <td>0.027</td>\n",
       "    </tr>\n",
       "    <tr>\n",
       "      <th>3</th>\n",
       "      <td>Bitcoin dumps after Chinese condemnation | Kit...</td>\n",
       "      <td>2021-09-24T10:14:00Z</td>\n",
       "      <td>https://www.kitco.com/news/2021-09-24/Bitcoin-...</td>\n",
       "      <td>&lt;ol&gt;&lt;li&gt;Bitcoin dumps after Chinese condemnati...</td>\n",
       "      <td>Editor's Note: With so much market volatility,...</td>\n",
       "      <td>-0.9022</td>\n",
       "      <td>0.000</td>\n",
       "      <td>0.706</td>\n",
       "      <td>0.294</td>\n",
       "    </tr>\n",
       "    <tr>\n",
       "      <th>4</th>\n",
       "      <td>Bitcoin dives after China declares all crypto ...</td>\n",
       "      <td>2021-09-24T13:45:23Z</td>\n",
       "      <td>https://thenextweb.com/news/china-declares-all...</td>\n",
       "      <td>Did you know Hard Fork is taking the stage on ...</td>\n",
       "      <td>Virtual currency-related business activities a...</td>\n",
       "      <td>0.7263</td>\n",
       "      <td>0.130</td>\n",
       "      <td>0.842</td>\n",
       "      <td>0.028</td>\n",
       "    </tr>\n",
       "  </tbody>\n",
       "</table>\n",
       "</div>"
      ],
      "text/plain": [
       "                                           Headlines             Date_Time  \\\n",
       "0  China’s central bank bans cryptocurrency trans...  2021-09-24T16:22:55Z   \n",
       "1  China declares cryptocurrency transactions ill...  2021-09-24T16:08:57Z   \n",
       "2  Twitter will allow people to tip their favorit...  2021-09-24T12:14:00Z   \n",
       "3  Bitcoin dumps after Chinese condemnation | Kit...  2021-09-24T10:14:00Z   \n",
       "4  Bitcoin dives after China declares all crypto ...  2021-09-24T13:45:23Z   \n",
       "\n",
       "                                                 URL  \\\n",
       "0  https://www.theverge.com/2021/9/24/22691472/ch...   \n",
       "1  https://abcnews.go.com/Business/china-declares...   \n",
       "2  https://techncruncher.blogspot.com/2021/09/twi...   \n",
       "3  https://www.kitco.com/news/2021-09-24/Bitcoin-...   \n",
       "4  https://thenextweb.com/news/china-declares-all...   \n",
       "\n",
       "                                         Description  \\\n",
       "0  China’s central bank on Friday said cryptocurr...   \n",
       "1  Bitcoin, Ethereum and others dipped on Friday ...   \n",
       "2  Twitter will now allow people to tip their fav...   \n",
       "3  <ol><li>Bitcoin dumps after Chinese condemnati...   \n",
       "4  Did you know Hard Fork is taking the stage on ...   \n",
       "\n",
       "                                             Content  Compound Sentiment  \\\n",
       "0  Its the countrys latest crackdown on digital c...             -0.3549   \n",
       "1  Bitcoin, Ethereum and other cryptocurrencies d...              0.0000   \n",
       "2  Twitter will now allow people to tip their fav...              0.7351   \n",
       "3  Editor's Note: With so much market volatility,...             -0.9022   \n",
       "4  Virtual currency-related business activities a...              0.7263   \n",
       "\n",
       "   Positive Sentiment  Neutral Sentiment  Negative Sentiment  \n",
       "0               0.070              0.789               0.140  \n",
       "1               0.000              1.000               0.000  \n",
       "2               0.146              0.827               0.027  \n",
       "3               0.000              0.706               0.294  \n",
       "4               0.130              0.842               0.028  "
      ]
     },
     "execution_count": 44,
     "metadata": {},
     "output_type": "execute_result"
    }
   ],
   "source": [
    "# Function to get compound sentiments\n",
    "eth_articles_df['Compound Sentiment'] = eth_articles_df['Description'].apply(get_compoundScore)\n",
    "eth_articles_df['Positive Sentiment'] = eth_articles_df['Description'].apply(get_positiveScore)\n",
    "eth_articles_df['Neutral Sentiment'] = eth_articles_df['Description'].apply(get_neutralScore)\n",
    "eth_articles_df['Negative Sentiment'] = eth_articles_df['Description'].apply(get_negativeScore)\n",
    "eth_articles_df.head()"
   ]
  },
  {
   "cell_type": "code",
   "execution_count": 45,
   "metadata": {},
   "outputs": [],
   "source": [
    "# Save BTC Articles data to CSV:\n",
    "eth_articles_df.to_csv(f\"eth_articles_df_{current_date[:10]}.csv\")"
   ]
  },
  {
   "cell_type": "code",
   "execution_count": 56,
   "metadata": {},
   "outputs": [
    {
     "data": {
      "text/html": [
       "<div>\n",
       "<style scoped>\n",
       "    .dataframe tbody tr th:only-of-type {\n",
       "        vertical-align: middle;\n",
       "    }\n",
       "\n",
       "    .dataframe tbody tr th {\n",
       "        vertical-align: top;\n",
       "    }\n",
       "\n",
       "    .dataframe thead th {\n",
       "        text-align: right;\n",
       "    }\n",
       "</style>\n",
       "<table border=\"1\" class=\"dataframe\">\n",
       "  <thead>\n",
       "    <tr style=\"text-align: right;\">\n",
       "      <th></th>\n",
       "      <th>Compound Sentiment</th>\n",
       "      <th>Positive Sentiment</th>\n",
       "      <th>Neutral Sentiment</th>\n",
       "      <th>Negative Sentiment</th>\n",
       "    </tr>\n",
       "  </thead>\n",
       "  <tbody>\n",
       "    <tr>\n",
       "      <th>count</th>\n",
       "      <td>20.000000</td>\n",
       "      <td>20.000000</td>\n",
       "      <td>20.000000</td>\n",
       "      <td>20.000000</td>\n",
       "    </tr>\n",
       "    <tr>\n",
       "      <th>mean</th>\n",
       "      <td>-0.288055</td>\n",
       "      <td>0.023350</td>\n",
       "      <td>0.866000</td>\n",
       "      <td>0.110600</td>\n",
       "    </tr>\n",
       "    <tr>\n",
       "      <th>std</th>\n",
       "      <td>0.484851</td>\n",
       "      <td>0.045966</td>\n",
       "      <td>0.096175</td>\n",
       "      <td>0.098305</td>\n",
       "    </tr>\n",
       "    <tr>\n",
       "      <th>min</th>\n",
       "      <td>-0.902200</td>\n",
       "      <td>0.000000</td>\n",
       "      <td>0.698000</td>\n",
       "      <td>0.000000</td>\n",
       "    </tr>\n",
       "    <tr>\n",
       "      <th>25%</th>\n",
       "      <td>-0.708350</td>\n",
       "      <td>0.000000</td>\n",
       "      <td>0.812250</td>\n",
       "      <td>0.020250</td>\n",
       "    </tr>\n",
       "    <tr>\n",
       "      <th>50%</th>\n",
       "      <td>-0.456150</td>\n",
       "      <td>0.000000</td>\n",
       "      <td>0.861000</td>\n",
       "      <td>0.122000</td>\n",
       "    </tr>\n",
       "    <tr>\n",
       "      <th>75%</th>\n",
       "      <td>0.000000</td>\n",
       "      <td>0.010750</td>\n",
       "      <td>0.925750</td>\n",
       "      <td>0.146250</td>\n",
       "    </tr>\n",
       "    <tr>\n",
       "      <th>max</th>\n",
       "      <td>0.735100</td>\n",
       "      <td>0.146000</td>\n",
       "      <td>1.000000</td>\n",
       "      <td>0.302000</td>\n",
       "    </tr>\n",
       "  </tbody>\n",
       "</table>\n",
       "</div>"
      ],
      "text/plain": [
       "       Compound Sentiment  Positive Sentiment  Neutral Sentiment  \\\n",
       "count           20.000000           20.000000          20.000000   \n",
       "mean            -0.288055            0.023350           0.866000   \n",
       "std              0.484851            0.045966           0.096175   \n",
       "min             -0.902200            0.000000           0.698000   \n",
       "25%             -0.708350            0.000000           0.812250   \n",
       "50%             -0.456150            0.000000           0.861000   \n",
       "75%              0.000000            0.010750           0.925750   \n",
       "max              0.735100            0.146000           1.000000   \n",
       "\n",
       "       Negative Sentiment  \n",
       "count           20.000000  \n",
       "mean             0.110600  \n",
       "std              0.098305  \n",
       "min              0.000000  \n",
       "25%              0.020250  \n",
       "50%              0.122000  \n",
       "75%              0.146250  \n",
       "max              0.302000  "
      ]
     },
     "execution_count": 56,
     "metadata": {},
     "output_type": "execute_result"
    }
   ],
   "source": [
    "# Describe the Bitcoin Sentiment\n",
    "btc_articles_df.describe()"
   ]
  },
  {
   "cell_type": "code",
   "execution_count": 57,
   "metadata": {},
   "outputs": [
    {
     "data": {
      "text/html": [
       "<div>\n",
       "<style scoped>\n",
       "    .dataframe tbody tr th:only-of-type {\n",
       "        vertical-align: middle;\n",
       "    }\n",
       "\n",
       "    .dataframe tbody tr th {\n",
       "        vertical-align: top;\n",
       "    }\n",
       "\n",
       "    .dataframe thead th {\n",
       "        text-align: right;\n",
       "    }\n",
       "</style>\n",
       "<table border=\"1\" class=\"dataframe\">\n",
       "  <thead>\n",
       "    <tr style=\"text-align: right;\">\n",
       "      <th></th>\n",
       "      <th>Compound Sentiment</th>\n",
       "      <th>Positive Sentiment</th>\n",
       "      <th>Neutral Sentiment</th>\n",
       "      <th>Negative Sentiment</th>\n",
       "    </tr>\n",
       "  </thead>\n",
       "  <tbody>\n",
       "    <tr>\n",
       "      <th>count</th>\n",
       "      <td>20.000000</td>\n",
       "      <td>20.00000</td>\n",
       "      <td>20.000000</td>\n",
       "      <td>20.000000</td>\n",
       "    </tr>\n",
       "    <tr>\n",
       "      <th>mean</th>\n",
       "      <td>-0.112110</td>\n",
       "      <td>0.04725</td>\n",
       "      <td>0.860500</td>\n",
       "      <td>0.092150</td>\n",
       "    </tr>\n",
       "    <tr>\n",
       "      <th>std</th>\n",
       "      <td>0.495794</td>\n",
       "      <td>0.07298</td>\n",
       "      <td>0.098021</td>\n",
       "      <td>0.093939</td>\n",
       "    </tr>\n",
       "    <tr>\n",
       "      <th>min</th>\n",
       "      <td>-0.902200</td>\n",
       "      <td>0.00000</td>\n",
       "      <td>0.704000</td>\n",
       "      <td>0.000000</td>\n",
       "    </tr>\n",
       "    <tr>\n",
       "      <th>25%</th>\n",
       "      <td>-0.401750</td>\n",
       "      <td>0.00000</td>\n",
       "      <td>0.785000</td>\n",
       "      <td>0.000000</td>\n",
       "    </tr>\n",
       "    <tr>\n",
       "      <th>50%</th>\n",
       "      <td>-0.250600</td>\n",
       "      <td>0.00000</td>\n",
       "      <td>0.866000</td>\n",
       "      <td>0.088000</td>\n",
       "    </tr>\n",
       "    <tr>\n",
       "      <th>75%</th>\n",
       "      <td>0.110100</td>\n",
       "      <td>0.07175</td>\n",
       "      <td>0.925750</td>\n",
       "      <td>0.123500</td>\n",
       "    </tr>\n",
       "    <tr>\n",
       "      <th>max</th>\n",
       "      <td>0.735100</td>\n",
       "      <td>0.22700</td>\n",
       "      <td>1.000000</td>\n",
       "      <td>0.296000</td>\n",
       "    </tr>\n",
       "  </tbody>\n",
       "</table>\n",
       "</div>"
      ],
      "text/plain": [
       "       Compound Sentiment  Positive Sentiment  Neutral Sentiment  \\\n",
       "count           20.000000            20.00000          20.000000   \n",
       "mean            -0.112110             0.04725           0.860500   \n",
       "std              0.495794             0.07298           0.098021   \n",
       "min             -0.902200             0.00000           0.704000   \n",
       "25%             -0.401750             0.00000           0.785000   \n",
       "50%             -0.250600             0.00000           0.866000   \n",
       "75%              0.110100             0.07175           0.925750   \n",
       "max              0.735100             0.22700           1.000000   \n",
       "\n",
       "       Negative Sentiment  \n",
       "count           20.000000  \n",
       "mean             0.092150  \n",
       "std              0.093939  \n",
       "min              0.000000  \n",
       "25%              0.000000  \n",
       "50%              0.088000  \n",
       "75%              0.123500  \n",
       "max              0.296000  "
      ]
     },
     "execution_count": 57,
     "metadata": {},
     "output_type": "execute_result"
    }
   ],
   "source": [
    "# Describe the Ethereum Sentiment\n",
    "eth_articles_df.describe()"
   ]
  },
  {
   "cell_type": "markdown",
   "metadata": {},
   "source": [
    "### Questions:\n",
    "\n",
    "Q: Which coin had the highest mean positive score?\n",
    "\n",
    "A: Ethereum with 0.04725\n",
    "\n",
    "Q: Which coin had the highest compound score?\n",
    "\n",
    "A: Both Ethereum and Bitcoin shared the same highest Compound Score at 0.7351\n",
    "\n",
    "Q. Which coin had the highest positive score?\n",
    "\n",
    "A: Ethereum with 0.227"
   ]
  },
  {
   "cell_type": "markdown",
   "metadata": {},
   "source": [
    "---"
   ]
  },
  {
   "cell_type": "markdown",
   "metadata": {},
   "source": [
    "## 2. Natural Language Processing\n",
    "---\n",
    "###   Tokenizer\n",
    "\n",
    "In this section, you will use NLTK and Python to tokenize the text for each coin. Be sure to:\n",
    "1. Lowercase each word.\n",
    "2. Remove Punctuation.\n",
    "3. Remove Stopwords."
   ]
  },
  {
   "cell_type": "code",
   "execution_count": 58,
   "metadata": {},
   "outputs": [],
   "source": [
    "from nltk.tokenize import word_tokenize, sent_tokenize\n",
    "from nltk.corpus import stopwords\n",
    "from nltk.stem import WordNetLemmatizer, PorterStemmer\n",
    "from string import punctuation\n",
    "import re"
   ]
  },
  {
   "cell_type": "code",
   "execution_count": 59,
   "metadata": {},
   "outputs": [],
   "source": [
    "# Instantiate the lemmatizer\n",
    "lemmatizer = WordNetLemmatizer()\n",
    "\n",
    "# Create a list of stopwords\n",
    "sw = set(stopwords.words('english'))\n",
    "\n",
    "# Expand the default stopwords list if necessary\n",
    "# YOUR CODE HERE!"
   ]
  },
  {
   "cell_type": "code",
   "execution_count": 73,
   "metadata": {},
   "outputs": [],
   "source": [
    "# Complete the tokenizer function\n",
    "def tokenizer(text):\n",
    "    \"\"\"Tokenizes text.\"\"\"\n",
    "    \n",
    "    # Remove the punctuation from text\n",
    "    regex = re.compile(\"[^a-zA-Z ]\")\n",
    "    re_clean = regex.sub('', text)\n",
    "   \n",
    "    # Create a tokenized list of the words\n",
    "    words = word_tokenize(re_clean)\n",
    "    \n",
    "    # Lemmatize words into root words\n",
    "    lem = [lemmatizer.lemmatize(word) for word in words]\n",
    "   \n",
    "    # Convert the words to lowercase & Remove the stop words\n",
    "    output = [word.lower() for word in lem if word.lower() not in sw]\n",
    "    \n",
    "    tokens = ' '.join(output)\n",
    "    \n",
    "    return tokens"
   ]
  },
  {
   "cell_type": "markdown",
   "metadata": {},
   "source": [
    "# Below asks for a column?  Where or What dataframe are we adding this column too?????"
   ]
  },
  {
   "cell_type": "code",
   "execution_count": 75,
   "metadata": {},
   "outputs": [
    {
     "data": {
      "text/plain": [
       "'China’s central bank on Friday said cryptocurrency transactions in the country are illegal, banning all transactions. It said cryptocurrencies like bitcoin and Ethereum are not legal tender and can’t be circulated.'"
      ]
     },
     "execution_count": 75,
     "metadata": {},
     "output_type": "execute_result"
    }
   ],
   "source": [
    "# Turn the discriptive column into a list of text:\n",
    "btc_text = btc_articles_df['Description'].to_list()\n",
    "btc_text[0]"
   ]
  },
  {
   "cell_type": "code",
   "execution_count": 79,
   "metadata": {},
   "outputs": [
    {
     "data": {
      "text/plain": [
       "'China’s central bank on Friday said cryptocurrency transactions in the country are illegal, banning all transactions. It said cryptocurrencies like bitcoin and Ethereum are not legal tender and can’t be circulated. Twitter will now allow people to tip their favorite content creators with bitcoin and will also launch a fund to pay some users who host audio chat rooms on its Spaces feature, the company said on Thursday.The company also said it will test new ways to help u… Bitcoin is breathing new life into another ailing power plant. China says bitcoin and ether cannot be used as currency in the world\\'s second-largest economy, sending bitcoin and crypto-linked stocks lower. <ol><li>Bitcoin dumps after Chinese condemnation | Kitco News\\xa0\\xa0Kitco NEWS\\r\\n</li><li>Bitcoin falls as China deems all cryptocurrency transactions illegal\\xa0\\xa0Financial Post\\r\\n</li><li>China turns the screws on crypto, Bitcoin stumbles\\xa0\\xa0The Globe and Mail\\r\\n</li><li… Bitcoin fell nearly 5% on Friday after China\\'s central bank said it would crack down on cryptocurrency trading, banning overseas exchanges from providing services to mainland investors. China\\'s hostility towards crypto stretches back to 2013, when the country banned banks from handling bitcoin transactions. China\\'s moves to crack down on bitcoin trading dealt another blow to Cathie Wood\\'s ARK Innovation Fund, which outperformed all other U.S. equity funds last year but is now mired among the worst of its peers. The Central Bank of China announced that it will ban financial institutions, payment and internet companies from facilitating cryptocurrency trading to Chinese investors, affecting the price of Bitcoin. Central bank says all crypto currencies, including bitcoin and tether, are not fiat currency and cannot be circulated on the market iOS users will get the feature first, followed by Android users \"over the coming weeks.\" Did you know Hard Fork is taking the stage on Sept 30 and Oct 1? Together with an amazing line-up of experts, we will explore the future of crypto during TNW Conference 2021. Secure your ticket now! Cryptocurrencies nosedived on Friday after China’s central b… China\\'s central bank vowed on Friday to crack down on illegal activities of cryptocurrency trading, banning overseas exchanges from providing services to mainland investors via Internet. China\\'s central bank vowed on Friday to crack down on illegal activities of cryptocurrency trading, banning overseas exchanges from providing services to mainland investors via Internet. Bitcoin, Ethereum and others dipped on Friday after the news from Beijing. The People\\'s Bank of China stated that all cryptocurrency transactions are illegal, continuing a long history of attempts to stamp out the industry. Some cryptocurrencies are down over 8% since the news broke.\\nCryptocurrency traders are set to have a rocky day after China’s central bank announced that all cryptocurrency-related transactions are now illegal, reports Bloomberg. The news sent the price of va… China’s central bank has declared all transactions involving Bitcoin and other virtual currencies illegal, stepping up a campaign to block use of unofficial digital money The People’s Bank of China has declared all cryptocurrency payments illegal, delivering an unexpected dose of uncertainty into the money markets. The dollar was on track for its biggest daily percentage gain against a basket of major currencies in a week on Friday, as uncertainty over beleaguered Chinese property developer Evergrande helped the greenback bounce back from a sharp decline in the prior se…'"
      ]
     },
     "execution_count": 79,
     "metadata": {},
     "output_type": "execute_result"
    }
   ],
   "source": [
    "for i in range(0, len(btc_text)):\n",
    "    btc_combined_text = ' '.join(btc_text)\n",
    "\n",
    "btc_combined_text"
   ]
  },
  {
   "cell_type": "code",
   "execution_count": 81,
   "metadata": {
    "tags": []
   },
   "outputs": [
    {
     "name": "stdout",
     "output_type": "stream",
     "text": [
      "chinas central bank friday said cryptocurrency transaction country illegal banning transaction said cryptocurrencies like bitcoin ethereum legal tender cant circulated twitter allow people tip favorite content creator bitcoin also launch fund pay user host audio chat room spaces feature company said thursdaythe company also said test new way help u bitcoin breathing new life another ailing power plant china say bitcoin ether used currency world secondlargest economy sending bitcoin cryptolinked stock lower ollibitcoin dump chinese condemnation kitco newskitco newslilibitcoin fall china deems cryptocurrency transaction illegalfinancial postlilichina turn screw crypto bitcoin stumblesthe globe maillili bitcoin fell nearly friday chinas central bank said would crack cryptocurrency trading banning overseas exchange providing service mainland investor chinas hostility towards crypto stretch back country banned bank handling bitcoin transaction chinas move crack bitcoin trading dealt another blow cathie woods ark innovation fund outperformed us equity fund last year mired among worst peer central bank china announced ban financial institution payment internet company facilitating cryptocurrency trading chinese investor affecting price bitcoin central bank say crypto currency including bitcoin tether fiat currency circulated market ios user get feature first followed android user coming week know hard fork taking stage sept oct together amazing lineup expert explore future crypto tnw conference secure ticket cryptocurrencies nosedived friday chinas central b chinas central bank vowed friday crack illegal activity cryptocurrency trading banning overseas exchange providing service mainland investor via internet chinas central bank vowed friday crack illegal activity cryptocurrency trading banning overseas exchange providing service mainland investor via internet bitcoin ethereum others dipped friday news beijing peoples bank china stated cryptocurrency transaction illegal continuing long history attempt stamp industry cryptocurrencies since news brokecryptocurrency trader set rocky day chinas central bank announced cryptocurrencyrelated transaction illegal report bloomberg news sent price va chinas central bank ha declared transaction involving bitcoin virtual currency illegal stepping campaign block use unofficial digital money peoples bank china ha declared cryptocurrency payment illegal delivering unexpected dose uncertainty money market dollar wa track biggest daily percentage gain basket major currency week friday uncertainty beleaguered chinese property developer evergrande helped greenback bounce back sharp decline prior se\n"
     ]
    }
   ],
   "source": [
    "# Create a new tokens column for Bitcoin\n",
    "btc_tokens = tokenizer(btc_combined_text)\n",
    "print(btc_tokens)"
   ]
  },
  {
   "cell_type": "code",
   "execution_count": 82,
   "metadata": {},
   "outputs": [
    {
     "name": "stdout",
     "output_type": "stream",
     "text": [
      "chinas central bank friday said cryptocurrency transaction country illegal banning transaction said cryptocurrencies like bitcoin ethereum legal tender cant circulated bitcoin ethereum others dipped friday news beijing twitter allow people tip favorite content creator bitcoin also launch fund pay user host audio chat room spaces feature company said thursdaythe company also said test new way help u ollibitcoin dump chinese condemnation kitco newskitco newslilibitcoin fall china deems cryptocurrency transaction illegalfinancial postlilichina turn screw crypto bitcoin stumblesthe globe maillili know hard fork taking stage sept oct together amazing lineup expert explore future crypto tnw conference secure ticket cryptocurrencies nosedived friday chinas central b china say bitcoin ether used currency world secondlargest economy sending bitcoin cryptolinked stock lower cryptocurrencies since news brokecryptocurrency trader set rocky day chinas central bank announced cryptocurrencyrelated transaction illegal report bloomberg news sent price va china ha reiterated crackdown cryptocurrencies world second largest economy latest statement peoples bank china ha apparently put pressure broader digitalasset complex central bank china announced ban financial institution payment internet company facilitating cryptocurrency trading chinese investor affecting price bitcoin chinas central bank ha declared transaction involving bitcoin virtual currency illegal stepping campaign block use unofficial digital money episode playbook deep dive go rabbit hole crypto trading bitcoin ethereum dogecoin get idea digital currency ha never hotter topic capitol hill regulatory risk rising investor thought cryptocurrencies would recover earlier selloff regulatory risk mounting cryptocurrencies dont often come cheap three solid fundamental value make investor money peoples bank china released note effectively outlawed cryptocurrency china note wa issued people government province autonomous region municipality central government xinjiang production crypto world wa hit hard today chinas powerful regulator made illegal use form cryptocurrencies transaction subsequently price bitcoin plummeted however many within community wh bitcoin cryptos crumbling china flex muscle digital currency china ban crypto ndrc ha undertaken nationwide cleaning cryptocurrency mining add value chinas economic growth avalanches crypto token year date chinas central bank declared friday cryptocurrencies illegal banning cryptorelated transaction cryptocurrency mining according reuterswhy matter chinas government following goal cracking vi\n"
     ]
    }
   ],
   "source": [
    "# Create a new tokens column for Ethereum\n",
    "# Turn the discriptive column into a list of text:\n",
    "eth_text = eth_articles_df['Description'].to_list()\n",
    "for i in range(0, len(eth_text)):\n",
    "    eth_combined_text = ' '.join(eth_text)\n",
    "\n",
    "eth_tokens = tokenizer(eth_combined_text)\n",
    "print(eth_tokens)"
   ]
  },
  {
   "cell_type": "markdown",
   "metadata": {},
   "source": [
    "---"
   ]
  },
  {
   "cell_type": "markdown",
   "metadata": {},
   "source": [
    "### NGrams and Frequency Analysis\n",
    "\n",
    "In this section you will look at the ngrams and word frequency for each coin. \n",
    "\n",
    "1. Use NLTK to produce the n-grams for N = 2. \n",
    "2. List the top 10 words for each coin. "
   ]
  },
  {
   "cell_type": "code",
   "execution_count": 83,
   "metadata": {},
   "outputs": [],
   "source": [
    "from collections import Counter\n",
    "from nltk import ngrams\n",
    "import spacy\n",
    "\n",
    "# Load the English language model for spaCy\n",
    "nlp = spacy.load(\"en_core_web_sm\")"
   ]
  },
  {
   "cell_type": "code",
   "execution_count": 84,
   "metadata": {},
   "outputs": [],
   "source": [
    "def create_bigrams(text):\n",
    "    bigrams = ngrams(text, 2)\n",
    "    output = ['_'.join(i) for i in bigrams]\n",
    "    return ' '.join(output)"
   ]
  },
  {
   "cell_type": "code",
   "execution_count": 85,
   "metadata": {},
   "outputs": [
    {
     "data": {
      "text/plain": [
       "'c_h h_i i_n n_a a_s s_   _c c_e e_n n_t t_r r_a a_l l_   _b b_a a_n n_k k_   _f f_r r_i i_d d_a a_y y_   _s s_a a_i i_d d_   _c c_r r_y y_p p_t t_o o_c c_u u_r r_r r_e e_n n_c c_y y_   _t t_r r_a a_n n_s s_a a_c c_t t_i i_o o_n n_   _c c_o o_u u_n n_t t_r r_y y_   _i i_l l_l l_e e_g g_a a_l l_   _b b_a a_n n_n n_i i_n n_g g_   _t t_r r_a a_n n_s s_a a_c c_t t_i i_o o_n n_   _s s_a a_i i_d d_   _c c_r r_y y_p p_t t_o o_c c_u u_r r_r r_e e_n n_c c_i i_e e_s s_   _l l_i i_k k_e e_   _b b_i i_t t_c c_o o_i i_n n_   _e e_t t_h h_e e_r r_e e_u u_m m_   _l l_e e_g g_a a_l l_   _t t_e e_n n_d d_e e_r r_   _c c_a a_n n_t t_   _c c_i i_r r_c c_u u_l l_a a_t t_e e_d d_   _t t_w w_i i_t t_t t_e e_r r_   _a a_l l_l l_o o_w w_   _p p_e e_o o_p p_l l_e e_   _t t_i i_p p_   _f f_a a_v v_o o_r r_i i_t t_e e_   _c c_o o_n n_t t_e e_n n_t t_   _c c_r r_e e_a a_t t_o o_r r_   _b b_i i_t t_c c_o o_i i_n n_   _a a_l l_s s_o o_   _l l_a a_u u_n n_c c_h h_   _f f_u u_n n_d d_   _p p_a a_y y_   _u u_s s_e e_r r_   _h h_o o_s s_t t_   _a a_u u_d d_i i_o o_   _c c_h h_a a_t t_   _r r_o o_o o_m m_   _s s_p p_a a_c c_e e_s s_   _f f_e e_a a_t t_u u_r r_e e_   _c c_o o_m m_p p_a a_n n_y y_   _s s_a a_i i_d d_   _t t_h h_u u_r r_s s_d d_a a_y y_t t_h h_e e_   _c c_o o_m m_p p_a a_n n_y y_   _a a_l l_s s_o o_   _s s_a a_i i_d d_   _t t_e e_s s_t t_   _n n_e e_w w_   _w w_a a_y y_   _h h_e e_l l_p p_   _u u_   _b b_i i_t t_c c_o o_i i_n n_   _b b_r r_e e_a a_t t_h h_i i_n n_g g_   _n n_e e_w w_   _l l_i i_f f_e e_   _a a_n n_o o_t t_h h_e e_r r_   _a a_i i_l l_i i_n n_g g_   _p p_o o_w w_e e_r r_   _p p_l l_a a_n n_t t_   _c c_h h_i i_n n_a a_   _s s_a a_y y_   _b b_i i_t t_c c_o o_i i_n n_   _e e_t t_h h_e e_r r_   _u u_s s_e e_d d_   _c c_u u_r r_r r_e e_n n_c c_y y_   _w w_o o_r r_l l_d d_   _s s_e e_c c_o o_n n_d d_l l_a a_r r_g g_e e_s s_t t_   _e e_c c_o o_n n_o o_m m_y y_   _s s_e e_n n_d d_i i_n n_g g_   _b b_i i_t t_c c_o o_i i_n n_   _c c_r r_y y_p p_t t_o o_l l_i i_n n_k k_e e_d d_   _s s_t t_o o_c c_k k_   _l l_o o_w w_e e_r r_   _o o_l l_l l_i i_b b_i i_t t_c c_o o_i i_n n_   _d d_u u_m m_p p_   _c c_h h_i i_n n_e e_s s_e e_   _c c_o o_n n_d d_e e_m m_n n_a a_t t_i i_o o_n n_   _k k_i i_t t_c c_o o_   _n n_e e_w w_s s_k k_i i_t t_c c_o o_   _n n_e e_w w_s s_l l_i i_l l_i i_b b_i i_t t_c c_o o_i i_n n_   _f f_a a_l l_l l_   _c c_h h_i i_n n_a a_   _d d_e e_e e_m m_s s_   _c c_r r_y y_p p_t t_o o_c c_u u_r r_r r_e e_n n_c c_y y_   _t t_r r_a a_n n_s s_a a_c c_t t_i i_o o_n n_   _i i_l l_l l_e e_g g_a a_l l_f f_i i_n n_a a_n n_c c_i i_a a_l l_   _p p_o o_s s_t t_l l_i i_l l_i i_c c_h h_i i_n n_a a_   _t t_u u_r r_n n_   _s s_c c_r r_e e_w w_   _c c_r r_y y_p p_t t_o o_   _b b_i i_t t_c c_o o_i i_n n_   _s s_t t_u u_m m_b b_l l_e e_s s_t t_h h_e e_   _g g_l l_o o_b b_e e_   _m m_a a_i i_l l_l l_i i_l l_i i_   _b b_i i_t t_c c_o o_i i_n n_   _f f_e e_l l_l l_   _n n_e e_a a_r r_l l_y y_   _f f_r r_i i_d d_a a_y y_   _c c_h h_i i_n n_a a_s s_   _c c_e e_n n_t t_r r_a a_l l_   _b b_a a_n n_k k_   _s s_a a_i i_d d_   _w w_o o_u u_l l_d d_   _c c_r r_a a_c c_k k_   _c c_r r_y y_p p_t t_o o_c c_u u_r r_r r_e e_n n_c c_y y_   _t t_r r_a a_d d_i i_n n_g g_   _b b_a a_n n_n n_i i_n n_g g_   _o o_v v_e e_r r_s s_e e_a a_s s_   _e e_x x_c c_h h_a a_n n_g g_e e_   _p p_r r_o o_v v_i i_d d_i i_n n_g g_   _s s_e e_r r_v v_i i_c c_e e_   _m m_a a_i i_n n_l l_a a_n n_d d_   _i i_n n_v v_e e_s s_t t_o o_r r_   _c c_h h_i i_n n_a a_s s_   _h h_o o_s s_t t_i i_l l_i i_t t_y y_   _t t_o o_w w_a a_r r_d d_s s_   _c c_r r_y y_p p_t t_o o_   _s s_t t_r r_e e_t t_c c_h h_   _b b_a a_c c_k k_   _c c_o o_u u_n n_t t_r r_y y_   _b b_a a_n n_n n_e e_d d_   _b b_a a_n n_k k_   _h h_a a_n n_d d_l l_i i_n n_g g_   _b b_i i_t t_c c_o o_i i_n n_   _t t_r r_a a_n n_s s_a a_c c_t t_i i_o o_n n_   _c c_h h_i i_n n_a a_s s_   _m m_o o_v v_e e_   _c c_r r_a a_c c_k k_   _b b_i i_t t_c c_o o_i i_n n_   _t t_r r_a a_d d_i i_n n_g g_   _d d_e e_a a_l l_t t_   _a a_n n_o o_t t_h h_e e_r r_   _b b_l l_o o_w w_   _c c_a a_t t_h h_i i_e e_   _w w_o o_o o_d d_s s_   _a a_r r_k k_   _i i_n n_n n_o o_v v_a a_t t_i i_o o_n n_   _f f_u u_n n_d d_   _o o_u u_t t_p p_e e_r r_f f_o o_r r_m m_e e_d d_   _u u_s s_   _e e_q q_u u_i i_t t_y y_   _f f_u u_n n_d d_   _l l_a a_s s_t t_   _y y_e e_a a_r r_   _m m_i i_r r_e e_d d_   _a a_m m_o o_n n_g g_   _w w_o o_r r_s s_t t_   _p p_e e_e e_r r_   _c c_e e_n n_t t_r r_a a_l l_   _b b_a a_n n_k k_   _c c_h h_i i_n n_a a_   _a a_n n_n n_o o_u u_n n_c c_e e_d d_   _b b_a a_n n_   _f f_i i_n n_a a_n n_c c_i i_a a_l l_   _i i_n n_s s_t t_i i_t t_u u_t t_i i_o o_n n_   _p p_a a_y y_m m_e e_n n_t t_   _i i_n n_t t_e e_r r_n n_e e_t t_   _c c_o o_m m_p p_a a_n n_y y_   _f f_a a_c c_i i_l l_i i_t t_a a_t t_i i_n n_g g_   _c c_r r_y y_p p_t t_o o_c c_u u_r r_r r_e e_n n_c c_y y_   _t t_r r_a a_d d_i i_n n_g g_   _c c_h h_i i_n n_e e_s s_e e_   _i i_n n_v v_e e_s s_t t_o o_r r_   _a a_f f_f f_e e_c c_t t_i i_n n_g g_   _p p_r r_i i_c c_e e_   _b b_i i_t t_c c_o o_i i_n n_   _c c_e e_n n_t t_r r_a a_l l_   _b b_a a_n n_k k_   _s s_a a_y y_   _c c_r r_y y_p p_t t_o o_   _c c_u u_r r_r r_e e_n n_c c_y y_   _i i_n n_c c_l l_u u_d d_i i_n n_g g_   _b b_i i_t t_c c_o o_i i_n n_   _t t_e e_t t_h h_e e_r r_   _f f_i i_a a_t t_   _c c_u u_r r_r r_e e_n n_c c_y y_   _c c_i i_r r_c c_u u_l l_a a_t t_e e_d d_   _m m_a a_r r_k k_e e_t t_   _i i_o o_s s_   _u u_s s_e e_r r_   _g g_e e_t t_   _f f_e e_a a_t t_u u_r r_e e_   _f f_i i_r r_s s_t t_   _f f_o o_l l_l l_o o_w w_e e_d d_   _a a_n n_d d_r r_o o_i i_d d_   _u u_s s_e e_r r_   _c c_o o_m m_i i_n n_g g_   _w w_e e_e e_k k_   _k k_n n_o o_w w_   _h h_a a_r r_d d_   _f f_o o_r r_k k_   _t t_a a_k k_i i_n n_g g_   _s s_t t_a a_g g_e e_   _s s_e e_p p_t t_   _o o_c c_t t_   _t t_o o_g g_e e_t t_h h_e e_r r_   _a a_m m_a a_z z_i i_n n_g g_   _l l_i i_n n_e e_u u_p p_   _e e_x x_p p_e e_r r_t t_   _e e_x x_p p_l l_o o_r r_e e_   _f f_u u_t t_u u_r r_e e_   _c c_r r_y y_p p_t t_o o_   _t t_n n_w w_   _c c_o o_n n_f f_e e_r r_e e_n n_c c_e e_   _s s_e e_c c_u u_r r_e e_   _t t_i i_c c_k k_e e_t t_   _c c_r r_y y_p p_t t_o o_c c_u u_r r_r r_e e_n n_c c_i i_e e_s s_   _n n_o o_s s_e e_d d_i i_v v_e e_d d_   _f f_r r_i i_d d_a a_y y_   _c c_h h_i i_n n_a a_s s_   _c c_e e_n n_t t_r r_a a_l l_   _b b_   _c c_h h_i i_n n_a a_s s_   _c c_e e_n n_t t_r r_a a_l l_   _b b_a a_n n_k k_   _v v_o o_w w_e e_d d_   _f f_r r_i i_d d_a a_y y_   _c c_r r_a a_c c_k k_   _i i_l l_l l_e e_g g_a a_l l_   _a a_c c_t t_i i_v v_i i_t t_y y_   _c c_r r_y y_p p_t t_o o_c c_u u_r r_r r_e e_n n_c c_y y_   _t t_r r_a a_d d_i i_n n_g g_   _b b_a a_n n_n n_i i_n n_g g_   _o o_v v_e e_r r_s s_e e_a a_s s_   _e e_x x_c c_h h_a a_n n_g g_e e_   _p p_r r_o o_v v_i i_d d_i i_n n_g g_   _s s_e e_r r_v v_i i_c c_e e_   _m m_a a_i i_n n_l l_a a_n n_d d_   _i i_n n_v v_e e_s s_t t_o o_r r_   _v v_i i_a a_   _i i_n n_t t_e e_r r_n n_e e_t t_   _c c_h h_i i_n n_a a_s s_   _c c_e e_n n_t t_r r_a a_l l_   _b b_a a_n n_k k_   _v v_o o_w w_e e_d d_   _f f_r r_i i_d d_a a_y y_   _c c_r r_a a_c c_k k_   _i i_l l_l l_e e_g g_a a_l l_   _a a_c c_t t_i i_v v_i i_t t_y y_   _c c_r r_y y_p p_t t_o o_c c_u u_r r_r r_e e_n n_c c_y y_   _t t_r r_a a_d d_i i_n n_g g_   _b b_a a_n n_n n_i i_n n_g g_   _o o_v v_e e_r r_s s_e e_a a_s s_   _e e_x x_c c_h h_a a_n n_g g_e e_   _p p_r r_o o_v v_i i_d d_i i_n n_g g_   _s s_e e_r r_v v_i i_c c_e e_   _m m_a a_i i_n n_l l_a a_n n_d d_   _i i_n n_v v_e e_s s_t t_o o_r r_   _v v_i i_a a_   _i i_n n_t t_e e_r r_n n_e e_t t_   _b b_i i_t t_c c_o o_i i_n n_   _e e_t t_h h_e e_r r_e e_u u_m m_   _o o_t t_h h_e e_r r_s s_   _d d_i i_p p_p p_e e_d d_   _f f_r r_i i_d d_a a_y y_   _n n_e e_w w_s s_   _b b_e e_i i_j j_i i_n n_g g_   _p p_e e_o o_p p_l l_e e_s s_   _b b_a a_n n_k k_   _c c_h h_i i_n n_a a_   _s s_t t_a a_t t_e e_d d_   _c c_r r_y y_p p_t t_o o_c c_u u_r r_r r_e e_n n_c c_y y_   _t t_r r_a a_n n_s s_a a_c c_t t_i i_o o_n n_   _i i_l l_l l_e e_g g_a a_l l_   _c c_o o_n n_t t_i i_n n_u u_i i_n n_g g_   _l l_o o_n n_g g_   _h h_i i_s s_t t_o o_r r_y y_   _a a_t t_t t_e e_m m_p p_t t_   _s s_t t_a a_m m_p p_   _i i_n n_d d_u u_s s_t t_r r_y y_   _c c_r r_y y_p p_t t_o o_c c_u u_r r_r r_e e_n n_c c_i i_e e_s s_   _s s_i i_n n_c c_e e_   _n n_e e_w w_s s_   _b b_r r_o o_k k_e e_c c_r r_y y_p p_t t_o o_c c_u u_r r_r r_e e_n n_c c_y y_   _t t_r r_a a_d d_e e_r r_   _s s_e e_t t_   _r r_o o_c c_k k_y y_   _d d_a a_y y_   _c c_h h_i i_n n_a a_s s_   _c c_e e_n n_t t_r r_a a_l l_   _b b_a a_n n_k k_   _a a_n n_n n_o o_u u_n n_c c_e e_d d_   _c c_r r_y y_p p_t t_o o_c c_u u_r r_r r_e e_n n_c c_y y_r r_e e_l l_a a_t t_e e_d d_   _t t_r r_a a_n n_s s_a a_c c_t t_i i_o o_n n_   _i i_l l_l l_e e_g g_a a_l l_   _r r_e e_p p_o o_r r_t t_   _b b_l l_o o_o o_m m_b b_e e_r r_g g_   _n n_e e_w w_s s_   _s s_e e_n n_t t_   _p p_r r_i i_c c_e e_   _v v_a a_   _c c_h h_i i_n n_a a_s s_   _c c_e e_n n_t t_r r_a a_l l_   _b b_a a_n n_k k_   _h h_a a_   _d d_e e_c c_l l_a a_r r_e e_d d_   _t t_r r_a a_n n_s s_a a_c c_t t_i i_o o_n n_   _i i_n n_v v_o o_l l_v v_i i_n n_g g_   _b b_i i_t t_c c_o o_i i_n n_   _v v_i i_r r_t t_u u_a a_l l_   _c c_u u_r r_r r_e e_n n_c c_y y_   _i i_l l_l l_e e_g g_a a_l l_   _s s_t t_e e_p p_p p_i i_n n_g g_   _c c_a a_m m_p p_a a_i i_g g_n n_   _b b_l l_o o_c c_k k_   _u u_s s_e e_   _u u_n n_o o_f f_f f_i i_c c_i i_a a_l l_   _d d_i i_g g_i i_t t_a a_l l_   _m m_o o_n n_e e_y y_   _p p_e e_o o_p p_l l_e e_s s_   _b b_a a_n n_k k_   _c c_h h_i i_n n_a a_   _h h_a a_   _d d_e e_c c_l l_a a_r r_e e_d d_   _c c_r r_y y_p p_t t_o o_c c_u u_r r_r r_e e_n n_c c_y y_   _p p_a a_y y_m m_e e_n n_t t_   _i i_l l_l l_e e_g g_a a_l l_   _d d_e e_l l_i i_v v_e e_r r_i i_n n_g g_   _u u_n n_e e_x x_p p_e e_c c_t t_e e_d d_   _d d_o o_s s_e e_   _u u_n n_c c_e e_r r_t t_a a_i i_n n_t t_y y_   _m m_o o_n n_e e_y y_   _m m_a a_r r_k k_e e_t t_   _d d_o o_l l_l l_a a_r r_   _w w_a a_   _t t_r r_a a_c c_k k_   _b b_i i_g g_g g_e e_s s_t t_   _d d_a a_i i_l l_y y_   _p p_e e_r r_c c_e e_n n_t t_a a_g g_e e_   _g g_a a_i i_n n_   _b b_a a_s s_k k_e e_t t_   _m m_a a_j j_o o_r r_   _c c_u u_r r_r r_e e_n n_c c_y y_   _w w_e e_e e_k k_   _f f_r r_i i_d d_a a_y y_   _u u_n n_c c_e e_r r_t t_a a_i i_n n_t t_y y_   _b b_e e_l l_e e_a a_g g_u u_e e_r r_e e_d d_   _c c_h h_i i_n n_e e_s s_e e_   _p p_r r_o o_p p_e e_r r_t t_y y_   _d d_e e_v v_e e_l l_o o_p p_e e_r r_   _e e_v v_e e_r r_g g_r r_a a_n n_d d_e e_   _h h_e e_l l_p p_e e_d d_   _g g_r r_e e_e e_n n_b b_a a_c c_k k_   _b b_o o_u u_n n_c c_e e_   _b b_a a_c c_k k_   _s s_h h_a a_r r_p p_   _d d_e e_c c_l l_i i_n n_e e_   _p p_r r_i i_o o_r r_   _s s_e'"
      ]
     },
     "execution_count": 85,
     "metadata": {},
     "output_type": "execute_result"
    }
   ],
   "source": [
    "# Generate the Bitcoin N-grams where N=2\n",
    "btc_bigrams = create_bigrams(btc_tokens)\n",
    "btc_bigrams"
   ]
  },
  {
   "cell_type": "code",
   "execution_count": 17,
   "metadata": {},
   "outputs": [],
   "source": [
    "# Generate the Ethereum N-grams where N=2\n",
    "# YOUR CODE HERE!"
   ]
  },
  {
   "cell_type": "code",
   "execution_count": 18,
   "metadata": {},
   "outputs": [],
   "source": [
    "# Function token_count generates the top 10 words for a given coin\n",
    "def token_count(tokens, N=3):\n",
    "    \"\"\"Returns the top N tokens from the frequency count\"\"\"\n",
    "    return Counter(tokens).most_common(N)"
   ]
  },
  {
   "cell_type": "code",
   "execution_count": 19,
   "metadata": {},
   "outputs": [],
   "source": [
    "# Use token_count to get the top 10 words for Bitcoin\n",
    "# YOUR CODE HERE!"
   ]
  },
  {
   "cell_type": "code",
   "execution_count": 78,
   "metadata": {},
   "outputs": [],
   "source": [
    "# Get a list of Adjectives, Nouns, and Proper Nouns from text.  Returns each word with a count.\n",
    "def most_freq_words(text):\n",
    "    \"\"\"\n",
    "    This function gets all of the adjectives and nouns in the text.\n",
    "    Args:  text (string):  The text to analyze\n",
    "    Returns:  most_common_word(list):  A list with all Adjectives, Nouns, and Proper Nouns\n",
    "    \"\"\"\n",
    "    # Tokenizes text and parse each token\n",
    "    doc = nlp(text)\n",
    "    \n",
    "    # Creates a list with all the adjectives in the text\n",
    "    words = [token.text.lower() for token in doc if ((token.pos_ == 'ADJ') or (token.pos_ == 'PROPN') or (token.pos_ == 'NOUN'))]\n",
    "    \n",
    "    # Retrieves the most frequent adjective in the `adjs` list using the Counter module\n",
    "    most_common_word = Counter( words).most_common(1)\n",
    "    \n",
    "    return most_common_word\n",
    "\n",
    "count_words = lambda x: most_freq_words(x)"
   ]
  },
  {
   "cell_type": "code",
   "execution_count": 79,
   "metadata": {},
   "outputs": [],
   "source": [
    "# Create a list most common words\n",
    "word_count = btc_articles_df['Description'].apply(count_words)"
   ]
  },
  {
   "cell_type": "code",
   "execution_count": 83,
   "metadata": {},
   "outputs": [
    {
     "name": "stdout",
     "output_type": "stream",
     "text": [
      "0              [(el, 1)]\n",
      "1         [(bitcoin, 2)]\n",
      "2        [(analysts, 1)]\n",
      "3            [(many, 2)]\n",
      "4        [(exchange, 2)]\n",
      "5      [(blockchain, 1)]\n",
      "6        [(offshore, 1)]\n",
      "7           [(total, 1)]\n",
      "8           [(forex, 1)]\n",
      "9    [(transactions, 2)]\n",
      "Name: Description, dtype: object\n"
     ]
    }
   ],
   "source": [
    "# Display Sample\n",
    "print(word_count[:10])"
   ]
  },
  {
   "cell_type": "code",
   "execution_count": 81,
   "metadata": {},
   "outputs": [
    {
     "data": {
      "text/plain": [
       "pandas.core.series.Series"
      ]
     },
     "execution_count": 81,
     "metadata": {},
     "output_type": "execute_result"
    }
   ],
   "source": [
    "type(word_count)"
   ]
  },
  {
   "cell_type": "markdown",
   "metadata": {},
   "source": [
    "#### Use the \"most_common()\" function from the Counter module to fetcht the the 10 most frequent words in the articles.  \n",
    "The \"most_common()\" function returns a Python list that can be stored in the variable most_frequent_words."
   ]
  },
  {
   "cell_type": "code",
   "execution_count": 84,
   "metadata": {},
   "outputs": [
    {
     "ename": "TypeError",
     "evalue": "unhashable type: 'list'",
     "output_type": "error",
     "traceback": [
      "\u001b[1;31m---------------------------------------------------------------------------\u001b[0m",
      "\u001b[1;31mTypeError\u001b[0m                                 Traceback (most recent call last)",
      "\u001b[1;32m<ipython-input-84-58f9f3fb7d61>\u001b[0m in \u001b[0;36m<module>\u001b[1;34m\u001b[0m\n\u001b[0;32m      1\u001b[0m \u001b[1;31m# Retreive the most frequent words:\u001b[0m\u001b[1;33m\u001b[0m\u001b[1;33m\u001b[0m\u001b[1;33m\u001b[0m\u001b[0m\n\u001b[1;32m----> 2\u001b[1;33m \u001b[0mmost_frequent_words\u001b[0m \u001b[1;33m=\u001b[0m \u001b[0mCounter\u001b[0m\u001b[1;33m(\u001b[0m\u001b[0mword_count\u001b[0m\u001b[1;33m)\u001b[0m\u001b[1;33m.\u001b[0m\u001b[0mmost_common\u001b[0m\u001b[1;33m(\u001b[0m\u001b[1;36m10\u001b[0m\u001b[1;33m)\u001b[0m\u001b[1;33m\u001b[0m\u001b[1;33m\u001b[0m\u001b[0m\n\u001b[0m\u001b[0;32m      3\u001b[0m \u001b[0mprint\u001b[0m\u001b[1;33m(\u001b[0m\u001b[0mmost_frequent_words\u001b[0m\u001b[1;33m)\u001b[0m\u001b[1;33m\u001b[0m\u001b[1;33m\u001b[0m\u001b[0m\n",
      "\u001b[1;32m~\\anaconda3\\envs\\nlpenv\\lib\\collections\\__init__.py\u001b[0m in \u001b[0;36m__init__\u001b[1;34m(*args, **kwds)\u001b[0m\n\u001b[0;32m    566\u001b[0m             \u001b[1;32mraise\u001b[0m \u001b[0mTypeError\u001b[0m\u001b[1;33m(\u001b[0m\u001b[1;34m'expected at most 1 arguments, got %d'\u001b[0m \u001b[1;33m%\u001b[0m \u001b[0mlen\u001b[0m\u001b[1;33m(\u001b[0m\u001b[0margs\u001b[0m\u001b[1;33m)\u001b[0m\u001b[1;33m)\u001b[0m\u001b[1;33m\u001b[0m\u001b[1;33m\u001b[0m\u001b[0m\n\u001b[0;32m    567\u001b[0m         \u001b[0msuper\u001b[0m\u001b[1;33m(\u001b[0m\u001b[0mCounter\u001b[0m\u001b[1;33m,\u001b[0m \u001b[0mself\u001b[0m\u001b[1;33m)\u001b[0m\u001b[1;33m.\u001b[0m\u001b[0m__init__\u001b[0m\u001b[1;33m(\u001b[0m\u001b[1;33m)\u001b[0m\u001b[1;33m\u001b[0m\u001b[1;33m\u001b[0m\u001b[0m\n\u001b[1;32m--> 568\u001b[1;33m         \u001b[0mself\u001b[0m\u001b[1;33m.\u001b[0m\u001b[0mupdate\u001b[0m\u001b[1;33m(\u001b[0m\u001b[1;33m*\u001b[0m\u001b[0margs\u001b[0m\u001b[1;33m,\u001b[0m \u001b[1;33m**\u001b[0m\u001b[0mkwds\u001b[0m\u001b[1;33m)\u001b[0m\u001b[1;33m\u001b[0m\u001b[1;33m\u001b[0m\u001b[0m\n\u001b[0m\u001b[0;32m    569\u001b[0m \u001b[1;33m\u001b[0m\u001b[0m\n\u001b[0;32m    570\u001b[0m     \u001b[1;32mdef\u001b[0m \u001b[0m__missing__\u001b[0m\u001b[1;33m(\u001b[0m\u001b[0mself\u001b[0m\u001b[1;33m,\u001b[0m \u001b[0mkey\u001b[0m\u001b[1;33m)\u001b[0m\u001b[1;33m:\u001b[0m\u001b[1;33m\u001b[0m\u001b[1;33m\u001b[0m\u001b[0m\n",
      "\u001b[1;32m~\\anaconda3\\envs\\nlpenv\\lib\\collections\\__init__.py\u001b[0m in \u001b[0;36mupdate\u001b[1;34m(*args, **kwds)\u001b[0m\n\u001b[0;32m    653\u001b[0m                     \u001b[0msuper\u001b[0m\u001b[1;33m(\u001b[0m\u001b[0mCounter\u001b[0m\u001b[1;33m,\u001b[0m \u001b[0mself\u001b[0m\u001b[1;33m)\u001b[0m\u001b[1;33m.\u001b[0m\u001b[0mupdate\u001b[0m\u001b[1;33m(\u001b[0m\u001b[0miterable\u001b[0m\u001b[1;33m)\u001b[0m \u001b[1;31m# fast path when counter is empty\u001b[0m\u001b[1;33m\u001b[0m\u001b[1;33m\u001b[0m\u001b[0m\n\u001b[0;32m    654\u001b[0m             \u001b[1;32melse\u001b[0m\u001b[1;33m:\u001b[0m\u001b[1;33m\u001b[0m\u001b[1;33m\u001b[0m\u001b[0m\n\u001b[1;32m--> 655\u001b[1;33m                 \u001b[0m_count_elements\u001b[0m\u001b[1;33m(\u001b[0m\u001b[0mself\u001b[0m\u001b[1;33m,\u001b[0m \u001b[0miterable\u001b[0m\u001b[1;33m)\u001b[0m\u001b[1;33m\u001b[0m\u001b[1;33m\u001b[0m\u001b[0m\n\u001b[0m\u001b[0;32m    656\u001b[0m         \u001b[1;32mif\u001b[0m \u001b[0mkwds\u001b[0m\u001b[1;33m:\u001b[0m\u001b[1;33m\u001b[0m\u001b[1;33m\u001b[0m\u001b[0m\n\u001b[0;32m    657\u001b[0m             \u001b[0mself\u001b[0m\u001b[1;33m.\u001b[0m\u001b[0mupdate\u001b[0m\u001b[1;33m(\u001b[0m\u001b[0mkwds\u001b[0m\u001b[1;33m)\u001b[0m\u001b[1;33m\u001b[0m\u001b[1;33m\u001b[0m\u001b[0m\n",
      "\u001b[1;31mTypeError\u001b[0m: unhashable type: 'list'"
     ]
    }
   ],
   "source": [
    "# Retreive the most frequent words:\n",
    "most_frequent_words = Counter(word_count).most_common(10)\n",
    "print(most_frequent_words)"
   ]
  },
  {
   "cell_type": "code",
   "execution_count": null,
   "metadata": {},
   "outputs": [],
   "source": []
  },
  {
   "cell_type": "code",
   "execution_count": null,
   "metadata": {},
   "outputs": [],
   "source": [
    "# Review functionality of the most common word for each article:\n"
   ]
  },
  {
   "cell_type": "code",
   "execution_count": null,
   "metadata": {},
   "outputs": [],
   "source": []
  },
  {
   "cell_type": "code",
   "execution_count": 20,
   "metadata": {},
   "outputs": [],
   "source": [
    "# Use token_count to get the top 10 words for Ethereum\n",
    "# YOUR CODE HERE!"
   ]
  },
  {
   "cell_type": "markdown",
   "metadata": {},
   "source": [
    "---"
   ]
  },
  {
   "cell_type": "markdown",
   "metadata": {},
   "source": [
    "### Word Clouds\n",
    "\n",
    "In this section, you will generate word clouds for each coin to summarize the news for each coin"
   ]
  },
  {
   "cell_type": "code",
   "execution_count": 21,
   "metadata": {},
   "outputs": [],
   "source": [
    "from wordcloud import WordCloud\n",
    "import matplotlib.pyplot as plt\n",
    "plt.style.use('seaborn-whitegrid')\n",
    "import matplotlib as mpl\n",
    "mpl.rcParams['figure.figsize'] = [20.0, 10.0]"
   ]
  },
  {
   "cell_type": "code",
   "execution_count": 22,
   "metadata": {},
   "outputs": [],
   "source": [
    "# Generate the Bitcoin word cloud\n",
    "# YOUR CODE HERE!"
   ]
  },
  {
   "cell_type": "code",
   "execution_count": 23,
   "metadata": {},
   "outputs": [],
   "source": [
    "# Generate the Ethereum word cloud\n",
    "# YOUR CODE HERE!"
   ]
  },
  {
   "cell_type": "markdown",
   "metadata": {},
   "source": [
    "---\n",
    "## 3. Named Entity Recognition\n",
    "\n",
    "In this section, you will build a named entity recognition model for both Bitcoin and Ethereum, then visualize the tags using SpaCy."
   ]
  },
  {
   "cell_type": "code",
   "execution_count": 24,
   "metadata": {},
   "outputs": [],
   "source": [
    "import spacy\n",
    "from spacy import displacy"
   ]
  },
  {
   "cell_type": "code",
   "execution_count": 25,
   "metadata": {},
   "outputs": [],
   "source": [
    "# Download the language model for SpaCy\n",
    "# !python -m spacy download en_core_web_sm"
   ]
  },
  {
   "cell_type": "code",
   "execution_count": 26,
   "metadata": {},
   "outputs": [],
   "source": [
    "# Load the spaCy model\n",
    "nlp = spacy.load('en_core_web_sm')"
   ]
  },
  {
   "cell_type": "markdown",
   "metadata": {},
   "source": [
    "---\n",
    "### Bitcoin NER"
   ]
  },
  {
   "cell_type": "code",
   "execution_count": 27,
   "metadata": {},
   "outputs": [],
   "source": [
    "# Concatenate all of the Bitcoin text together\n",
    "# YOUR CODE HERE!"
   ]
  },
  {
   "cell_type": "code",
   "execution_count": 28,
   "metadata": {},
   "outputs": [],
   "source": [
    "# Run the NER processor on all of the text\n",
    "# YOUR CODE HERE!\n",
    "\n",
    "# Add a title to the document\n",
    "# YOUR CODE HERE!"
   ]
  },
  {
   "cell_type": "code",
   "execution_count": 29,
   "metadata": {},
   "outputs": [],
   "source": [
    "# Render the visualization\n",
    "# YOUR CODE HERE!"
   ]
  },
  {
   "cell_type": "code",
   "execution_count": 30,
   "metadata": {},
   "outputs": [],
   "source": [
    "# List all Entities\n",
    "# YOUR CODE HERE!"
   ]
  },
  {
   "cell_type": "markdown",
   "metadata": {},
   "source": [
    "---"
   ]
  },
  {
   "cell_type": "markdown",
   "metadata": {},
   "source": [
    "### Ethereum NER"
   ]
  },
  {
   "cell_type": "code",
   "execution_count": 31,
   "metadata": {},
   "outputs": [],
   "source": [
    "# Concatenate all of the Ethereum text together\n",
    "# YOUR CODE HERE!"
   ]
  },
  {
   "cell_type": "code",
   "execution_count": 32,
   "metadata": {},
   "outputs": [],
   "source": [
    "# Run the NER processor on all of the text\n",
    "# YOUR CODE HERE!\n",
    "\n",
    "# Add a title to the document\n",
    "# YOUR CODE HERE!"
   ]
  },
  {
   "cell_type": "code",
   "execution_count": 33,
   "metadata": {},
   "outputs": [],
   "source": [
    "# Render the visualization\n",
    "# YOUR CODE HERE!"
   ]
  },
  {
   "cell_type": "code",
   "execution_count": 34,
   "metadata": {},
   "outputs": [],
   "source": [
    "# List all Entities\n",
    "# YOUR CODE HERE!"
   ]
  },
  {
   "cell_type": "markdown",
   "metadata": {},
   "source": [
    "---"
   ]
  }
 ],
 "metadata": {
  "file_extension": ".py",
  "kernelspec": {
   "display_name": "Python [conda env:nlpenv]",
   "language": "python",
   "name": "conda-env-nlpenv-py"
  },
  "language_info": {
   "codemirror_mode": {
    "name": "ipython",
    "version": 3
   },
   "file_extension": ".py",
   "mimetype": "text/x-python",
   "name": "python",
   "nbconvert_exporter": "python",
   "pygments_lexer": "ipython3",
   "version": "3.7.10"
  },
  "mimetype": "text/x-python",
  "name": "python",
  "npconvert_exporter": "python",
  "pygments_lexer": "ipython3",
  "version": 3
 },
 "nbformat": 4,
 "nbformat_minor": 4
}
